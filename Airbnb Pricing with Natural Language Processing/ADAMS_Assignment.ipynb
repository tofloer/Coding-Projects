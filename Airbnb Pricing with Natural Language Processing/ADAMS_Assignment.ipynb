{
 "cells": [
  {
   "cell_type": "markdown",
   "metadata": {},
   "source": [
    "##### Author: Tobias Flörchinger, 608227, floercht@hu-berlin.de"
   ]
  },
  {
   "cell_type": "markdown",
   "metadata": {},
   "source": [
    "# Advanced Data Analytics for Management Support - <br> Assignment Submission"
   ]
  },
  {
   "cell_type": "markdown",
   "metadata": {},
   "source": [
    "## Table of Contents\n",
    "1. [Introduction](#first-bullet)\n",
    "2. [Exploratory Data Analysis & Pre-Processing of non-Text Data](#second-bullet)\n",
    "<br> 2.1 Host Features\n",
    "<br> 2.2 Location Features\n",
    "<br> 2.3 Airbnb Typ, Furnishing & Equipment\n",
    "<br> 2.4 Reviews & Cancellation\n",
    "<br> 2.5 Airbnb Prices\n",
    "3. [Text Data Pre-Processing](#third-bullet)\n",
    "<br> 3.1 Subset Detection\n",
    "<br> 3.2 Text Data Cleaning & Correction\n",
    "4. [Feature Engineering & Selection](#fourth-bullet)\n",
    "<br> 4.1 Meta Data, Transformations & Dummy Encoding\n",
    "<br> 4.2 Non-Text Feature Selection\n",
    "5. [Natural Language Processing & Transfer Learning](#fifth-bullet)\n",
    "<br> 5.1 Latent Semantic Analysis\n",
    "<br> 5.2 Fine-Tuned Sentence-BERT\n",
    "<br> 5.3 Recurrent Neural Networks \n",
    "6. [Feedforward Neural Network for Price Prediction](#sixth-bullet)\n",
    "7. [Conclusion](#seventh-bullet)\n",
    "8. [Literature](#eight-bullet)"
   ]
  },
  {
   "cell_type": "markdown",
   "metadata": {},
   "source": [
    "## 1. Introduction <a class='anchor' id='first-bullet'></a>\n",
    "\n",
    "The pricing of a Airbnb unit is an important consideration for hosts that are about to list their properties on the platform. The high competition - especially in huge cities like London - makes the span, between being overpriced and less considered by customers or underpriced and booked up with potential revenue losses, quite small. Hence finding an optimum occupancy that maximizes revenues in the inverse relationship between price and occupancy is desirable. This represent a potential real world used-case of this notebook, even though it will not be of central interest for the sake of the assignment.\n",
    "\n",
    "According to the description of the underlying kaggle challenge the aim of this assignment is to predict the price of Airbnb listings in the London area. Those are given as costs a customer faces when booking a one night stay. The structure of the two provided raw datasets - `train` and `test` - indicates a supervised learning problem with `train` having labeled prices. Further they both include tabular and text data that are to be combined for `price` prediction using NLP techniques. For the predictions a Neural Network based model needs to build. The additional resources listing reviews and property images will not be used in this notebook.\n",
    "\n",
    "Let's first check whether all required modules are installed. Note that missing modules have to be installed manually i.e. using `pip`."
   ]
  },
  {
   "cell_type": "code",
   "execution_count": 1,
   "metadata": {},
   "outputs": [
    {
     "name": "stdout",
     "output_type": "stream",
     "text": [
      "Module is already installed: pandas\n",
      "Module is already installed: numpy\n",
      "Module is already installed: matplotlib\n",
      "Module is already installed: matplotlib-venn\n",
      "Module is already installed: scikit-learn\n",
      "Module is already installed: regex\n",
      "Module is already installed: beautifulsoup4\n",
      "Module is already installed: nltk\n",
      "Module is already installed: gensim\n",
      "Module is already installed: langdetect\n",
      "Module is already installed: inflect\n",
      "Module is already installed: pyenchant\n",
      "Module is already installed: torch\n",
      "Module is already installed: tensorflow\n",
      "Module is already installed: transformers\n",
      "Module is already installed: sentence-transformers\n"
     ]
    }
   ],
   "source": [
    "packages_installed = !pip list # Get a list of installed packages\n",
    "packages_installed = [x.split()[0] for x in packages_installed] # Get names and convertion to list\n",
    "\n",
    "# Needed packages\n",
    "needed_packages = ['pandas', 'numpy', 'matplotlib', 'matplotlib-venn', 'scikit-learn', 'regex', \n",
    "                   'beautifulsoup4', 'nltk', 'gensim', 'langdetect', 'inflect', 'pyenchant',\n",
    "                   'torch', 'tensorflow', 'transformers', 'sentence-transformers'] \n",
    "\n",
    "# Iterate over needed packages and check whether they are installed\n",
    "for pack in needed_packages:\n",
    "    if pack in packages_installed:\n",
    "        print('Module is already installed: %s' %pack)\n",
    "    else:\n",
    "        print('NOTE: Module %s needs to be installed!' %pack) "
   ]
  },
  {
   "cell_type": "markdown",
   "metadata": {},
   "source": [
    "With all modules being installed the required libraries and functions can be imported."
   ]
  },
  {
   "cell_type": "code",
   "execution_count": 2,
   "metadata": {},
   "outputs": [],
   "source": [
    "import os # Importing and writing data\n",
    "import numpy as np # Numerical operations\n",
    "import pandas as pd # General data managment & wrangling \n",
    "import re # Regular expressions functionality\n",
    "import time # Track runtimes\n",
    "import pickle # Saving and loaded objects\n",
    "import random # Get random sequence\n",
    "import multiprocessing # Core detection\n",
    "from numpy.random import seed # Set random state\n",
    "\n",
    "# For plots\n",
    "import matplotlib.pyplot as plt\n",
    "from matplotlib_venn import venn2\n",
    "\n",
    "# Mainly for the NLP pre-processing workflow\n",
    "import datetime\n",
    "import inflect\n",
    "import enchant\n",
    "from langdetect import detect\n",
    "import nltk\n",
    "from nltk.corpus import wordnet\n",
    "from nltk.corpus import stopwords\n",
    "from nltk.stem import WordNetLemmatizer\n",
    "from nltk.tokenize import word_tokenize\n",
    "from nltk.tokenize.treebank import TreebankWordDetokenizer\n",
    "from bs4 import BeautifulSoup\n",
    "from collections import Counter\n",
    "from gensim.models import KeyedVectors, Word2Vec\n",
    "from gensim.models.keyedvectors import Word2VecKeyedVectors\n",
    "\n",
    "# For Latent Semantic Analysis, general model & feature selection as well as feature scaling\n",
    "from sklearn.feature_extraction.text import CountVectorizer, TfidfVectorizer\n",
    "from sklearn.decomposition import PCA, TruncatedSVD\n",
    "from sklearn import metrics\n",
    "from sklearn.metrics import mean_squared_error\n",
    "from sklearn.model_selection import GridSearchCV\n",
    "from sklearn.model_selection import train_test_split\n",
    "from sklearn.linear_model import Lasso, LinearRegression\n",
    "from sklearn.preprocessing import StandardScaler, RobustScaler\n",
    "\n",
    "# For Sentence-BERT\n",
    "import torch\n",
    "import transformers\n",
    "from torch.utils.data import DataLoader\n",
    "from sentence_transformers import losses as losses_trans\n",
    "from sentence_transformers import SentenceTransformer, models, InputExample, evaluation\n",
    "\n",
    "# For Recurrent and Feedforward Neural Networks\n",
    "from tensorflow.keras.preprocessing.text import Tokenizer\n",
    "from tensorflow.keras.preprocessing.sequence import pad_sequences\n",
    "import tensorflow as tf\n",
    "import tensorflow.keras\n",
    "from tensorflow.keras.models import Sequential, Model \n",
    "from tensorflow.keras.wrappers.scikit_learn import KerasRegressor\n",
    "from tensorflow.keras.callbacks import EarlyStopping\n",
    "from tensorflow.keras.initializers import Constant, he_normal\n",
    "from tensorflow.keras import initializers, optimizers, regularizers\n",
    "from tensorflow.keras.layers import Input, concatenate, Dense, Embedding, GRU, LSTM, Bidirectional, Dropout\n",
    "from tensorflow.keras import activations, losses, initializers, optimizers, regularizers"
   ]
  },
  {
   "cell_type": "markdown",
   "metadata": {},
   "source": [
    "Note that the models of this Notebooke are trained on the CPU. In the most cases this ensures reproducibility but it is also computationally expensive. Hence [data and interim results are provided via a cloud service](https://www.dropbox.com/sh/5of2lc58qmkk8bk/AADzQndCICjT1lAQo6Mp3RHFa?dl=0) and can be loaded to bypass time consuming sections. For writing and reading data the directory of the notebook is used and hence it is saved as `path`. At first the assignment datasets `train.csv` and `test.csv` are loaded from there and labeled as `df_known` and `df_unknown`."
   ]
  },
  {
   "cell_type": "code",
   "execution_count": 3,
   "metadata": {},
   "outputs": [],
   "source": [
    "# Define dirctory of the notebook as path\n",
    "path = os.path.dirname(os.path.realpath('608227.ipynb'))\n",
    "\n",
    "# Load assignment datasets \n",
    "df_known = pd.read_csv(os.path.join(path, 'train.csv'))\n",
    "df_unknown = pd.read_csv(os.path.join(path, 'test.csv'))\n",
    "\n",
    "# Merge datasets for text data pre-processing\n",
    "df_merged = pd.concat([df_known,df_unknown]).reset_index(drop=True)"
   ]
  },
  {
   "cell_type": "markdown",
   "metadata": {},
   "source": [
    "With the following chapters the notebook entails a initial exploratory data analysis with data preperation of non-text data, a stand alone section for preperation of text data, feature engineering & selection of non-text data, feature extraction from text data with NLP techniques as well as their selection and finally the creation of a Neural Network model for the prediction of Airbnb prices."
   ]
  },
  {
   "cell_type": "markdown",
   "metadata": {},
   "source": [
    "## 2. Exploratory Data Analysis & Pre-Processing of non-Text Data  <a class='anchor' id='second-bullet'></a>\n",
    "At first the raw datasets are investigated in an explanatory way to gain insights about data peculiarities and structures. Summary statistics and graphical representations come in handy here. The aim is to improve the understanding for the features and to collect ideas for the subsequent sections. Whenever necessary non-text data is pre-processed. Note that a related [public notebook](https://github.com/L-Lewis/Airbnb-neural-network-price-prediction/blob/master/Airbnb-price-prediction.ipynb) served as source of inspiration for this section. Let's begin with some overviews."
   ]
  },
  {
   "cell_type": "code",
   "execution_count": 4,
   "metadata": {},
   "outputs": [
    {
     "data": {
      "text/html": [
       "<div>\n",
       "<style scoped>\n",
       "    .dataframe tbody tr th:only-of-type {\n",
       "        vertical-align: middle;\n",
       "    }\n",
       "\n",
       "    .dataframe tbody tr th {\n",
       "        vertical-align: top;\n",
       "    }\n",
       "\n",
       "    .dataframe thead th {\n",
       "        text-align: right;\n",
       "    }\n",
       "</style>\n",
       "<table border=\"1\" class=\"dataframe\">\n",
       "  <thead>\n",
       "    <tr style=\"text-align: right;\">\n",
       "      <th></th>\n",
       "      <th>name</th>\n",
       "      <th>summary</th>\n",
       "      <th>space</th>\n",
       "      <th>description</th>\n",
       "      <th>experiences_offered</th>\n",
       "      <th>neighborhood_overview</th>\n",
       "      <th>transit</th>\n",
       "      <th>house_rules</th>\n",
       "      <th>picture_url</th>\n",
       "      <th>host_id</th>\n",
       "      <th>...</th>\n",
       "      <th>review_scores_rating</th>\n",
       "      <th>review_scores_accuracy</th>\n",
       "      <th>review_scores_cleanliness</th>\n",
       "      <th>review_scores_checkin</th>\n",
       "      <th>review_scores_communication</th>\n",
       "      <th>review_scores_location</th>\n",
       "      <th>review_scores_value</th>\n",
       "      <th>cancellation_policy</th>\n",
       "      <th>reviews_per_month</th>\n",
       "      <th>listing_id</th>\n",
       "    </tr>\n",
       "  </thead>\n",
       "  <tbody>\n",
       "    <tr>\n",
       "      <th>0</th>\n",
       "      <td>Attic Room in historic Greenwich</td>\n",
       "      <td>The room does not have a door but its own disc...</td>\n",
       "      <td>Double room available in historic royal Greenw...</td>\n",
       "      <td>The room does not have a door but its own disc...</td>\n",
       "      <td>business</td>\n",
       "      <td>NaN</td>\n",
       "      <td>Parking is restricted in London. Visitors park...</td>\n",
       "      <td>no shoes on carpets no food in attic room no o...</td>\n",
       "      <td>https://a0.muscache.com/im/pictures/20045164/7...</td>\n",
       "      <td>2167992</td>\n",
       "      <td>...</td>\n",
       "      <td>95.0</td>\n",
       "      <td>10.0</td>\n",
       "      <td>10.0</td>\n",
       "      <td>10.0</td>\n",
       "      <td>10.0</td>\n",
       "      <td>10.0</td>\n",
       "      <td>10.0</td>\n",
       "      <td>strict_14_with_grace_period</td>\n",
       "      <td>2.37</td>\n",
       "      <td>9Q1RD6H7IO</td>\n",
       "    </tr>\n",
       "    <tr>\n",
       "      <th>1</th>\n",
       "      <td>Lovely Garden Studio Private Access</td>\n",
       "      <td>Garden studio with private entrance, 5 minutes...</td>\n",
       "      <td>Beautiful studio with a king size bed, a sofa ...</td>\n",
       "      <td>Garden studio with private entrance, 5 minutes...</td>\n",
       "      <td>none</td>\n",
       "      <td>Crouch End is a very hip and friendly neighbou...</td>\n",
       "      <td>Walk across the street to the W3 bus stop and ...</td>\n",
       "      <td>We'd love it if you would remove your shoes at...</td>\n",
       "      <td>https://a0.muscache.com/im/pictures/8d1ddcdc-f...</td>\n",
       "      <td>16148175</td>\n",
       "      <td>...</td>\n",
       "      <td>99.0</td>\n",
       "      <td>10.0</td>\n",
       "      <td>10.0</td>\n",
       "      <td>10.0</td>\n",
       "      <td>10.0</td>\n",
       "      <td>10.0</td>\n",
       "      <td>10.0</td>\n",
       "      <td>moderate</td>\n",
       "      <td>2.97</td>\n",
       "      <td>6XDPZPGLSR</td>\n",
       "    </tr>\n",
       "    <tr>\n",
       "      <th>2</th>\n",
       "      <td>Comfi apartment 2 close to wimbledon tennis court</td>\n",
       "      <td>NaN</td>\n",
       "      <td>NaN</td>\n",
       "      <td>NaN</td>\n",
       "      <td>none</td>\n",
       "      <td>NaN</td>\n",
       "      <td>NaN</td>\n",
       "      <td>1- No party or event allowed. 2-No smoking ins...</td>\n",
       "      <td>https://a0.muscache.com/im/pictures/e7e4a740-d...</td>\n",
       "      <td>272000199</td>\n",
       "      <td>...</td>\n",
       "      <td>84.0</td>\n",
       "      <td>9.0</td>\n",
       "      <td>9.0</td>\n",
       "      <td>10.0</td>\n",
       "      <td>10.0</td>\n",
       "      <td>9.0</td>\n",
       "      <td>8.0</td>\n",
       "      <td>strict_14_with_grace_period</td>\n",
       "      <td>1.73</td>\n",
       "      <td>SND9OPN6IY</td>\n",
       "    </tr>\n",
       "    <tr>\n",
       "      <th>3</th>\n",
       "      <td>Luxury room in the heart of London - SW4</td>\n",
       "      <td>Luxury first floor Victorian split level maiso...</td>\n",
       "      <td>Your room will be fully furnished, and it will...</td>\n",
       "      <td>Luxury first floor Victorian split level maiso...</td>\n",
       "      <td>none</td>\n",
       "      <td>Gail coffee shop, just round the corner as wel...</td>\n",
       "      <td>Happy to advise on things to do in London and ...</td>\n",
       "      <td>- Check-in after 18:30pm and no later than 20:...</td>\n",
       "      <td>https://a0.muscache.com/im/pictures/7c2b2fcc-e...</td>\n",
       "      <td>3361233</td>\n",
       "      <td>...</td>\n",
       "      <td>NaN</td>\n",
       "      <td>NaN</td>\n",
       "      <td>NaN</td>\n",
       "      <td>NaN</td>\n",
       "      <td>NaN</td>\n",
       "      <td>NaN</td>\n",
       "      <td>NaN</td>\n",
       "      <td>flexible</td>\n",
       "      <td>NaN</td>\n",
       "      <td>SE3B7BXN9G</td>\n",
       "    </tr>\n",
       "    <tr>\n",
       "      <th>4</th>\n",
       "      <td>Excellent city Apartment with Private Patio</td>\n",
       "      <td>NEW luxury apartment, with private outside pat...</td>\n",
       "      <td>A modern, well-equipped, cosy apartment close ...</td>\n",
       "      <td>NEW luxury apartment, with private outside pat...</td>\n",
       "      <td>none</td>\n",
       "      <td>NaN</td>\n",
       "      <td>NaN</td>\n",
       "      <td>I am very happy for your visit, but please car...</td>\n",
       "      <td>https://a0.muscache.com/im/pictures/ca1494da-f...</td>\n",
       "      <td>94317022</td>\n",
       "      <td>...</td>\n",
       "      <td>100.0</td>\n",
       "      <td>10.0</td>\n",
       "      <td>10.0</td>\n",
       "      <td>10.0</td>\n",
       "      <td>10.0</td>\n",
       "      <td>10.0</td>\n",
       "      <td>10.0</td>\n",
       "      <td>strict_14_with_grace_period</td>\n",
       "      <td>2.32</td>\n",
       "      <td>E0C82VK0VF</td>\n",
       "    </tr>\n",
       "  </tbody>\n",
       "</table>\n",
       "<p>5 rows × 42 columns</p>\n",
       "</div>"
      ],
      "text/plain": [
       "                                                name  \\\n",
       "0                   Attic Room in historic Greenwich   \n",
       "1                Lovely Garden Studio Private Access   \n",
       "2  Comfi apartment 2 close to wimbledon tennis court   \n",
       "3           Luxury room in the heart of London - SW4   \n",
       "4        Excellent city Apartment with Private Patio   \n",
       "\n",
       "                                             summary  \\\n",
       "0  The room does not have a door but its own disc...   \n",
       "1  Garden studio with private entrance, 5 minutes...   \n",
       "2                                                NaN   \n",
       "3  Luxury first floor Victorian split level maiso...   \n",
       "4  NEW luxury apartment, with private outside pat...   \n",
       "\n",
       "                                               space  \\\n",
       "0  Double room available in historic royal Greenw...   \n",
       "1  Beautiful studio with a king size bed, a sofa ...   \n",
       "2                                                NaN   \n",
       "3  Your room will be fully furnished, and it will...   \n",
       "4  A modern, well-equipped, cosy apartment close ...   \n",
       "\n",
       "                                         description experiences_offered  \\\n",
       "0  The room does not have a door but its own disc...            business   \n",
       "1  Garden studio with private entrance, 5 minutes...                none   \n",
       "2                                                NaN                none   \n",
       "3  Luxury first floor Victorian split level maiso...                none   \n",
       "4  NEW luxury apartment, with private outside pat...                none   \n",
       "\n",
       "                               neighborhood_overview  \\\n",
       "0                                                NaN   \n",
       "1  Crouch End is a very hip and friendly neighbou...   \n",
       "2                                                NaN   \n",
       "3  Gail coffee shop, just round the corner as wel...   \n",
       "4                                                NaN   \n",
       "\n",
       "                                             transit  \\\n",
       "0  Parking is restricted in London. Visitors park...   \n",
       "1  Walk across the street to the W3 bus stop and ...   \n",
       "2                                                NaN   \n",
       "3  Happy to advise on things to do in London and ...   \n",
       "4                                                NaN   \n",
       "\n",
       "                                         house_rules  \\\n",
       "0  no shoes on carpets no food in attic room no o...   \n",
       "1  We'd love it if you would remove your shoes at...   \n",
       "2  1- No party or event allowed. 2-No smoking ins...   \n",
       "3  - Check-in after 18:30pm and no later than 20:...   \n",
       "4  I am very happy for your visit, but please car...   \n",
       "\n",
       "                                         picture_url    host_id  ...  \\\n",
       "0  https://a0.muscache.com/im/pictures/20045164/7...    2167992  ...   \n",
       "1  https://a0.muscache.com/im/pictures/8d1ddcdc-f...   16148175  ...   \n",
       "2  https://a0.muscache.com/im/pictures/e7e4a740-d...  272000199  ...   \n",
       "3  https://a0.muscache.com/im/pictures/7c2b2fcc-e...    3361233  ...   \n",
       "4  https://a0.muscache.com/im/pictures/ca1494da-f...   94317022  ...   \n",
       "\n",
       "  review_scores_rating review_scores_accuracy review_scores_cleanliness  \\\n",
       "0                 95.0                   10.0                      10.0   \n",
       "1                 99.0                   10.0                      10.0   \n",
       "2                 84.0                    9.0                       9.0   \n",
       "3                  NaN                    NaN                       NaN   \n",
       "4                100.0                   10.0                      10.0   \n",
       "\n",
       "  review_scores_checkin  review_scores_communication review_scores_location  \\\n",
       "0                  10.0                         10.0                   10.0   \n",
       "1                  10.0                         10.0                   10.0   \n",
       "2                  10.0                         10.0                    9.0   \n",
       "3                   NaN                          NaN                    NaN   \n",
       "4                  10.0                         10.0                   10.0   \n",
       "\n",
       "  review_scores_value          cancellation_policy reviews_per_month  \\\n",
       "0                10.0  strict_14_with_grace_period              2.37   \n",
       "1                10.0                     moderate              2.97   \n",
       "2                 8.0  strict_14_with_grace_period              1.73   \n",
       "3                 NaN                     flexible               NaN   \n",
       "4                10.0  strict_14_with_grace_period              2.32   \n",
       "\n",
       "   listing_id  \n",
       "0  9Q1RD6H7IO  \n",
       "1  6XDPZPGLSR  \n",
       "2  SND9OPN6IY  \n",
       "3  SE3B7BXN9G  \n",
       "4  E0C82VK0VF  \n",
       "\n",
       "[5 rows x 42 columns]"
      ]
     },
     "execution_count": 4,
     "metadata": {},
     "output_type": "execute_result"
    }
   ],
   "source": [
    "# Show first three rows of df_known\n",
    "df_known.head(5)"
   ]
  },
  {
   "cell_type": "markdown",
   "metadata": {},
   "source": [
    "Looking at the output shows that there are 42 columns in `df_known`. In the text feature columns are several `NaN` values visible and it is noticeable that `summary` and `description` share the same initial words in all entries."
   ]
  },
  {
   "cell_type": "code",
   "execution_count": 5,
   "metadata": {},
   "outputs": [
    {
     "name": "stdout",
     "output_type": "stream",
     "text": [
      "<class 'pandas.core.frame.DataFrame'>\n",
      "RangeIndex: 55284 entries, 0 to 55283\n",
      "Data columns (total 42 columns):\n",
      " #   Column                       Non-Null Count  Dtype  \n",
      "---  ------                       --------------  -----  \n",
      " 0   name                         55270 non-null  object \n",
      " 1   summary                      52330 non-null  object \n",
      " 2   space                        38403 non-null  object \n",
      " 3   description                  53558 non-null  object \n",
      " 4   experiences_offered          55284 non-null  object \n",
      " 5   neighborhood_overview        35778 non-null  object \n",
      " 6   transit                      35477 non-null  object \n",
      " 7   house_rules                  31906 non-null  object \n",
      " 8   picture_url                  55284 non-null  object \n",
      " 9   host_id                      55284 non-null  int64  \n",
      " 10  host_since                   55173 non-null  object \n",
      " 11  host_response_time           37482 non-null  object \n",
      " 12  host_response_rate           37482 non-null  object \n",
      " 13  host_is_superhost            55173 non-null  object \n",
      " 14  host_total_listings_count    55173 non-null  float64\n",
      " 15  host_has_profile_pic         55173 non-null  object \n",
      " 16  host_identity_verified       55173 non-null  object \n",
      " 17  neighbourhood                55137 non-null  object \n",
      " 18  neighbourhood_cleansed       55284 non-null  object \n",
      " 19  zipcode                      54012 non-null  object \n",
      " 20  latitude                     55284 non-null  float64\n",
      " 21  longitude                    55284 non-null  float64\n",
      " 22  property_type                55284 non-null  object \n",
      " 23  room_type                    55284 non-null  object \n",
      " 24  accommodates                 55284 non-null  int64  \n",
      " 25  bathrooms                    55214 non-null  float64\n",
      " 26  bedrooms                     55222 non-null  float64\n",
      " 27  beds                         55022 non-null  float64\n",
      " 28  bed_type                     55284 non-null  object \n",
      " 29  amenities                    55284 non-null  object \n",
      " 30  price                        55284 non-null  float64\n",
      " 31  guests_included              55284 non-null  int64  \n",
      " 32  review_scores_rating         41869 non-null  float64\n",
      " 33  review_scores_accuracy       41836 non-null  float64\n",
      " 34  review_scores_cleanliness    41842 non-null  float64\n",
      " 35  review_scores_checkin        41801 non-null  float64\n",
      " 36  review_scores_communication  41838 non-null  float64\n",
      " 37  review_scores_location       41804 non-null  float64\n",
      " 38  review_scores_value          41804 non-null  float64\n",
      " 39  cancellation_policy          55284 non-null  object \n",
      " 40  reviews_per_month            42904 non-null  float64\n",
      " 41  listing_id                   55284 non-null  object \n",
      "dtypes: float64(15), int64(3), object(24)\n",
      "memory usage: 17.7+ MB\n"
     ]
    }
   ],
   "source": [
    "# Get infos for df_known\n",
    "df_known.info()"
   ]
  },
  {
   "cell_type": "code",
   "execution_count": 6,
   "metadata": {},
   "outputs": [
    {
     "name": "stdout",
     "output_type": "stream",
     "text": [
      "Except the target price, df_known and df_unknown consist of the same features: True.\n",
      "In df_unknown are 29769 entries.\n"
     ]
    }
   ],
   "source": [
    "print('Except the target price, df_known and df_unknown consist of the same features: {}.'\n",
    "      .format(set(df_known.drop(['price'], axis=1).copy()) == set(df_unknown)))\n",
    "print(f'In df_unknown are {len(df_unknown)} entries.')"
   ]
  },
  {
   "cell_type": "markdown",
   "metadata": {},
   "source": [
    "Most of the features are of the type `object`. Those include seven text features and otherwise indicate - apart from `picture_url` & `listing_id` - categorical features of nominal scale with possible dummy feature like `host_is_superhost`. Apart from `host_id`, the features of type `float` and `int` seem to be either of cardinal or of ordinal scale."
   ]
  },
  {
   "cell_type": "code",
   "execution_count": 7,
   "metadata": {},
   "outputs": [
    {
     "data": {
      "image/png": "[encoded data removed]",
      "text/plain": [
       "<Figure size 1008x288 with 1 Axes>"
      ]
     },
     "metadata": {
      "needs_background": "light"
     },
     "output_type": "display_data"
    }
   ],
   "source": [
    "# Share of missings in df_known and df_unknown\n",
    "known = round((df_known.drop(['price'], axis=1).copy().isnull().sum() / len(df_known.drop(['price'], axis=1).copy())), 3)\n",
    "unknown = round((df_unknown.isnull().sum() / len(df_unknown)), 3)\n",
    "\n",
    "# Plot\n",
    "ind = np.arange(len(unknown))\n",
    "width = 0.35\n",
    "fig, ax = plt.subplots(figsize=(14,4))\n",
    "rects1 = ax.bar(ind - width/2, known, width,\n",
    "                label='Known data')\n",
    "rects3 = ax.bar(ind + width/2, unknown, width,\n",
    "                label='Unknown data')\n",
    "ax.set_ylabel('Share of missings')\n",
    "ax.set_xlabel('Feature names')\n",
    "ax.set_xticks(ind)\n",
    "ax.set_xticklabels(df_unknown.columns, rotation=90)\n",
    "ax.legend();\n",
    "plt.show()"
   ]
  },
  {
   "cell_type": "markdown",
   "metadata": {},
   "source": [
    "Four text features, the features related to the host response and the review features show a large amount of missing values."
   ]
  },
  {
   "cell_type": "code",
   "execution_count": 8,
   "metadata": {},
   "outputs": [],
   "source": [
    "# Drop 'picture_url' since it will not be used in this notebook\n",
    "df_known = df_known.drop(['picture_url'], axis=1).copy()\n",
    "df_unknown = df_unknown.drop(['picture_url'], axis=1).copy()"
   ]
  },
  {
   "cell_type": "markdown",
   "metadata": {},
   "source": [
    "### 2.1 Host Features\n",
    "\n",
    "Let's get down to the feature level and take a look into the structure of each, starting with those that are related to the host."
   ]
  },
  {
   "cell_type": "code",
   "execution_count": 9,
   "metadata": {},
   "outputs": [
    {
     "name": "stdout",
     "output_type": "stream",
     "text": [
      "none        0.980790\n",
      "business    0.006584\n",
      "family      0.005427\n",
      "social      0.004812\n",
      "romantic    0.002388\n",
      "Name: experiences_offered, dtype: float64\n"
     ]
    }
   ],
   "source": [
    "print(df_known.experiences_offered.value_counts(normalize=True))\n",
    "# Drop experiences_offered\n",
    "df_known = df_known.drop(['experiences_offered'], axis=1).copy()\n",
    "df_unknown = df_unknown.drop(['experiences_offered'], axis=1).copy()"
   ]
  },
  {
   "cell_type": "markdown",
   "metadata": {},
   "source": [
    "Only roughly 2% of the entries in `experiences_offered` are not `none`. Hence this feature is dropped since it unlikely carries predictive information."
   ]
  },
  {
   "cell_type": "code",
   "execution_count": 10,
   "metadata": {},
   "outputs": [
    {
     "data": {
      "image/png": "[encoded data removed]",
      "text/plain": [
       "<Figure size 1152x576 with 2 Axes>"
      ]
     },
     "metadata": {
      "needs_background": "light"
     },
     "output_type": "display_data"
    }
   ],
   "source": [
    "def plot_host_since(df):\n",
    "    ''' The function converts date times and \n",
    "        extracts their frequencies in the datasets. '''\n",
    "    date_list = []\n",
    "    for i in range(len(df)):\n",
    "        try:\n",
    "            date_list.append(datetime.datetime.strptime(str(df.host_since[i]), '%Y-%m-%d'))\n",
    "        except ValueError:\n",
    "            continue\n",
    "    date_list.sort()\n",
    "    x = list(Counter(date_list).keys())\n",
    "    y = list(Counter(date_list).values())\n",
    "    return (x,y)\n",
    "\n",
    "# Plot host_since\n",
    "x0,y0 = plot_host_since(df_known)\n",
    "x1,y1 = plot_host_since(df_unknown)\n",
    "fig, axs = plt.subplots(2,figsize=(16,8))\n",
    "axs[0].plot(x0,y0)\n",
    "axs[0].set_ylabel('# of hosts')\n",
    "axs[0].title.set_text('Host registrations in df_known (upper) and df_unknown (lower)')\n",
    "axs[1].plot(x1,y1)\n",
    "axs[1].set_ylabel('# of hosts')\n",
    "axs[1].set_xlabel('Date')\n",
    "plt.show()"
   ]
  },
  {
   "cell_type": "markdown",
   "metadata": {},
   "source": [
    "Plotting `host_since` for both datasets shows that there are several peaks of registrations. Further it reveals that this feature has the same distribution in `df_known` and `df_unknown`. This indicates that both datasets are randomly samples from the population. "
   ]
  },
  {
   "cell_type": "code",
   "execution_count": 11,
   "metadata": {},
   "outputs": [],
   "source": [
    "# Calculating the number of days since registration\n",
    "df_known['host_registered'] = (pd.to_datetime('2021-01-01') - pd.to_datetime(df_known.host_since) ).astype('timedelta64[D]')\n",
    "df_unknown['host_registered'] = (pd.to_datetime('2021-01-01') - pd.to_datetime(df_unknown.host_since) ).astype('timedelta64[D]')\n",
    "\n",
    "# Imputing missing values with the median\n",
    "df_known.host_registered.fillna(df_known.host_registered.median(), inplace=True)\n",
    "df_unknown.host_registered.fillna(df_known.host_registered.median(), inplace=True)\n",
    "\n",
    "# Drop host_since\n",
    "df_known = df_known.drop(['host_since'], axis=1).copy()\n",
    "df_unknown = df_unknown.drop(['host_since'], axis=1).copy()"
   ]
  },
  {
   "cell_type": "markdown",
   "metadata": {},
   "source": [
    "The difference of `host_since` to some arbitrary recent time point is calculated as time since the host registered (`host_registered`). Missing values in this new column get imputed with the median."
   ]
  },
  {
   "cell_type": "code",
   "execution_count": 12,
   "metadata": {},
   "outputs": [
    {
     "data": {
      "text/plain": [
       "within an hour        0.433796\n",
       "unknown               0.322010\n",
       "within a few hours    0.128518\n",
       "within a day          0.095398\n",
       "a few days or more    0.020277\n",
       "Name: host_response_time, dtype: float64"
      ]
     },
     "execution_count": 12,
     "metadata": {},
     "output_type": "execute_result"
    }
   ],
   "source": [
    "# Imputing null values with 'unknown'\n",
    "df_known.host_response_time.fillna('unknown', inplace=True)\n",
    "df_unknown.host_response_time.fillna('unknown', inplace=True)\n",
    "\n",
    "# Get normalized frequencies\n",
    "df_known.host_response_time.value_counts(normalize=True)"
   ]
  },
  {
   "cell_type": "markdown",
   "metadata": {},
   "source": [
    "After imputing with `unknown` the most entries in `host_response_time` are `within an hour` and `unknown`."
   ]
  },
  {
   "cell_type": "code",
   "execution_count": 13,
   "metadata": {},
   "outputs": [],
   "source": [
    "# Convert percentage to float\n",
    "df_known.host_response_rate = df_known.host_response_rate.str[:-1].astype('float64')\n",
    "df_unknown.host_response_rate = df_unknown.host_response_rate.str[:-1].astype('float64')"
   ]
  },
  {
   "cell_type": "code",
   "execution_count": 14,
   "metadata": {},
   "outputs": [
    {
     "data": {
      "text/plain": [
       "100%       0.467766\n",
       "unknown    0.322010\n",
       "80-89%     0.054320\n",
       "95-99%     0.054139\n",
       "0-54%      0.030009\n",
       "90-94%     0.025251\n",
       "70-79%     0.025089\n",
       "55-69%     0.021417\n",
       "Name: host_response_rate, dtype: float64"
      ]
     },
     "execution_count": 14,
     "metadata": {},
     "output_type": "execute_result"
    }
   ],
   "source": [
    "def make_bins(df):\n",
    "    ''' Bins host_response_rate into categories \n",
    "        and repraces nulls with 'unknown'. '''\n",
    "    df.host_response_rate = pd.cut(df.host_response_rate, bins=[0, 55, 70, 80, 90, 95, 99, 100],\n",
    "                                   labels=['0-54%', '55-69%', '70-79%', '80-89%', '90-94%', '95-99%', '100%'],\n",
    "                                   include_lowest=True)\n",
    "    df.host_response_rate = df.host_response_rate.astype('str')\n",
    "    df.host_response_rate.fillna('unknown', inplace=True)\n",
    "    \n",
    "#Apply bins\n",
    "make_bins(df_known)\n",
    "make_bins(df_unknown)\n",
    "\n",
    "# Get normalized frequencies of host_response_rate\n",
    "df_known.host_response_rate.value_counts(normalize=True)"
   ]
  },
  {
   "cell_type": "markdown",
   "metadata": {},
   "source": [
    "Nearly half of the `host_response_rate` entries are `100%` followed by the imputation value `unknown`.  "
   ]
  },
  {
   "cell_type": "code",
   "execution_count": 15,
   "metadata": {},
   "outputs": [
    {
     "name": "stdout",
     "output_type": "stream",
     "text": [
      "f    0.85154\n",
      "t    0.14846\n",
      "Name: host_is_superhost, dtype: float64\n"
     ]
    }
   ],
   "source": [
    "# Get normalized frequencies of host_is_superhost\n",
    "print(df_known.host_is_superhost.value_counts(normalize=True))\n",
    "\n",
    "# Convert all dummy feature entries to 0/1 values\n",
    "df_known.replace({'f': 0, 't': 1}, inplace=True)\n",
    "df_unknown.replace({'f': 0, 't': 1}, inplace=True)"
   ]
  },
  {
   "cell_type": "code",
   "execution_count": 16,
   "metadata": {},
   "outputs": [
    {
     "data": {
      "image/png": "[encoded data removed]",
      "text/plain": [
       "<Figure size 1152x576 with 4 Axes>"
      ]
     },
     "metadata": {
      "needs_background": "light"
     },
     "output_type": "display_data"
    }
   ],
   "source": [
    "# Checking the distributions of remaining host features\n",
    "to_plot = ['host_is_superhost','host_total_listings_count','host_has_profile_pic','host_identity_verified']\n",
    "fig = plt.figure(figsize=(16,8))\n",
    "for i, var_name in enumerate(to_plot):\n",
    "    ax = fig.add_subplot(2,2,i+1)\n",
    "    df_known[var_name].hist(bins=25,ax=ax)\n",
    "    ax.set_title(var_name)\n",
    "fig.tight_layout()\n",
    "plt.show()"
   ]
  },
  {
   "cell_type": "code",
   "execution_count": 17,
   "metadata": {},
   "outputs": [],
   "source": [
    "# Drop host_has_profile_pic\n",
    "df_known = df_known.drop(['host_has_profile_pic'], axis=1).copy()\n",
    "df_unknown = df_unknown.drop(['host_has_profile_pic'], axis=1).copy()"
   ]
  },
  {
   "cell_type": "markdown",
   "metadata": {},
   "source": [
    "There are several dummy host features in  `df_known `. Here `host_has_profile_pic` is dropped since the entries belong mostly to one class. The `host_total_listings_count` and the remaining host dummy features get imputed with 0 by assuming that they do not show the respective feature."
   ]
  },
  {
   "cell_type": "code",
   "execution_count": 18,
   "metadata": {},
   "outputs": [],
   "source": [
    "# Imputing missing dummy values with 0\n",
    "for col in ['host_is_superhost','host_identity_verified']:\n",
    "    df_known[col].fillna(0, inplace=True)\n",
    "    df_unknown[col].fillna(0, inplace=True)\n",
    "    \n",
    "# Imputing missing values of host_total_listings_count with median\n",
    "df_known.host_total_listings_count.fillna(df_known.host_total_listings_count.median(), inplace=True)\n",
    "df_unknown.host_total_listings_count.fillna(df_known.host_total_listings_count.median(), inplace=True)"
   ]
  },
  {
   "cell_type": "markdown",
   "metadata": {},
   "source": [
    "### 2.2 Location Features\n",
    "\n",
    "Now the features related with the location of a property that is listed on Airbnb are investigated."
   ]
  },
  {
   "cell_type": "code",
   "execution_count": 19,
   "metadata": {},
   "outputs": [
    {
     "data": {
      "image/png": "[encoded data removed]",
      "text/plain": [
       "<Figure size 1152x576 with 2 Axes>"
      ]
     },
     "metadata": {
      "needs_background": "light"
     },
     "output_type": "display_data"
    }
   ],
   "source": [
    "# Checking the distributions of latitude and longitude\n",
    "to_plot = ['latitude','longitude']\n",
    "fig = plt.figure(figsize=(16,8))\n",
    "for i, var_name in enumerate(to_plot):\n",
    "    ax = fig.add_subplot(2,2,i+1)\n",
    "    df_known[var_name].hist(bins=50,ax=ax)\n",
    "    ax.set_title(var_name)\n",
    "fig.tight_layout()\n",
    "plt.show()"
   ]
  },
  {
   "cell_type": "markdown",
   "metadata": {},
   "source": [
    "As shown by the plots `latitude` and `longitude` most of the listings are located in the center of London and less in the area around London resulting the features to show a gaussian distribution shape. It is likely that those are non linearly related to `price` as prices for housing tend to be higher in the city center. East/west and north/south differences are also possible."
   ]
  },
  {
   "cell_type": "code",
   "execution_count": 20,
   "metadata": {},
   "outputs": [
    {
     "data": {
      "text/plain": [
       "Westminster               0.108729\n",
       "Tower Hamlets             0.098292\n",
       "Hackney                   0.074796\n",
       "Camden                    0.071178\n",
       "Kensington and Chelsea    0.066855\n",
       "Islington                 0.059402\n",
       "Lambeth                   0.058299\n",
       "Southwark                 0.057811\n",
       "Wandsworth                0.049942\n",
       "Hammersmith and Fulham    0.048043\n",
       "Brent                     0.029755\n",
       "Lewisham                  0.026952\n",
       "Haringey                  0.025631\n",
       "Newham                    0.024347\n",
       "Ealing                    0.021127\n",
       "Greenwich                 0.020422\n",
       "Barnet                    0.019952\n",
       "Waltham Forest            0.018052\n",
       "Merton                    0.015520\n",
       "Richmond upon Thames      0.014145\n",
       "Croydon                   0.013404\n",
       "Hounslow                  0.013024\n",
       "Redbridge                 0.008664\n",
       "Enfield                   0.008538\n",
       "Bromley                   0.008266\n",
       "Hillingdon                0.007471\n",
       "Kingston upon Thames      0.006548\n",
       "City of London            0.005372\n",
       "Harrow                    0.005264\n",
       "Barking and Dagenham      0.004540\n",
       "Sutton                    0.003545\n",
       "Havering                  0.003220\n",
       "Bexley                    0.002894\n",
       "Name: neighbourhood_cleansed, dtype: float64"
      ]
     },
     "execution_count": 20,
     "metadata": {},
     "output_type": "execute_result"
    }
   ],
   "source": [
    "# Get normalized frequencies of neighbourhood_cleansed\n",
    "df_known.neighbourhood_cleansed.value_counts(normalize=True)"
   ]
  },
  {
   "cell_type": "code",
   "execution_count": 21,
   "metadata": {},
   "outputs": [
    {
     "data": {
      "text/plain": [
       "City of Westminster    0.059706\n",
       "LB of Tower Hamlets    0.052814\n",
       "LB of Hackney          0.046194\n",
       "LB of Islington        0.043655\n",
       "LB of Camden           0.037398\n",
       "                         ...   \n",
       "Downham                0.000290\n",
       "Honor Oak              0.000218\n",
       "Dulwich Village        0.000163\n",
       "Putney Heath           0.000109\n",
       "Beckenham              0.000109\n",
       "Name: neighbourhood, Length: 149, dtype: float64"
      ]
     },
     "execution_count": 21,
     "metadata": {},
     "output_type": "execute_result"
    }
   ],
   "source": [
    "# Get normalized frequencies of neighbourhood\n",
    "df_known.neighbourhood.value_counts(normalize=True)"
   ]
  },
  {
   "cell_type": "code",
   "execution_count": 22,
   "metadata": {},
   "outputs": [
    {
     "data": {
      "text/plain": [
       "E1          0.005406\n",
       "NW1         0.004832\n",
       "N1          0.004240\n",
       "SE1         0.003851\n",
       "E2          0.003610\n",
       "              ...   \n",
       "SW4 6EH     0.000019\n",
       "DA15 9NQ    0.000019\n",
       "WC1E 7HG    0.000019\n",
       "E8 3AQ      0.000019\n",
       "N8 7LA      0.000019\n",
       "Name: zipcode, Length: 26556, dtype: float64"
      ]
     },
     "execution_count": 22,
     "metadata": {},
     "output_type": "execute_result"
    }
   ],
   "source": [
    "# Get normalized frequencies of zipcode\n",
    "df_known.zipcode.value_counts(normalize=True)"
   ]
  },
  {
   "cell_type": "markdown",
   "metadata": {},
   "source": [
    "The features `neighbourhood_cleansed`, `neighbourhood` and `zipcode` cluster the listings by areas in London and on different granularity levels. The lowest granularity level `neighbourhood_cleansed` resembles the london boroughs, followed by the districts  `neighbourhood` on the medium level. `zipcode` has the highest granularity and is related to the postcode districts. However `zipcode` has full addresses as entries and hence an inflated amount of unique entries (i.e. 26556) that require processing."
   ]
  },
  {
   "cell_type": "code",
   "execution_count": 23,
   "metadata": {},
   "outputs": [],
   "source": [
    "def get_zipcode(df):\n",
    "    ''' Separates the adress components of entries from the zipcode\n",
    "        and converts missing values to 'unknown'. '''\n",
    "    df['zipcode'].apply(str)\n",
    "    for i in range(0, df.shape[0]):\n",
    "        zc = df.iloc[i, df.columns.get_loc('zipcode')]\n",
    "        if type(zc) is str:\n",
    "            zc = zc.split(' ') \n",
    "            df.iloc[i, df.columns.get_loc('zipcode')] = zc[0]\n",
    "        else:\n",
    "            df.iloc[i, df.columns.get_loc('zipcode')] = 'unknown'\n",
    "            \n",
    "# Apply get_zipcode\n",
    "get_zipcode(df_known)\n",
    "get_zipcode(df_unknown)"
   ]
  },
  {
   "cell_type": "code",
   "execution_count": 24,
   "metadata": {},
   "outputs": [
    {
     "name": "stdout",
     "output_type": "stream",
     "text": [
      "After an initial processing zipcode consists of 959 unique entries in df_known.\n"
     ]
    }
   ],
   "source": [
    "def clean_zipcode(df):\n",
    "    ''' Transforms all zipcode entries to capital letters and removes possibly mistyped numbers \n",
    "        (Only those that are in the same place in QWERTZ and QWERTY layout). '''\n",
    "    trans_zc = []\n",
    "    for i in range(0, df.shape[0]):\n",
    "        trans_zc.append(re.sub(r'!','1',df.zipcode[i].upper()))\n",
    "        trans_zc[i] = re.sub(r'$','4',trans_zc[i])\n",
    "        trans_zc[i] = re.sub(r'%','5',trans_zc[i][:-1])\n",
    "    return(trans_zc)\n",
    "\n",
    "# Apply clean_zipcode\n",
    "df_known.zipcode = clean_zipcode(df_known)\n",
    "df_unknown.zipcode = clean_zipcode(df_unknown)\n",
    "\n",
    "print(f'After an initial processing zipcode consists of {len(df_known.zipcode.unique())} unique entries in df_known.')"
   ]
  },
  {
   "cell_type": "markdown",
   "metadata": {},
   "source": [
    "Since some artifacts might not be detected by the function `get_zipcode`, i.e. address and postcode written together without space, a entry is required to occurance at least twice in `df_known` otherwise the `zipcode` entry is set to `NaN`."
   ]
  },
  {
   "cell_type": "code",
   "execution_count": 25,
   "metadata": {},
   "outputs": [
    {
     "data": {
      "image/png": "[encoded data removed]",
      "text/plain": [
       "<Figure size 1152x576 with 1 Axes>"
      ]
     },
     "metadata": {
      "needs_background": "light"
     },
     "output_type": "display_data"
    }
   ],
   "source": [
    "def zipcode_min(df, minimum):\n",
    "    ''' Counts the occurance of unique zipcodes and \n",
    "        sets zipcodes to missing if a minimim count is not reached. '''\n",
    "    nb_counts = Counter(df_known.zipcode)\n",
    "    for i in list(nb_counts):\n",
    "        if nb_counts[i] <= minimum:\n",
    "            del nb_counts[i]\n",
    "            df.loc[df.zipcode == i, 'zipcode'] = np.nan\n",
    "    return(nb_counts)\n",
    "\n",
    "# Apply zipcode_min with minimum = 2\n",
    "nb_counts = zipcode_min(df_known, 2)\n",
    "zipcode_min(df_unknown, 2)\n",
    "\n",
    "# Plot zipcodes for df_known     \n",
    "tdf = pd.DataFrame.from_dict(nb_counts, orient='index').sort_values(by=0)\n",
    "ax = tdf.iloc[200: , :].plot(kind='bar', figsize = (16,8))\n",
    "ax.set_title(' The 200 Most Frequent Zipcodes by Number of Listings')\n",
    "ax.set_xlabel('Zipcode')\n",
    "ax.set_ylabel('# of listings')\n",
    "plt.show()"
   ]
  },
  {
   "cell_type": "markdown",
   "metadata": {},
   "source": [
    "The plot shows that the majority of the most frequent postcodes is proper. Here the large amount of `UNKNOWN` entries is noticeable."
   ]
  },
  {
   "cell_type": "code",
   "execution_count": 26,
   "metadata": {},
   "outputs": [
    {
     "data": {
      "image/png": "[encoded data removed]",
      "text/plain": [
       "<Figure size 1008x432 with 3 Axes>"
      ]
     },
     "metadata": {},
     "output_type": "display_data"
    }
   ],
   "source": [
    "L_venn = ['neighbourhood_cleansed', 'neighbourhood', 'zipcode']\n",
    "\n",
    "# Generate subplots to be filled by ven diagramms\n",
    "fig, axs = plt.subplots(ncols=3,figsize=(14, 6))\n",
    "\n",
    "# Generate ven diagramms\n",
    "for i in range(0, len(L_venn)):\n",
    "    overlap = pd.merge(df_known[L_venn[i]].value_counts(), df_unknown[L_venn[i]].value_counts(), how='left', \n",
    "                       left_index=True, right_index=True).count(axis=0)[1] \n",
    "    v1 = venn2(subsets = (len(df_known[L_venn[i]].unique()), len(df_unknown[L_venn[i]].unique()), overlap), \n",
    "               set_labels = ('Known', 'Unknown'), set_colors=('blue', 'orange'), alpha = 0.7, ax=axs[i])\n",
    "    # Fill subplots\n",
    "    axs[i].set_title(L_venn[i])\n",
    "plt.show()"
   ]
  },
  {
   "cell_type": "markdown",
   "metadata": {},
   "source": [
    "The venn diagramms display that several entries in `zipcode` appear to be in `df_known` but not in `df_unknown` and vice versa. This holds also true for `neighbourhood`. Those entries are - together with `UNKNOWN` entries - set to `NaN`. These missing values are imputed from `df_known` via the available entry of the location feature with the next lower level of granularity and the most frequent higher granularity candidate belonging to that unique lower granularity entry."
   ]
  },
  {
   "cell_type": "code",
   "execution_count": 27,
   "metadata": {},
   "outputs": [],
   "source": [
    "def zip_to_nan(df, df_to_nan):\n",
    "    ''' Set zipcodes that are 'UNKNOWN' to missing as well as \n",
    "        those that are not present in both datasets. '''\n",
    "    df_to_nan.loc[df_to_nan.zipcode == 'UNKNOWN', 'zipcode'] == np.nan\n",
    "    liste = [var for var in list(df_to_nan['zipcode'].value_counts().index) \n",
    "             if var not in list(df['zipcode'].value_counts().index)]\n",
    "    for i in range(0,len(liste)):\n",
    "        df_to_nan.loc[df_to_nan.zipcode == liste[i], 'zipcode'] = np.nan\n",
    "        \n",
    "# Apply zip_to_nan\n",
    "zip_to_nan(df_known, df_unknown)\n",
    "zip_to_nan(df_unknown, df_known)"
   ]
  },
  {
   "cell_type": "code",
   "execution_count": 28,
   "metadata": {},
   "outputs": [],
   "source": [
    "def imp_location(df, to_imp, imp_col):\n",
    "    ''' Imputation of location features based on df_known entries. The feature with higher granularity \n",
    "        gets imputed with the most frequent same granularity instance in the next lower granularity feature. '''\n",
    "    liste = list(df[to_imp])\n",
    "    for i in df[df[to_imp].isna()].index:\n",
    "            liste[i] = df_known[to_imp][df_known[imp_col] == df[imp_col][i]].value_counts().index[0]\n",
    "    df[to_imp] = liste\n",
    "\n",
    "# Apply imp_location\n",
    "imp_location(df_known, 'neighbourhood', 'neighbourhood_cleansed')\n",
    "imp_location(df_unknown, 'neighbourhood', 'neighbourhood_cleansed')\n",
    "imp_location(df_known, 'zipcode', 'neighbourhood')\n",
    "imp_location(df_unknown, 'zipcode', 'neighbourhood')"
   ]
  },
  {
   "cell_type": "markdown",
   "metadata": {},
   "source": [
    "### 2.3 Airbnb Typ, Furnishing & Equipment\n",
    "\n",
    "Next the features that describe the kind of the Airbnb unit and its characteristic are scrutinized."
   ]
  },
  {
   "cell_type": "code",
   "execution_count": 29,
   "metadata": {},
   "outputs": [
    {
     "data": {
      "text/plain": [
       "Apartment             36986\n",
       "House                 11543\n",
       "Townhouse              1917\n",
       "Condominium            1717\n",
       "Serviced apartment      931\n",
       "Loft                    496\n",
       "Bed and breakfast       372\n",
       "Guest suite             239\n",
       "Guesthouse              211\n",
       "Other                   144\n",
       "Boutique hotel          140\n",
       "Hotel                    98\n",
       "Hostel                   95\n",
       "Bungalow                 92\n",
       "Cottage                  61\n",
       "Boat                     45\n",
       "Aparthotel               35\n",
       "Tiny house               35\n",
       "Villa                    24\n",
       "Houseboat                22\n",
       "Earth house              14\n",
       "Cabin                    13\n",
       "Camper/RV                10\n",
       "Hut                       9\n",
       "Yurt                      5\n",
       "Barn                      4\n",
       "Chalet                    4\n",
       "Dome house                4\n",
       "Treehouse                 3\n",
       "Farm stay                 3\n",
       "Tent                      3\n",
       "Island                    2\n",
       "Bus                       2\n",
       "Campsite                  1\n",
       "Parking Space             1\n",
       "Plane                     1\n",
       "Windmill                  1\n",
       "Lighthouse                1\n",
       "Name: property_type, dtype: int64"
      ]
     },
     "execution_count": 29,
     "metadata": {},
     "output_type": "execute_result"
    }
   ],
   "source": [
    "# Get frequencies of property_type\n",
    "df_known.property_type.value_counts()"
   ]
  },
  {
   "cell_type": "code",
   "execution_count": 30,
   "metadata": {},
   "outputs": [],
   "source": [
    "# Replacing categories that are types of houses or apartments\n",
    "Replace = {# Apartment and Tiny house\n",
    "           'Loft': 'Apartment',\n",
    "           'Guesthouse': 'Tiny house',\n",
    "           # Hotel\n",
    "           'Bed and breakfast': 'Hotel',\n",
    "           'Aparthotel': 'Hotel',\n",
    "           'Hostel': 'Hotel',\n",
    "           'Serviced apartment': 'Hotel',\n",
    "           'Boutique hotel': 'Hotel',\n",
    "           'Guest suite': 'Hotel',\n",
    "           # House_fancy\n",
    "           'Bungalow': 'Fancy',\n",
    "           'Cottage': 'Fancy',\n",
    "           'Villa': 'Fancy',\n",
    "           'Earth house': 'Fancy',\n",
    "           'Chalet': 'Fancy',\n",
    "           'Houseboat': 'Fancy',\n",
    "           'Boat': 'Fancy'}\n",
    "df_known.property_type.replace(Replace, inplace=True)\n",
    "df_unknown.property_type.replace(Replace, inplace=True)\n",
    "\n",
    "# Replacing other categories with 'other'\n",
    "df_known.loc[~df_known.property_type.isin(['House','Townhouse','Tiny house','Apartment','Condominium','Hotel','Fancy']),\n",
    "             'property_type'] = 'Other'\n",
    "df_unknown.loc[~df_unknown.property_type.isin(['House','Townhouse','Tiny house','Apartment','Condominium','Hotel','Fancy']),\n",
    "               'property_type'] = 'Other'"
   ]
  },
  {
   "cell_type": "markdown",
   "metadata": {},
   "source": [
    "Some `property_type` entries appear seldom in `df_known` and possible not at all in `df_unknown`. Here those that occure with a reasonable high frequence get contentwise clusted. Low frequent entries are labeled as `Other`."
   ]
  },
  {
   "cell_type": "code",
   "execution_count": 31,
   "metadata": {},
   "outputs": [
    {
     "data": {
      "text/plain": [
       "Entire home/apt    0.551769\n",
       "Private room       0.430812\n",
       "Hotel room         0.009750\n",
       "Shared room        0.007669\n",
       "Name: room_type, dtype: float64"
      ]
     },
     "execution_count": 31,
     "metadata": {},
     "output_type": "execute_result"
    }
   ],
   "source": [
    "# Get frequencies of room_type\n",
    "df_known.room_type.value_counts(normalize=True)"
   ]
  },
  {
   "cell_type": "code",
   "execution_count": 32,
   "metadata": {},
   "outputs": [
    {
     "name": "stdout",
     "output_type": "stream",
     "text": [
      "Real Bed         0.992403\n",
      "Pull-out Sofa    0.004323\n",
      "Futon            0.002098\n",
      "Couch            0.000687\n",
      "Airbed           0.000488\n",
      "Name: bed_type, dtype: float64\n"
     ]
    }
   ],
   "source": [
    "# Get frequencies of bed_type\n",
    "print(df_known.bed_type.value_counts(normalize=True))\n",
    "\n",
    "# Drop bed_type\n",
    "df_known = df_known.drop(['bed_type'], axis=1).copy()\n",
    "df_unknown = df_unknown.drop(['bed_type'], axis=1).copy()"
   ]
  },
  {
   "cell_type": "markdown",
   "metadata": {},
   "source": [
    "The majority of `room_type` consists of `Entire home/apt` and `Private room`. The `bed_type` is almost exclusively `Real Bed` and hence dropped."
   ]
  },
  {
   "cell_type": "code",
   "execution_count": 33,
   "metadata": {},
   "outputs": [],
   "source": [
    "# Imputing missing values with the respective median\n",
    "for col in ['bathrooms', 'bedrooms', 'beds']:\n",
    "    df_known[col].fillna(df_known[col].median(), inplace=True)\n",
    "    df_unknown[col].fillna(df_known[col].median(), inplace=True)"
   ]
  },
  {
   "cell_type": "markdown",
   "metadata": {},
   "source": [
    "`bathrooms`, `bedrooms` and `beds` display the respective number of the features be found in the Airbnb unit. Here missings are imputed with the median."
   ]
  },
  {
   "cell_type": "code",
   "execution_count": 34,
   "metadata": {},
   "outputs": [
    {
     "data": {
      "text/plain": [
       "array(['{Wifi,\"Paid parking off premises\",Heating,Washer,\"Smoke detector\",\"Carbon monoxide detector\",\"First aid kit\",Essentials,Shampoo,Hangers,\"Hair dryer\",Iron,\"Laptop friendly workspace\",\"translation missing: en.hosting_amenity_49\",\"translation missing: en.hosting_amenity_50\",\"Hot water\",\"Bed linens\",\"Extra pillows and blankets\",\"Dishes and silverware\",\"Luggage dropoff allowed\",\"Host greets you\",\"Handheld shower head\"}'],\n",
       "      dtype=object)"
      ]
     },
     "execution_count": 34,
     "metadata": {},
     "output_type": "execute_result"
    }
   ],
   "source": [
    "# Amenities overview\n",
    "df_known.amenities[:1].values"
   ]
  },
  {
   "cell_type": "markdown",
   "metadata": {},
   "source": [
    "The structure of the `amenities` feature requires some cleaning."
   ]
  },
  {
   "cell_type": "code",
   "execution_count": 35,
   "metadata": {},
   "outputs": [
    {
     "data": {
      "text/plain": [
       "['Wifi',\n",
       " 'Paid parking off premises',\n",
       " 'Heating',\n",
       " 'Washer',\n",
       " 'Smoke detector',\n",
       " 'Carbon monoxide detector',\n",
       " 'First aid kit',\n",
       " 'Essentials',\n",
       " 'Shampoo',\n",
       " 'Hangers',\n",
       " 'Hair dryer',\n",
       " 'Iron',\n",
       " 'Laptop friendly workspace',\n",
       " 'translation missing: en.hosting_amenity_49',\n",
       " 'translation missing: en.hosting_amenity_50',\n",
       " 'Hot water',\n",
       " 'Bed linens',\n",
       " 'Extra pillows and blankets',\n",
       " 'Dishes and silverware',\n",
       " 'Luggage dropoff allowed',\n",
       " 'Host greets you',\n",
       " 'Handheld shower head',\n",
       " '']"
      ]
     },
     "execution_count": 35,
     "metadata": {},
     "output_type": "execute_result"
    }
   ],
   "source": [
    "def clean_amenities(liste):\n",
    "    ''' Function to clean the amenities entries. '''\n",
    "    liste = liste.replace('\"', '')\n",
    "    liste = liste.replace('{', '')\n",
    "    liste = liste.replace('}', ',')\n",
    "    return liste\n",
    "\n",
    "# Apply clean_amenities to df_known\n",
    "amenities_cleaned = df_known.amenities.apply(clean_amenities)\n",
    "\n",
    "# Split amenities entries of df_known in strings\n",
    "df_known.amenities = amenities_cleaned.str.split(',')\n",
    "\n",
    "# Apply clean_amenities and split amenities in df_unknown\n",
    "df_unknown.amenities = df_unknown.amenities.apply(clean_amenities).str.split(',')\n",
    "df_known.amenities[0]"
   ]
  },
  {
   "cell_type": "code",
   "execution_count": 36,
   "metadata": {},
   "outputs": [],
   "source": [
    "def del_empty_entry(df):\n",
    "    ''' Drop the last empty list entry in every 'amenities' entry. '''\n",
    "    for i in range(0,len(df)):\n",
    "        del df.amenities[i][-1]\n",
    "        \n",
    "# Apply del_empty_entry   \n",
    "del_empty_entry(df_known)\n",
    "del_empty_entry(df_unknown)"
   ]
  },
  {
   "cell_type": "markdown",
   "metadata": {},
   "source": [
    "After the processing a list of all possible entries in the `amenities` lists has to be inferred for the upcoming feature engineering."
   ]
  },
  {
   "cell_type": "code",
   "execution_count": 37,
   "metadata": {},
   "outputs": [
    {
     "name": "stdout",
     "output_type": "stream",
     "text": [
      "There are 200 unique amenities in df_known.\n"
     ]
    }
   ],
   "source": [
    "# Join all amenities lists\n",
    "amenities_list_string = ' '.join(amenities_cleaned)\n",
    "\n",
    "# Combine to one list\n",
    "amenities_set = [x.strip() for x in amenities_list_string.split(',')]\n",
    "\n",
    "# Unique entries in amenities_set\n",
    "amenities_set = list(set(amenities_set))\n",
    "\n",
    "# Drop empty entry\n",
    "amenities_set.pop(0)\n",
    "print('There are {} unique amenities in df_known.'.format(len(amenities_set)))"
   ]
  },
  {
   "cell_type": "markdown",
   "metadata": {},
   "source": [
    "### 2.4 Reviews & Cancellation\n",
    "\n",
    "The last group of features to be checked are related to the review scores and amount of the Airbnb unit and the host as well as the cancellation policy."
   ]
  },
  {
   "cell_type": "code",
   "execution_count": 38,
   "metadata": {},
   "outputs": [
    {
     "data": {
      "image/png": "[encoded data removed]",
      "text/plain": [
       "<Figure size 1152x576 with 8 Axes>"
      ]
     },
     "metadata": {
      "needs_background": "light"
     },
     "output_type": "display_data"
    }
   ],
   "source": [
    "# Checking the distributions of the review columns and reviews_per_month\n",
    "to_plot = list(df_known.columns[df_known.columns.str.startswith('review_scores') == True])\n",
    "to_plot.append('reviews_per_month')\n",
    "fig = plt.figure(figsize=(16,8))\n",
    "for i, var_name in enumerate(to_plot):\n",
    "    ax = fig.add_subplot(3,3,i+1)\n",
    "    df_known[var_name].hist(bins=10,ax=ax)\n",
    "    ax.set_title(var_name)\n",
    "fig.tight_layout()\n",
    "plt.show()"
   ]
  },
  {
   "cell_type": "markdown",
   "metadata": {},
   "source": [
    "All score features have a similar distribution with most of the ratings being 10 of 10 which seems to be the standard. Hence values of 8 or 7 can already be considered as unsatisfactory. This low variation lowers the information content of these features. For `reviews_per_month` low values are the most frequent ones. All review features are imputed using the median."
   ]
  },
  {
   "cell_type": "code",
   "execution_count": 39,
   "metadata": {},
   "outputs": [],
   "source": [
    "# Imputing missing values in the review columns as well as reviews_per_month with the respective median\n",
    "for col in to_plot:\n",
    "    df_known[col].fillna(df_known[col].median(), inplace=True)\n",
    "    df_unknown[col].fillna(df_known[col].median(), inplace=True)\n",
    "\n",
    "# For reviews_per_month\n",
    "df_known.reviews_per_month.fillna(df_known.reviews_per_month.median(), inplace=True)\n",
    "df_unknown.reviews_per_month.fillna(df_known.reviews_per_month.median(), inplace=True)"
   ]
  },
  {
   "cell_type": "code",
   "execution_count": 40,
   "metadata": {},
   "outputs": [
    {
     "name": "stdout",
     "output_type": "stream",
     "text": [
      "strict_14_with_grace_period    24102\n",
      "flexible                       17094\n",
      "moderate                       13643\n",
      "super_strict_60                  230\n",
      "super_strict_30                  211\n",
      "strict                             2\n",
      "luxury_moderate                    1\n",
      "luxury_super_strict_95             1\n",
      "Name: cancellation_policy, dtype: int64\n"
     ]
    }
   ],
   "source": [
    "# Get frequencies of cancellation_policy\n",
    "print(df_known.cancellation_policy.value_counts())\n",
    "\n",
    "def replace(df):\n",
    "    ''' Replacing categories of cancellation_policy. '''\n",
    "    df.cancellation_policy.replace({\n",
    "        'luxury_super_strict_95': 'super_strict_60',\n",
    "        'strict': 'strict_14_with_grace_period',\n",
    "        'luxury_moderate': 'moderate'\n",
    "        }, inplace=True)\n",
    "    \n",
    "# Apply replace\n",
    "replace(df_known)\n",
    "replace(df_unknown)"
   ]
  },
  {
   "cell_type": "markdown",
   "metadata": {},
   "source": [
    "Regarding the `cancellation_policy` feature, low frequent policies are assigned to the best matching policy with higher frequency."
   ]
  },
  {
   "cell_type": "markdown",
   "metadata": {},
   "source": [
    "### 2.5 Airbnb Prices\n",
    "\n",
    "Finally let's take a look at the target feature `price`."
   ]
  },
  {
   "cell_type": "code",
   "execution_count": 41,
   "metadata": {},
   "outputs": [
    {
     "name": "stdout",
     "output_type": "stream",
     "text": [
      "Nightly prices range from £10.0 to £500.0.\n",
      "There are 476 unique prices in df_known.\n"
     ]
    }
   ],
   "source": [
    "print(f\"Nightly prices range from £{min(df_known.price)} to £{max(df_known.price)}.\")\n",
    "print(f\"There are {len(df_known.price.unique())} unique prices in df_known.\")"
   ]
  },
  {
   "cell_type": "markdown",
   "metadata": {},
   "source": [
    "It seems like the prices got bounded prior to this analysis. There is a low amount of variation in the values `price` takes on."
   ]
  },
  {
   "cell_type": "code",
   "execution_count": 42,
   "metadata": {
    "scrolled": true
   },
   "outputs": [
    {
     "data": {
      "image/png": "[encoded data removed]",
      "text/plain": [
       "<Figure size 1296x288 with 1 Axes>"
      ]
     },
     "metadata": {
      "needs_background": "light"
     },
     "output_type": "display_data"
    }
   ],
   "source": [
    "# Distribution of prices from £0 to £1000\n",
    "plt.figure(figsize=(18,4))\n",
    "df_known.price.hist(bins=476, range=(0,500))\n",
    "plt.margins(x=0)\n",
    "plt.xlabel(\"Price (£)\")\n",
    "plt.ylabel(\"# of listings\")\n",
    "plt.show()"
   ]
  },
  {
   "cell_type": "markdown",
   "metadata": {},
   "source": [
    "The distribution of `price` confirms at least the existance of a upper bound. It is worth noticing that certain price values occur more often than others. This finishes the exploratory data analysis and the non-text data pre-processing."
   ]
  },
  {
   "cell_type": "markdown",
   "metadata": {},
   "source": [
    "## 3. Text Data  Pre-processing <a class='anchor' id='third-bullet'></a>\n",
    "\n",
    "Having pre-processes the non-text features, this section thematizes the pre-processing of the text feature columns. Note that this is mostly done on the dataset `df_merged` that created earlier by merging `df_known` and `df_unknown`. At first all  missing values in text features in all three datasets are imputed with empty strings and converted to string as a whole."
   ]
  },
  {
   "cell_type": "code",
   "execution_count": 43,
   "metadata": {},
   "outputs": [],
   "source": [
    "# Convert text columns to sting and impute missings with empty strings\n",
    "preprocess = ['name', 'summary', 'description', 'space', 'neighborhood_overview', 'transit', 'house_rules']\n",
    "for col in preprocess:\n",
    "    df_merged.loc[df_merged[col].isna(), col] = ''\n",
    "    df_merged[col]=df_merged[col].apply(str)\n",
    "    df_known.loc[df_known[col].isna(), col] = ''\n",
    "    df_known[col]=df_known[col].apply(str)\n",
    "    df_unknown.loc[df_unknown[col].isna(), col] = ''\n",
    "    df_unknown[col]=df_unknown[col].apply(str)"
   ]
  },
  {
   "cell_type": "markdown",
   "metadata": {},
   "source": [
    "### 3.1 Subset Detection\n",
    "\n",
    "As found at the beginning of the exploratory  data analysis `summary` and `description` seem to be duplicates or share subsets. In fact the `summary` entries are often pasted at the beginning of the  `description` entries. Let's list all entries to whom this applies in `subset`, those with empty strings in one of the columns to `nan_subset` and the rest to `rest_subset`."
   ]
  },
  {
   "cell_type": "code",
   "execution_count": 44,
   "metadata": {},
   "outputs": [],
   "source": [
    "df = pd.DataFrame()\n",
    "subset = []\n",
    "\n",
    "# Determine rows in which 'summary' is a subset of 'description'\n",
    "for i in range(0,len(df_merged)):\n",
    "    try:\n",
    "        subset.append(df_merged['summary'][i]==df_merged['description'][i][0:len(df_merged['summary'][i])])\n",
    "    except TypeError :\n",
    "        subset.append(False)\n",
    "\n",
    "# Write to data frame and redefine subset and non_subset as respective indices      \n",
    "df['subset'] = subset\n",
    "subset = df_merged['summary'][df['subset'] == True].index\n",
    "non_subset = df_merged['summary'][df['subset'] == False].index\n",
    "\n",
    "# Define indeces of missings in eigther 'summary' or 'description'\n",
    "nan_subset = []\n",
    "for i in non_subset:\n",
    "    if isinstance(df_merged['summary'][i], float) or isinstance(df_merged['description'][i], float):\n",
    "        nan_subset.append(i)\n",
    "\n",
    "# Infer the remaining indices\n",
    "rest_subset = [ind for ind in non_subset if ind not in nan_subset]"
   ]
  },
  {
   "cell_type": "code",
   "execution_count": 45,
   "metadata": {},
   "outputs": [
    {
     "name": "stdout",
     "output_type": "stream",
     "text": [
      "Welcome to this modern studio room with clean, fresh decor, ensuite bathroom, fully equipped kitchen, Wi-fi & TV and a small rear patio.  With its own entrance, it's completely self contained with private use of all the facilities.  It's situated on a quiet street near a park with shops, restaurants and all amenities close by. Edmonton is in transport Zone 4 about an hour from central London. The apartment is about 10-15 minutes from the train station and the area is served by several buses.\n",
      "\n",
      "Welcome to this modern studio room with clean, fresh decor, ensuite bathroom, fully equipped kitchen, Wi-fi & TV and a small rear patio.  With its own entrance, it's completely self contained with private use of all the facilities.  It's situated on a quiet street near a park with shops, restaurants and all amenities close by. Edmonton is in transport Zone 4 about an hour from central London. The apartment is about (Phone number hidden by Airbnb) minutes from the train station and the area i\n"
     ]
    }
   ],
   "source": [
    "## Check one rest_subset entry of 'summary' and 'description'\n",
    "print(df_merged['summary'][rest_subset[0]])\n",
    "print()\n",
    "print(df_merged['description'][rest_subset[0]][0:len(df_merged['summary'][rest_subset[0]])])"
   ]
  },
  {
   "cell_type": "code",
   "execution_count": 46,
   "metadata": {},
   "outputs": [
    {
     "data": {
      "text/plain": [
       "\"Welcome to this modern studio room with clean, fresh decor, ensuite bathroom, fully equipped kitchen, Wi-fi & TV and a small rear patio.  With its own entrance, it's completely self contained with private use of all the facilities.  It's situated on a quiet street near a park with shops, restaurants and all amenities close by. Edmonton is in transport Zone 4 about an hour from central London. The apartment is about (Phone number hidden by Airbnb) minutes from the train station and the area is served by several buses.\""
      ]
     },
     "execution_count": 46,
     "metadata": {},
     "output_type": "execute_result"
    }
   ],
   "source": [
    "# Check entry of 'description' with new logic\n",
    "df_merged['description'][rest_subset[0]][0:(len(df_merged['summary'][rest_subset[0]])+len('(Phone number hidden by Airbnb)')-len('xx-xx'))]"
   ]
  },
  {
   "cell_type": "markdown",
   "metadata": {},
   "source": [
    "Checking a entry of the `rest_subset` shows that specification of time windows of the shape xx-xx in `summary` get recognized as phone number. Hence they are hidden and substituted with '(Phone number hidden by Airbnb)' in `description` by some Airbnb algorithm. Accounting for this in the processing logic yields the desired subset result from `description`."
   ]
  },
  {
   "cell_type": "code",
   "execution_count": 47,
   "metadata": {},
   "outputs": [
    {
     "data": {
      "text/plain": [
       "3031                                 Dinner take .Sofa tv.\n",
       "7711                 Fully fluent in French and in English\n",
       "7780     We love this neighborhood! You can find everyt...\n",
       "7919     Besides your own room, with tv and private bat...\n",
       "10817    Fresh towels, tea, coffee and linen will be pr...\n",
       "13559    Hi there ! We offer a great one bed flat in th...\n",
       "14760    We are offering a private room  with space for...\n",
       "20375    You will be given your own fob and key for any...\n",
       "22102    Guests will have access to the entire property...\n",
       "27459    beautiful studio apartment in the heart of pri...\n",
       "27656    I loved that house as soon as I saw it.  It's ...\n",
       "31772    Our flat is located in a new and cool building...\n",
       "36442                                        Primrose Hill\n",
       "37267    All rooms accessible. Guests will be the only ...\n",
       "37462                                              Parejas\n",
       "40281    Willesden Green is a residencial area. Ideal f...\n",
       "42906    Whilst away, I will be available over text, (U...\n",
       "43581    the flat includes a bathroom, kitchen, and a l...\n",
       "43792    This little house is around the back of a geor...\n",
       "45674    We have a good size ,clean and comfortable roo...\n",
       "50328    Hello I have a three bedroom house just a shor...\n",
       "51548    It's a spacious house with beautiful natural l...\n",
       "52237    Three Bedrooms, One with double and two with s...\n",
       "57271    OUR HOME: Nice private bright room for homesta...\n",
       "59043    This is a beautifully three-room apartment in ...\n",
       "63149    I can be reached out any time over the phone i...\n",
       "63406    One lovely double bedroom for one guest only i...\n",
       "64325    (Website hidden by Airbnb) cThe room is privat...\n",
       "64343    Beautiful large living room, lots of natural l...\n",
       "66369    4居室的房子,有两个房间用来做客房,这是其中的双人房｡公交车站很方便到达地铁站以及火车站,1...\n",
       "66569    Hello AirBNBers!  We welcome you to our bright...\n",
       "72413    The book \"Home, everyone that ever lived in my...\n",
       "73831            Ideal apartment for a weekend gateway for\n",
       "74349    Situated 5 minutes from Ladbroke Grove Tube st...\n",
       "76807    Lovely double room available in a quiet, clean...\n",
       "77597    Welcome to my home, seconds from some of the c...\n",
       "77818    Hi!!! the room is very nice and clean in a  cl...\n",
       "81230    Living room, kitchen and facilities, patio, ba...\n",
       "Name: description, dtype: object"
      ]
     },
     "execution_count": 47,
     "metadata": {},
     "output_type": "execute_result"
    }
   ],
   "source": [
    "# Check 'description' of description_subset\n",
    "description_subset = []\n",
    "for i in rest_subset:\n",
    "    if '(Phone number hidden by Airbnb)' not in df_merged['description'][i]:\n",
    "        description_subset.append(i)\n",
    "df_merged['description'][description_subset]"
   ]
  },
  {
   "cell_type": "markdown",
   "metadata": {},
   "source": [
    "All entries of rest_subset that do not have '(Phone number hidden by Airbnb)' in `description` are assumed to be proper. However a non english entry (index 66369) is visible here. Hence languages have to be checked in the subsequent section. First the changes to `description` are applied by removing the subset `summary`."
   ]
  },
  {
   "cell_type": "code",
   "execution_count": 48,
   "metadata": {},
   "outputs": [],
   "source": [
    "# Remove subset characters and redefine 'description' from subset and rest_subset\n",
    "new_entrys = []\n",
    "for i in range(0,len(df_merged)):\n",
    "    if i in subset:\n",
    "        new_entrys.append(df_merged['description'][i][len(df_merged['summary'][i]):])\n",
    "    elif i in [ind for ind in rest_subset if ind not in description_subset]:\n",
    "        new_entrys.append(df_merged['description'][i][(len(df_merged['summary'][i])+len('(Phone number hidden by Airbnb)')-len('xx-xx')):])   \n",
    "    else:\n",
    "        new_entrys.append(df_merged['description'][i])\n",
    "df_merged['description'] = new_entrys"
   ]
  },
  {
   "cell_type": "code",
   "execution_count": 49,
   "metadata": {},
   "outputs": [
    {
     "name": "stdout",
     "output_type": "stream",
     "text": [
      "Welcome to this modern studio room with clean, fresh decor, ensuite bathroom, fully equipped kitchen, Wi-fi & TV and a small rear patio.  With its own entrance, it's completely self contained with private use of all the facilities.  It's situated on a quiet street near a park with shops, restaurants and all amenities close by. Edmonton is in transport Zone 4 about an hour from central London. The apartment is about 10-15 minutes from the train station and the area is served by several buses.\n",
      "\n",
      " This space consists of a double room with an en suite bathroom and storage closet.  Additionally, you will have sole use of a separate, fully equipped kitchen and there is a small courtyard at the back. Laundry facilities, bedding, towels and all cooking/eating utensils are provided. ACCESS VIA THE BROWN WOODEN DOOR TO THE SIDE OF THE BUILDING. The studio has its own entrance to the side of the house. So you'll have private use of the all the facilities, including the rear\n"
     ]
    }
   ],
   "source": [
    "# Check rest_subset 'description' entry\n",
    "print(df_merged['summary'][rest_subset[0]])\n",
    "print()\n",
    "print(df_merged['description'][rest_subset[0]])   "
   ]
  },
  {
   "cell_type": "markdown",
   "metadata": {},
   "source": [
    "Now `summary` is not occurring in the `description` entries but the text sequences do likely have a high dependency to eachother."
   ]
  },
  {
   "cell_type": "markdown",
   "metadata": {},
   "source": [
    "### 3.2 Text Data Cleaning & Correction\n",
    "\n",
    "For the cleaning of the text columns a pre-selection of relevant features is made since the cleaning as well as the feature extraction via natural language processing (NLP) techniques are time expensive. Hence in order to prevent running into infeasable calculation and due to the substancial amounts of missing values  `space`, `neighborhood_overview`, `transit` and `house_rules` are not cleaned and hence won't serve for feature extraction in section 5. Hence cleaning is only done for `name`, `summary` and `description` and for conveniece in one step using `df_merged`."
   ]
  },
  {
   "cell_type": "markdown",
   "metadata": {},
   "source": [
    "####  Load Pre-processed Text Data\n",
    "\n",
    "NOTE: The cleaned data is [provided](https://www.dropbox.com/sh/5of2lc58qmkk8bk/AADzQndCICjT1lAQo6Mp3RHFa?dl=0) and can be loaded from the notebook location using the following code."
   ]
  },
  {
   "cell_type": "code",
   "execution_count": null,
   "metadata": {},
   "outputs": [],
   "source": [
    "# Load the cleaned text data and merge it to df_known and df_unknown\n",
    "clean = ['name_clean', 'summary_clean', 'description_clean']\n",
    "for col in clean:\n",
    "    with open(col + '_correct.pkl','rb') as path_name:\n",
    "        df_merged[str(col)] = pickle.load(path_name)\n",
    "    df_known[str(col)] = list(df_merged[str(col)][0:len(df_known)])\n",
    "    df_unknown[str(col)] = list(df_merged[str(col)][len(df_known):len(df_merged)])"
   ]
  },
  {
   "cell_type": "markdown",
   "metadata": {},
   "source": [
    "####  Generate Pre-processed Text Data\n",
    "\n",
    "As found earlier the entries of the text features are possibly non english. Let's check this first."
   ]
  },
  {
   "cell_type": "code",
   "execution_count": 50,
   "metadata": {},
   "outputs": [],
   "source": [
    "def language_detection(text):\n",
    "    ''' Detect the language of a string. '''\n",
    "    try:\n",
    "        return detect(text)\n",
    "    except:\n",
    "        return None"
   ]
  },
  {
   "cell_type": "code",
   "execution_count": 51,
   "metadata": {},
   "outputs": [
    {
     "name": "stdout",
     "output_type": "stream",
     "text": [
      "Detected languages in 22.99 mins.\n"
     ]
    }
   ],
   "source": [
    "# Apply language_detection to 'name' and 'summary'\n",
    "start = time.time()\n",
    "df_merged['language_name'] = df_merged['name'].apply(language_detection)\n",
    "df_merged['language_summary'] = df_merged['summary'].apply(language_detection)\n",
    "print('Detected languages in {} mins.'.format(round((time.time() - start) / 60, 2)))"
   ]
  },
  {
   "cell_type": "code",
   "execution_count": 52,
   "metadata": {},
   "outputs": [
    {
     "data": {
      "text/html": [
       "<div>\n",
       "<style scoped>\n",
       "    .dataframe tbody tr th:only-of-type {\n",
       "        vertical-align: middle;\n",
       "    }\n",
       "\n",
       "    .dataframe tbody tr th {\n",
       "        vertical-align: top;\n",
       "    }\n",
       "\n",
       "    .dataframe thead th {\n",
       "        text-align: right;\n",
       "    }\n",
       "</style>\n",
       "<table border=\"1\" class=\"dataframe\">\n",
       "  <thead>\n",
       "    <tr style=\"text-align: right;\">\n",
       "      <th></th>\n",
       "      <th>language_name_in_%</th>\n",
       "      <th>language_sum_in_%</th>\n",
       "    </tr>\n",
       "  </thead>\n",
       "  <tbody>\n",
       "    <tr>\n",
       "      <th>en</th>\n",
       "      <td>85.388778</td>\n",
       "      <td>99.164958</td>\n",
       "    </tr>\n",
       "    <tr>\n",
       "      <th>nl</th>\n",
       "      <td>2.944359</td>\n",
       "      <td>0.052190</td>\n",
       "    </tr>\n",
       "    <tr>\n",
       "      <th>af</th>\n",
       "      <td>2.331490</td>\n",
       "      <td>0.054675</td>\n",
       "    </tr>\n",
       "    <tr>\n",
       "      <th>de</th>\n",
       "      <td>2.324432</td>\n",
       "      <td>0.060888</td>\n",
       "    </tr>\n",
       "    <tr>\n",
       "      <th>fr</th>\n",
       "      <td>1.890366</td>\n",
       "      <td>0.198820</td>\n",
       "    </tr>\n",
       "    <tr>\n",
       "      <th>da</th>\n",
       "      <td>0.744618</td>\n",
       "      <td>0.023610</td>\n",
       "    </tr>\n",
       "    <tr>\n",
       "      <th>it</th>\n",
       "      <td>0.677567</td>\n",
       "      <td>0.082013</td>\n",
       "    </tr>\n",
       "    <tr>\n",
       "      <th>ro</th>\n",
       "      <td>0.662275</td>\n",
       "      <td>0.017397</td>\n",
       "    </tr>\n",
       "    <tr>\n",
       "      <th>es</th>\n",
       "      <td>0.459946</td>\n",
       "      <td>0.098167</td>\n",
       "    </tr>\n",
       "    <tr>\n",
       "      <th>ca</th>\n",
       "      <td>0.419951</td>\n",
       "      <td>0.006213</td>\n",
       "    </tr>\n",
       "  </tbody>\n",
       "</table>\n",
       "</div>"
      ],
      "text/plain": [
       "    language_name_in_%  language_sum_in_%\n",
       "en           85.388778          99.164958\n",
       "nl            2.944359           0.052190\n",
       "af            2.331490           0.054675\n",
       "de            2.324432           0.060888\n",
       "fr            1.890366           0.198820\n",
       "da            0.744618           0.023610\n",
       "it            0.677567           0.082013\n",
       "ro            0.662275           0.017397\n",
       "es            0.459946           0.098167\n",
       "ca            0.419951           0.006213"
      ]
     },
     "execution_count": 52,
     "metadata": {},
     "output_type": "execute_result"
    }
   ],
   "source": [
    "# Check for share of occuring languages in 'name' and 'summary'\n",
    "df = pd.DataFrame()\n",
    "df['language_name_in_%'] = df_merged.language_name.value_counts(normalize=True)*100\n",
    "df['language_sum_in_%'] = df_merged.language_summary.value_counts(normalize=True)*100\n",
    "df.head(10)"
   ]
  },
  {
   "cell_type": "markdown",
   "metadata": {},
   "source": [
    "Apparently several entries of `name` got labled as non english but this is not true for the `summary` entries. This discriptancy could be due to the short strings in `name` that can couse a higher amount of misclassifications. Hence this is assumed to be a minor problem and is not investigated further.\n",
    "\n",
    "Therefore the functions for the text feature cleaning are defined for a first cleaning step."
   ]
  },
  {
   "cell_type": "code",
   "execution_count": 53,
   "metadata": {},
   "outputs": [],
   "source": [
    "# Lemmatize with POS Tag\n",
    "def get_wordnet_pos(word):\n",
    "    '''Map POS tag to first character for lemmatization'''\n",
    "    tag = nltk.pos_tag([word])[0][1][0].upper()\n",
    "    tag_dict = {'J': wordnet.ADJ,\n",
    "                'N': wordnet.NOUN,\n",
    "                'V': wordnet.VERB,\n",
    "                'R': wordnet.ADV}\n",
    "    return tag_dict.get(tag, wordnet.NOUN)"
   ]
  },
  {
   "cell_type": "code",
   "execution_count": 54,
   "metadata": {},
   "outputs": [],
   "source": [
    "def clean(df):\n",
    "    ''' NLP pre-processing chain including removal of html tags, non-alphabetic/numerical characters, and stopwords \n",
    "        as well as splitting numbers from letters, remove of newlines and transforming numbers to words.\n",
    "        Words are tokenized and subject to lemmatization using their POS tags, which are determind using WordNet. '''\n",
    "    names = []\n",
    "    lemmatizer = WordNetLemmatizer()\n",
    "    p = inflect.engine()\n",
    "    print('*' * 40)\n",
    "    print('Cleaning {} data entries of '.format(df.shape[0]) + col + ':')\n",
    "    counter = 0\n",
    "    for text in df:\n",
    "        # remove non-alphabetic/numerical characters\n",
    "        text = re.sub('[^_0-9a-zA-Z]',' ', text)\n",
    "        # remove html content\n",
    "        text = BeautifulSoup(text).get_text()\n",
    "        # split numbers from letters\n",
    "        text = ' '.join(str(e) for e in re.split('(\\d+)',text))\n",
    "        # remove newlines\n",
    "        text = text.replace('\\n', ' ')\n",
    "        text = text.replace('\\xa0', ' ')\n",
    "        text = re.sub(' +', ' ', text)\n",
    "        # tokenize the sentences\n",
    "        words = word_tokenize(text.lower()) \n",
    "        # filter stopwords\n",
    "        words = [w for w in words if w not in stopwords.words('english')] \n",
    "        # numbers to words\n",
    "        for i,w in enumerate(words):\n",
    "            if w.isnumeric() == True:\n",
    "                words[i] = p.number_to_words(w)\n",
    "        # lemmatize each word to its lemma\n",
    "        lemma_words =[lemmatizer.lemmatize(i, get_wordnet_pos(i)) for i in words] \n",
    "\n",
    "        names.append(lemma_words)\n",
    "        if (counter > 0 and counter % 2500 == 0):\n",
    "            print('Processed {} entries...'.format(counter))\n",
    "        counter += 1\n",
    "    print('DONE!')\n",
    "    print('*' * 40)\n",
    "\n",
    "    return(names) "
   ]
  },
  {
   "cell_type": "markdown",
   "metadata": {},
   "source": [
    "Note that compared to the lecture notebook NLP pre-processing workflow, numbers are kept, splitted from other characters and translated into words. Moreover newlines are removed."
   ]
  },
  {
   "cell_type": "code",
   "execution_count": 55,
   "metadata": {},
   "outputs": [
    {
     "name": "stdout",
     "output_type": "stream",
     "text": [
      "****************************************\n",
      "Cleaning 85053 data entries of name:\n",
      "Processed 2500 entries...\n",
      "Processed 5000 entries...\n",
      "Processed 7500 entries...\n",
      "Processed 10000 entries...\n",
      "Processed 12500 entries...\n",
      "Processed 15000 entries...\n",
      "Processed 17500 entries...\n",
      "Processed 20000 entries...\n",
      "Processed 22500 entries...\n",
      "Processed 25000 entries...\n",
      "Processed 27500 entries...\n",
      "Processed 30000 entries...\n",
      "Processed 32500 entries...\n",
      "Processed 35000 entries...\n",
      "Processed 37500 entries...\n",
      "Processed 40000 entries...\n",
      "Processed 42500 entries...\n",
      "Processed 45000 entries...\n",
      "Processed 47500 entries...\n",
      "Processed 50000 entries...\n",
      "Processed 52500 entries...\n",
      "Processed 55000 entries...\n",
      "Processed 57500 entries...\n",
      "Processed 60000 entries...\n",
      "Processed 62500 entries...\n",
      "Processed 65000 entries...\n",
      "Processed 67500 entries...\n",
      "Processed 70000 entries...\n",
      "Processed 72500 entries...\n",
      "Processed 75000 entries...\n",
      "Processed 77500 entries...\n",
      "Processed 80000 entries...\n",
      "Processed 82500 entries...\n",
      "Processed 85000 entries...\n",
      "DONE!\n",
      "****************************************\n",
      "****************************************\n",
      "Cleaning 85053 data entries of summary:\n",
      "Processed 2500 entries...\n",
      "Processed 5000 entries...\n",
      "Processed 7500 entries...\n",
      "Processed 10000 entries...\n",
      "Processed 12500 entries...\n",
      "Processed 15000 entries...\n",
      "Processed 17500 entries...\n",
      "Processed 20000 entries...\n",
      "Processed 22500 entries...\n",
      "Processed 25000 entries...\n",
      "Processed 27500 entries...\n",
      "Processed 30000 entries...\n",
      "Processed 32500 entries...\n",
      "Processed 35000 entries...\n",
      "Processed 37500 entries...\n",
      "Processed 40000 entries...\n",
      "Processed 42500 entries...\n",
      "Processed 45000 entries...\n",
      "Processed 47500 entries...\n",
      "Processed 50000 entries...\n",
      "Processed 52500 entries...\n",
      "Processed 55000 entries...\n",
      "Processed 57500 entries...\n",
      "Processed 60000 entries...\n",
      "Processed 62500 entries...\n",
      "Processed 65000 entries...\n",
      "Processed 67500 entries...\n",
      "Processed 70000 entries...\n",
      "Processed 72500 entries...\n",
      "Processed 75000 entries...\n",
      "Processed 77500 entries...\n",
      "Processed 80000 entries...\n",
      "Processed 82500 entries...\n",
      "Processed 85000 entries...\n",
      "DONE!\n",
      "****************************************\n",
      "****************************************\n",
      "Cleaning 85053 data entries of description:\n",
      "Processed 2500 entries...\n",
      "Processed 5000 entries...\n",
      "Processed 7500 entries...\n",
      "Processed 10000 entries...\n",
      "Processed 12500 entries...\n",
      "Processed 15000 entries...\n",
      "Processed 17500 entries...\n",
      "Processed 20000 entries...\n",
      "Processed 22500 entries...\n",
      "Processed 25000 entries...\n",
      "Processed 27500 entries...\n",
      "Processed 30000 entries...\n",
      "Processed 32500 entries...\n",
      "Processed 35000 entries...\n",
      "Processed 37500 entries...\n",
      "Processed 40000 entries...\n",
      "Processed 42500 entries...\n",
      "Processed 45000 entries...\n",
      "Processed 47500 entries...\n",
      "Processed 50000 entries...\n",
      "Processed 52500 entries...\n",
      "Processed 55000 entries...\n",
      "Processed 57500 entries...\n",
      "Processed 60000 entries...\n",
      "Processed 62500 entries...\n",
      "Processed 65000 entries...\n",
      "Processed 67500 entries...\n",
      "Processed 70000 entries...\n",
      "Processed 72500 entries...\n",
      "Processed 75000 entries...\n",
      "Processed 77500 entries...\n",
      "Processed 80000 entries...\n",
      "Processed 82500 entries...\n",
      "Processed 85000 entries...\n",
      "DONE!\n",
      "****************************************\n",
      "Cleaned all entries in 102.49 mins.\n"
     ]
    }
   ],
   "source": [
    "# Apply clean to the selected text columns\n",
    "to_clean = ['name', 'summary', 'description']\n",
    "start = time.time()\n",
    "for col in to_clean:\n",
    "    df_merged[str(col) + '_clean'] = clean(df_merged[col])\n",
    "end = time.time()\n",
    "print('Cleaned all entries in {} mins.'.format(round((time.time() - start) / 60, 2)))"
   ]
  },
  {
   "cell_type": "markdown",
   "metadata": {},
   "source": [
    "Cleaning the entries of the text features preselected words via the stopwords filter / lemmatization and gave a clear structure to the entries via tokenizing.\n",
    "\n",
    "Based on this a second correction step is undertaken. It aims on correcting miswritten words and expanding contractions/abbreviations. This is done by importing pre-trained [100-dimensional wiki2vec](https://wikipedia2vec.github.io/wikipedia2vec/pretrained/) embeddings from the directory of the notebook to identify words as unusual if in corpus but not in wiki2vec. Those words are then corrected to words that are both in the corpus and wiki2vec. \n",
    "\n",
    "The embedding can be downloaded using: http://wikipedia2vec.s3.amazonaws.com/models/en/2018-04-20/enwiki_20180420_100d.txt.bz2"
   ]
  },
  {
   "cell_type": "code",
   "execution_count": 56,
   "metadata": {},
   "outputs": [
    {
     "name": "stdout",
     "output_type": "stream",
     "text": [
      "Loaded wiki2vec embeddings in 9.55 mins\n"
     ]
    }
   ],
   "source": [
    "# Import wiki2vec embeddings\n",
    "start = time.time()\n",
    "wiki2vec = KeyedVectors.load_word2vec_format(os.path.join(path, 'enwiki_20180420_100d.txt.bz2'))\n",
    "print('Loaded wiki2vec embeddings in {} mins'.format(round((time.time() - start) / 60, 2)))"
   ]
  },
  {
   "cell_type": "code",
   "execution_count": 57,
   "metadata": {},
   "outputs": [],
   "source": [
    "def odd_words(liste):\n",
    "    ''' Filter words that are not part of wiki2vec. '''\n",
    "    words = []\n",
    "    for word in liste:\n",
    "        try:\n",
    "            wiki2vec[word]\n",
    "        except KeyError:\n",
    "            words.append(word)\n",
    "    return words\n",
    "\n",
    "def word_count(df):\n",
    "    ''' Count words in corpus. '''\n",
    "    word_counter = Counter()\n",
    "    for r in df:\n",
    "        for w in r:\n",
    "            word_counter.update({w: 1})\n",
    "    return word_counter\n",
    "            \n",
    "def correct(df):\n",
    "    ''' Correction of miswritten words and expanding contractions/abbreviations. '''\n",
    "    # Build vocab\n",
    "    w2v_model = Word2Vec(min_count=1)  \n",
    "    w2v_model.build_vocab(df) \n",
    "    # Apply odd_words and word_count\n",
    "    words = odd_words(list(w2v_model.wv.key_to_index))\n",
    "    counts = word_count(df)\n",
    "    # Define dict and counter of corrections\n",
    "    wordDict = enchant.Dict('en_GB')\n",
    "    correct_count = 0\n",
    "    # Infer correction that is most frequent in vocab\n",
    "    for word in words:\n",
    "        suggestion = []\n",
    "        suggestions = wordDict.suggest(word)\n",
    "        for i in range(0,len(suggestions)):\n",
    "            if suggestions[i] in list(w2v_model.wv.key_to_index):\n",
    "                suggestion.append(suggestions[i])\n",
    "                s_count = []\n",
    "                for s in suggestion:\n",
    "                    s_count.append(counts[s])\n",
    "                    sug = suggestion[s_count.index(max(s_count))]\n",
    "                    for j in range(0,len(df_known)):\n",
    "                        if word in df[j]:\n",
    "                            df[j][df[j].index(word)] = sug\n",
    "                            correct_count += 1\n",
    "    print('Corrected {} words in '.format(correct_count) + col)"
   ]
  },
  {
   "cell_type": "code",
   "execution_count": 58,
   "metadata": {},
   "outputs": [
    {
     "name": "stdout",
     "output_type": "stream",
     "text": [
      "Corrected 612 words in name_clean\n",
      "Corrected 7180 words in summary_clean\n",
      "Corrected 11808 words in description_clean\n",
      "DONE!\n",
      "Correction took 55.12 mins.\n"
     ]
    }
   ],
   "source": [
    "# Apply correct to the selected text columns\n",
    "start = time.time()\n",
    "to_correct = ('name_clean', 'summary_clean', 'description_clean')\n",
    "for col in to_correct:\n",
    "    correct(df_merged[col])\n",
    "    # Write feature to notebook directory\n",
    "    with open(col + '_correct.pkl','wb') as path_name:\n",
    "         pickle.dump(df_merged[str(col)], path_name)\n",
    "            \n",
    "print('DONE!')\n",
    "print('Correction took {} mins.'.format(round((time.time() - start) / 60, 2)))"
   ]
  },
  {
   "cell_type": "markdown",
   "metadata": {},
   "source": [
    "This second step finishes the text data cleaning and correction section. The text data are written to the location of the notebook. In the final step the cleaned and corrected features are added to `df_known` and `df_unknown` from `df_merged`."
   ]
  },
  {
   "cell_type": "code",
   "execution_count": 59,
   "metadata": {},
   "outputs": [],
   "source": [
    "# Merge the cleaned text data to df_known and df_unknown\n",
    "clean = ['name_clean', 'summary_clean', 'description_clean']\n",
    "for col in clean:\n",
    "    df_known[str(col)] = list(df_merged[str(col)][0:len(df_known)])\n",
    "    df_unknown[str(col)] = list(df_merged[str(col)][len(df_known):len(df_merged)])"
   ]
  },
  {
   "cell_type": "markdown",
   "metadata": {},
   "source": [
    "## 4. Feature Engineering & Selection <a class='anchor' id='fourth-bullet'></a>\n",
    "\n",
    "With all relevant features being sufficiently pre-processed, the feature engineering is conducted by using  non-text features and meta data from the text features. The subsequent feature selection is done with the help of a Lasso regression i.e. the $L1$ norm."
   ]
  },
  {
   "cell_type": "markdown",
   "metadata": {},
   "source": [
    "### 4.1 Meta Data, Transformations & Dummy Encoding\n",
    "\n",
    "The meta information of the text features, feature transformations  as well as dummy encoding is used for feature engineering."
   ]
  },
  {
   "cell_type": "code",
   "execution_count": 51,
   "metadata": {},
   "outputs": [],
   "source": [
    "# Infer legth of text columns as features\n",
    "new_col = ['length_name','length_summary','length_description','length_space',\n",
    "           'length_neighborhood_overview','length_transit','length_house_rules']\n",
    "text_col = ['name','summary','description','space','neighborhood_overview','transit','house_rules']\n",
    "for i in range(0,len(new_col)):\n",
    "    df_known[new_col[i]] = df_known[text_col[i]].str.len()\n",
    "    df_unknown[new_col[i]] = df_unknown[text_col[i]].str.len()"
   ]
  },
  {
   "cell_type": "markdown",
   "metadata": {},
   "source": [
    "The length of each text feature is generated in order to indicate the amount of information provided by the host via text."
   ]
  },
  {
   "cell_type": "code",
   "execution_count": 52,
   "metadata": {},
   "outputs": [],
   "source": [
    "def mis_count(data, new_cols):\n",
    "    ''' Count missings in text columns per row. '''\n",
    "    counter = [0] * len(data)\n",
    "    for i in new_cols:\n",
    "        for j in list(data.loc[data[i] != 0].index):\n",
    "            counter[j] = counter[j] + 1\n",
    "    return(counter)\n",
    "\n",
    "# Apply mis_count\n",
    "df_known['text_count'] = mis_count(df_known, new_col)\n",
    "df_unknown['text_count'] = mis_count(df_unknown, new_col)"
   ]
  },
  {
   "cell_type": "markdown",
   "metadata": {},
   "source": [
    "Further the number of empty text entries in text features per row is generated to refine the measurement of the amount of information."
   ]
  },
  {
   "cell_type": "code",
   "execution_count": 53,
   "metadata": {},
   "outputs": [],
   "source": [
    "def amenities_length(data):\n",
    "    ''' Count number of amenities per entry (list). '''\n",
    "    liste = []\n",
    "    for i in range(0,len(data)):\n",
    "        liste.append(len(data.amenities[i]))\n",
    "    return(liste)\n",
    "\n",
    "# Apply amenities_length and create new feature\n",
    "df_known['length_amenities'] = amenities_length(df_known)\n",
    "df_unknown['length_amenities'] = amenities_length(df_unknown)"
   ]
  },
  {
   "cell_type": "markdown",
   "metadata": {},
   "source": [
    "The number of amenities in the `amenities` list entries is counted to indicate how much equipment the Airbnb unit provides."
   ]
  },
  {
   "cell_type": "code",
   "execution_count": 54,
   "metadata": {},
   "outputs": [],
   "source": [
    "def trans_cdnts(new_col, cdnts):\n",
    "    ''' Transform the non-linear coordiante features into linear features. '''\n",
    "    df_known[new_col] = np.abs(df_known[cdnts] - np.mean(df_known[cdnts]))\n",
    "    df_unknown[new_col] = np.abs(df_unknown[cdnts] - np.mean(df_unknown[cdnts]))\n",
    "    return(df_known[new_col], df_unknown[new_col])\n",
    "\n",
    "# Apply trans_cdnts and create new features\n",
    "df_known['abs_longitude'], df_unknown['abs_longitude'] = trans_cdnts('abs_longitude', 'longitude')\n",
    "df_known['abs_latitude'], df_unknown['abs_latitude'] = trans_cdnts('abs_latitude', 'latitude')"
   ]
  },
  {
   "cell_type": "markdown",
   "metadata": {},
   "source": [
    "The non linear features `longitude` and `latitude` are transformed to linear ones that neglect east/west, north/south effects and hence only captures center to suburb location effects on `price` for the respective axis.  "
   ]
  },
  {
   "cell_type": "code",
   "execution_count": 55,
   "metadata": {},
   "outputs": [],
   "source": [
    "# One-hot encoding of all amenities list entries\n",
    "amenities_dummies = pd.get_dummies(df_known['amenities'].apply(pd.Series).stack()).groupby(level=0).sum()\n",
    "df_known = pd.merge(df_known, amenities_dummies, how='left', left_index=True, right_index=True)\n",
    "amenities_dummies = pd.get_dummies(df_unknown['amenities'].apply(pd.Series).stack()).groupby(level=0).sum()\n",
    "df_unknown = pd.merge(df_unknown, amenities_dummies, how='left', left_index=True, right_index=True)"
   ]
  },
  {
   "cell_type": "code",
   "execution_count": 56,
   "metadata": {},
   "outputs": [],
   "source": [
    "# Get list of categorical features that are suited for one-hot encoding via data type\n",
    "to_dummy = [col for col in df_known.columns[df_known.dtypes == 'object'] \n",
    "            if col not in (text_col+clean+['amenities','listing_id'])]\n",
    "\n",
    "# One-hot encode categorical features\n",
    "for i in to_dummy:\n",
    "    df_known = pd.merge(df_known, pd.get_dummies(df_known[i]), how='left', left_index=True, right_index=True)\n",
    "    df_unknown = pd.merge(df_unknown, pd.get_dummies(df_unknown[i]), how='left', left_index=True, right_index=True)"
   ]
  },
  {
   "cell_type": "markdown",
   "metadata": {},
   "source": [
    "The entries in the lists of `amenities` as well as all relevant categorical features get one-hot encoded into dummy features for each unique category."
   ]
  },
  {
   "cell_type": "markdown",
   "metadata": {},
   "source": [
    "### 4.2 Non-Text Feature Selection\n",
    "\n",
    "Upon all non-text feature the ones that are usable and relevant for the final model are identified and selected in the following. "
   ]
  },
  {
   "cell_type": "code",
   "execution_count": 57,
   "metadata": {},
   "outputs": [],
   "source": [
    "# Safe listing_ids for submission\n",
    "listing_ids = df_unknown.listing_id\n",
    "\n",
    "# Define list of columns to be dropped along with the categorical features and the original text columns\n",
    "to_drop = ['host_id','amenities','listing_id']\n",
    "\n",
    "# Drop unnecessary features \n",
    "df_known = df_known.drop(text_col + to_dummy + to_drop, axis=1).copy()\n",
    "df_unknown = df_unknown.drop(text_col + to_dummy + to_drop, axis=1).copy()"
   ]
  },
  {
   "cell_type": "markdown",
   "metadata": {},
   "source": [
    "All unprocessed text columns are dropped since they are neighter needed for further operations nor usable in the final NN model. This also holds true for the categorical features as well as `host_id` and `listing_id`. The latter is safed for the submissions.\n",
    "\n",
    "Every feature that is present in `df_known` but not in `df_unknown` and vice versa is dropped since the final Neural Network model would otherwise not be applicable."
   ]
  },
  {
   "cell_type": "code",
   "execution_count": 58,
   "metadata": {},
   "outputs": [
    {
     "name": "stdout",
     "output_type": "stream",
     "text": [
      "After dropping not needed and unusable features the datasets have 728 columns in common.\n"
     ]
    }
   ],
   "source": [
    "# Define and drop columns that are not in both datasets df_known and df_unknown\n",
    "liste = [i for i in df_known.columns if i not in df_unknown.columns]\n",
    "liste.remove('price')\n",
    "df_known = df_known.drop(liste, axis=1).copy()\n",
    "df_unknown = df_unknown.drop([i for i in df_unknown.columns if i not in df_known.columns], axis=1).copy()\n",
    "print('After dropping not needed and unusable features the datasets have {} columns in common.'.format(len(df_known.columns)-4))"
   ]
  },
  {
   "cell_type": "code",
   "execution_count": 59,
   "metadata": {},
   "outputs": [],
   "source": [
    "# Define columns to keep for further feature extraction\n",
    "keep_known = df_known[['price','name_clean', 'summary_clean', 'description_clean']]\n",
    "keep_unknown = df_unknown[['name_clean', 'summary_clean', 'description_clean']]\n",
    "\n",
    "# Apply Robust Scaler to df_known and df_unknown \n",
    "scaler = RobustScaler()\n",
    "X_lasso = pd.DataFrame(scaler.fit_transform(df_known.drop(['price'] + clean, axis=1).copy()),\n",
    "                       columns=list(df_known.drop(['price'] + clean, axis=1).copy().columns))\n",
    "df_unknown = pd.DataFrame(scaler.transform(df_unknown.drop(clean, axis=1).copy()),\n",
    "                          columns=list(df_unknown.drop(clean, axis=1).copy().columns))"
   ]
  },
  {
   "cell_type": "markdown",
   "metadata": {},
   "source": [
    "A robust scaler is used to - appart from the scaling - additionally mitigate the effect of outliers in the features of `df_known` and `df_unknown`. Feature selection is conducted via the $L1$ norm using a cross-validated lasso model that is applied to the scaled features of `df_known` with variying penalties. A test-train-split is neglected because the interest lies only on the variable selection via shrinked coefficients."
   ]
  },
  {
   "cell_type": "code",
   "execution_count": 69,
   "metadata": {},
   "outputs": [
    {
     "name": "stdout",
     "output_type": "stream",
     "text": [
      "Best CV neg-RMSE: -51.7036\n",
      "Optimal meta-parameter: {'alpha': 0.004000000000000001}\n"
     ]
    }
   ],
   "source": [
    "seed(1234)\n",
    "cores = multiprocessing.cpu_count()\n",
    "# Define GridSearch (Lasso with 5-fold-cross-validation and RMSE as evaluation score)\n",
    "gs = GridSearchCV(estimator=Lasso(tol=0.01), param_grid={'alpha': np.arange(0.003,0.005,0.00025)},\n",
    "                  scoring='neg_root_mean_squared_error', cv=5, verbose=0, n_jobs=cores-1)\n",
    "# Fit GridSearch to scaled df_known\n",
    "gs.fit(X_lasso, df_known.price)\n",
    "# Get best CV score\n",
    "print('Best CV neg-RMSE: %0.4f' % gs.best_score_)\n",
    "# Get best parameter\n",
    "print('Optimal meta-parameter: {}'.format(gs.best_params_))"
   ]
  },
  {
   "cell_type": "code",
   "execution_count": 60,
   "metadata": {},
   "outputs": [
    {
     "name": "stdout",
     "output_type": "stream",
     "text": [
      "At this alpha (penalty) value 230 coefficients of 728 are set to 0.\n"
     ]
    }
   ],
   "source": [
    "# Fit model with the lr that yields the minimun RMSE and get null coefficients\n",
    "seed(1234)\n",
    "reg = Lasso(alpha=0.004, tol=0.01)\n",
    "reg.fit(X_lasso,df_known.price)\n",
    "print('At this alpha (penalty) value {} coefficients of 728 are set to 0.'.format(len(reg.coef_[reg.coef_ == 0])))"
   ]
  },
  {
   "cell_type": "markdown",
   "metadata": {},
   "source": [
    "A remarkable share of the feature coefficients in df_known were set to 0. Those get dropped from `df_known` and `df_unknown` and the target and the text columns needed for feature extraction are merged again."
   ]
  },
  {
   "cell_type": "code",
   "execution_count": 61,
   "metadata": {},
   "outputs": [],
   "source": [
    "# Drop null coefficient features\n",
    "df_known = X_lasso.drop(list(X_lasso.columns[reg.coef_ == 0]), axis=1).copy()\n",
    "df_unknown = df_unknown.drop(list(X_lasso.columns[reg.coef_ == 0]), axis=1).copy()"
   ]
  },
  {
   "cell_type": "code",
   "execution_count": 62,
   "metadata": {},
   "outputs": [],
   "source": [
    "# Merge the 'to keep' columns with transformed features\n",
    "df_known = pd.merge(keep_known, df_known, how='left', left_index=True, right_index=True)\n",
    "df_unknown = pd.merge(keep_unknown, df_unknown, how='left', left_index=True, right_index=True)"
   ]
  },
  {
   "cell_type": "markdown",
   "metadata": {},
   "source": [
    "## 5. Natural Language Processing & Transfer Learning  <a class='anchor' id='fifth-bullet'></a>\n",
    "\n",
    "At this point all non-text features that appear in the final model are both generated and selected. Hence the focus is now on the extraction of further features from the pre-processed text columns `name_clean`, `summary_clean` and `description_clean`. This is done via three different NLP techniques namely a Latent Semantic Analysis (LSA), a Sentence-BERT model and RNN models. In this approach the NLP methods outputs - often originally designed for other use-cases - are used as features for the `price` prediction that resembles the downstream task. Here transfer learning refers to importing pre-trained models or labeled data that were output of some related prior task. Note that the text columns are merged to one input for each method due to limited computational time and resources. Still this is reasonable since `summary_clean` and `description_clean` seem to depend on each other as shown earlier in section 3.1. Hence the data inputs are the same for each method but - due to the unique processing of the text and the information within each method - extraction of information differs. Hence it is expected that inferring features with each additional method provides features with a sufficient amount of unique explanatory power towards the target `price`."
   ]
  },
  {
   "cell_type": "markdown",
   "metadata": {},
   "source": [
    "### 5.1 Latent Semantic Analysis\n",
    "\n",
    "First the LSA is conducted. It is based on a distributional hypothesis that words with similar meaning occur in similar pieces of text. To asses that, words are counted per document giving a sparse matrix of size $rows \\times n_{words}$. The resulting term-frequencies (tf) are weighted with the inverse document-frequency (idf) with according to the [sklearn logic](https://scikit-learn.org/stable/modules/generated/sklearn.feature_extraction.text.TfidfTransformer.html). The matrix dimensionality is then reduced using truncated singular value decomposition ([SVD](https://scikit-learn.org/stable/modules/generated/sklearn.decomposition.TruncatedSVD.html#sklearn.decomposition.TruncatedSVD)).\n",
    "\n",
    "To make the TfidfVectorizer applicable the text data needs to be detokenized. After this operation is conducted, a train-test-split is applied."
   ]
  },
  {
   "cell_type": "code",
   "execution_count": 63,
   "metadata": {},
   "outputs": [],
   "source": [
    "detok_known = []\n",
    "detok_unknown = []\n",
    "\n",
    "def detokenize_text(df, liste):\n",
    "    ''' Detokenize text in order to make TfidfVectorizer applicable. '''\n",
    "    for i in range(0,len(df)):\n",
    "        liste.append(TreebankWordDetokenizer().detokenize(df.name_clean[i] + df.summary_clean[i] + df.description_clean[i]))\n",
    "\n",
    "# Apply detokenize_text\n",
    "detokenize_text(df_known, detok_known)\n",
    "detokenize_text(df_unknown, detok_unknown)"
   ]
  },
  {
   "cell_type": "code",
   "execution_count": 64,
   "metadata": {},
   "outputs": [],
   "source": [
    "# Train-test-split for feature selection\n",
    "X_train_nlp,X_test_nlp,y_train_nlp,y_test_nlp = train_test_split(detok_known, df_known.price, test_size=0.2, random_state=1234)"
   ]
  },
  {
   "cell_type": "markdown",
   "metadata": {},
   "source": [
    "Due to computational burdens and dimishing returns from adding further low frequency words, $n_{words}$ is caped and only the 10000 most frequent words are considered by the TfidfVectorizer. It is trained on `detok_known` - that refers to the relevant text columns of `df_known` - in order to capture the whole vocabular available. Note that `df_unknown` is afterwards only transformed with these fitted values but is not fitted on. The same holds true for the test and train set created by the split."
   ]
  },
  {
   "cell_type": "code",
   "execution_count": 65,
   "metadata": {},
   "outputs": [],
   "source": [
    "# Define Bigram model and fit it to df_known\n",
    "cv = TfidfVectorizer(ngram_range=(1,2), max_features=10000, min_df=0., max_df=1., sublinear_tf=True)\n",
    "cv_matrix = cv.fit_transform(detok_known).toarray()"
   ]
  },
  {
   "cell_type": "code",
   "execution_count": 66,
   "metadata": {},
   "outputs": [
    {
     "data": {
      "text/html": [
       "<div>\n",
       "<style scoped>\n",
       "    .dataframe tbody tr th:only-of-type {\n",
       "        vertical-align: middle;\n",
       "    }\n",
       "\n",
       "    .dataframe tbody tr th {\n",
       "        vertical-align: top;\n",
       "    }\n",
       "\n",
       "    .dataframe thead th {\n",
       "        text-align: right;\n",
       "    }\n",
       "</style>\n",
       "<table border=\"1\" class=\"dataframe\">\n",
       "  <thead>\n",
       "    <tr style=\"text-align: right;\">\n",
       "      <th></th>\n",
       "      <th>abbey</th>\n",
       "      <th>abbey road</th>\n",
       "      <th>abbey wood</th>\n",
       "      <th>able</th>\n",
       "      <th>able access</th>\n",
       "      <th>able enjoy</th>\n",
       "      <th>able escape</th>\n",
       "      <th>able help</th>\n",
       "      <th>able use</th>\n",
       "      <th>abroad</th>\n",
       "      <th>...</th>\n",
       "      <th>zero seven</th>\n",
       "      <th>zero six</th>\n",
       "      <th>zero three</th>\n",
       "      <th>zero two</th>\n",
       "      <th>zone</th>\n",
       "      <th>zone four</th>\n",
       "      <th>zone one</th>\n",
       "      <th>zone three</th>\n",
       "      <th>zone two</th>\n",
       "      <th>zoo</th>\n",
       "    </tr>\n",
       "  </thead>\n",
       "  <tbody>\n",
       "    <tr>\n",
       "      <th>0</th>\n",
       "      <td>0.0</td>\n",
       "      <td>0.0</td>\n",
       "      <td>0.0</td>\n",
       "      <td>0.0</td>\n",
       "      <td>0.0</td>\n",
       "      <td>0.0</td>\n",
       "      <td>0.0</td>\n",
       "      <td>0.0</td>\n",
       "      <td>0.0</td>\n",
       "      <td>0.0</td>\n",
       "      <td>...</td>\n",
       "      <td>0.0</td>\n",
       "      <td>0.0</td>\n",
       "      <td>0.0</td>\n",
       "      <td>0.0</td>\n",
       "      <td>0.0</td>\n",
       "      <td>0.0</td>\n",
       "      <td>0.0</td>\n",
       "      <td>0.0</td>\n",
       "      <td>0.0</td>\n",
       "      <td>0.0</td>\n",
       "    </tr>\n",
       "    <tr>\n",
       "      <th>1</th>\n",
       "      <td>0.0</td>\n",
       "      <td>0.0</td>\n",
       "      <td>0.0</td>\n",
       "      <td>0.0</td>\n",
       "      <td>0.0</td>\n",
       "      <td>0.0</td>\n",
       "      <td>0.0</td>\n",
       "      <td>0.0</td>\n",
       "      <td>0.0</td>\n",
       "      <td>0.0</td>\n",
       "      <td>...</td>\n",
       "      <td>0.0</td>\n",
       "      <td>0.0</td>\n",
       "      <td>0.0</td>\n",
       "      <td>0.0</td>\n",
       "      <td>0.0</td>\n",
       "      <td>0.0</td>\n",
       "      <td>0.0</td>\n",
       "      <td>0.0</td>\n",
       "      <td>0.0</td>\n",
       "      <td>0.0</td>\n",
       "    </tr>\n",
       "    <tr>\n",
       "      <th>2</th>\n",
       "      <td>0.0</td>\n",
       "      <td>0.0</td>\n",
       "      <td>0.0</td>\n",
       "      <td>0.0</td>\n",
       "      <td>0.0</td>\n",
       "      <td>0.0</td>\n",
       "      <td>0.0</td>\n",
       "      <td>0.0</td>\n",
       "      <td>0.0</td>\n",
       "      <td>0.0</td>\n",
       "      <td>...</td>\n",
       "      <td>0.0</td>\n",
       "      <td>0.0</td>\n",
       "      <td>0.0</td>\n",
       "      <td>0.0</td>\n",
       "      <td>0.0</td>\n",
       "      <td>0.0</td>\n",
       "      <td>0.0</td>\n",
       "      <td>0.0</td>\n",
       "      <td>0.0</td>\n",
       "      <td>0.0</td>\n",
       "    </tr>\n",
       "    <tr>\n",
       "      <th>3</th>\n",
       "      <td>0.0</td>\n",
       "      <td>0.0</td>\n",
       "      <td>0.0</td>\n",
       "      <td>0.0</td>\n",
       "      <td>0.0</td>\n",
       "      <td>0.0</td>\n",
       "      <td>0.0</td>\n",
       "      <td>0.0</td>\n",
       "      <td>0.0</td>\n",
       "      <td>0.0</td>\n",
       "      <td>...</td>\n",
       "      <td>0.0</td>\n",
       "      <td>0.0</td>\n",
       "      <td>0.0</td>\n",
       "      <td>0.0</td>\n",
       "      <td>0.0</td>\n",
       "      <td>0.0</td>\n",
       "      <td>0.0</td>\n",
       "      <td>0.0</td>\n",
       "      <td>0.0</td>\n",
       "      <td>0.0</td>\n",
       "    </tr>\n",
       "    <tr>\n",
       "      <th>4</th>\n",
       "      <td>0.0</td>\n",
       "      <td>0.0</td>\n",
       "      <td>0.0</td>\n",
       "      <td>0.0</td>\n",
       "      <td>0.0</td>\n",
       "      <td>0.0</td>\n",
       "      <td>0.0</td>\n",
       "      <td>0.0</td>\n",
       "      <td>0.0</td>\n",
       "      <td>0.0</td>\n",
       "      <td>...</td>\n",
       "      <td>0.0</td>\n",
       "      <td>0.0</td>\n",
       "      <td>0.0</td>\n",
       "      <td>0.0</td>\n",
       "      <td>0.0</td>\n",
       "      <td>0.0</td>\n",
       "      <td>0.0</td>\n",
       "      <td>0.0</td>\n",
       "      <td>0.0</td>\n",
       "      <td>0.0</td>\n",
       "    </tr>\n",
       "    <tr>\n",
       "      <th>...</th>\n",
       "      <td>...</td>\n",
       "      <td>...</td>\n",
       "      <td>...</td>\n",
       "      <td>...</td>\n",
       "      <td>...</td>\n",
       "      <td>...</td>\n",
       "      <td>...</td>\n",
       "      <td>...</td>\n",
       "      <td>...</td>\n",
       "      <td>...</td>\n",
       "      <td>...</td>\n",
       "      <td>...</td>\n",
       "      <td>...</td>\n",
       "      <td>...</td>\n",
       "      <td>...</td>\n",
       "      <td>...</td>\n",
       "      <td>...</td>\n",
       "      <td>...</td>\n",
       "      <td>...</td>\n",
       "      <td>...</td>\n",
       "      <td>...</td>\n",
       "    </tr>\n",
       "    <tr>\n",
       "      <th>55279</th>\n",
       "      <td>0.0</td>\n",
       "      <td>0.0</td>\n",
       "      <td>0.0</td>\n",
       "      <td>0.0</td>\n",
       "      <td>0.0</td>\n",
       "      <td>0.0</td>\n",
       "      <td>0.0</td>\n",
       "      <td>0.0</td>\n",
       "      <td>0.0</td>\n",
       "      <td>0.0</td>\n",
       "      <td>...</td>\n",
       "      <td>0.0</td>\n",
       "      <td>0.0</td>\n",
       "      <td>0.0</td>\n",
       "      <td>0.0</td>\n",
       "      <td>0.0</td>\n",
       "      <td>0.0</td>\n",
       "      <td>0.0</td>\n",
       "      <td>0.0</td>\n",
       "      <td>0.0</td>\n",
       "      <td>0.0</td>\n",
       "    </tr>\n",
       "    <tr>\n",
       "      <th>55280</th>\n",
       "      <td>0.0</td>\n",
       "      <td>0.0</td>\n",
       "      <td>0.0</td>\n",
       "      <td>0.0</td>\n",
       "      <td>0.0</td>\n",
       "      <td>0.0</td>\n",
       "      <td>0.0</td>\n",
       "      <td>0.0</td>\n",
       "      <td>0.0</td>\n",
       "      <td>0.0</td>\n",
       "      <td>...</td>\n",
       "      <td>0.0</td>\n",
       "      <td>0.0</td>\n",
       "      <td>0.0</td>\n",
       "      <td>0.0</td>\n",
       "      <td>0.0</td>\n",
       "      <td>0.0</td>\n",
       "      <td>0.0</td>\n",
       "      <td>0.0</td>\n",
       "      <td>0.0</td>\n",
       "      <td>0.0</td>\n",
       "    </tr>\n",
       "    <tr>\n",
       "      <th>55281</th>\n",
       "      <td>0.0</td>\n",
       "      <td>0.0</td>\n",
       "      <td>0.0</td>\n",
       "      <td>0.0</td>\n",
       "      <td>0.0</td>\n",
       "      <td>0.0</td>\n",
       "      <td>0.0</td>\n",
       "      <td>0.0</td>\n",
       "      <td>0.0</td>\n",
       "      <td>0.0</td>\n",
       "      <td>...</td>\n",
       "      <td>0.0</td>\n",
       "      <td>0.0</td>\n",
       "      <td>0.0</td>\n",
       "      <td>0.0</td>\n",
       "      <td>0.0</td>\n",
       "      <td>0.0</td>\n",
       "      <td>0.0</td>\n",
       "      <td>0.0</td>\n",
       "      <td>0.0</td>\n",
       "      <td>0.0</td>\n",
       "    </tr>\n",
       "    <tr>\n",
       "      <th>55282</th>\n",
       "      <td>0.0</td>\n",
       "      <td>0.0</td>\n",
       "      <td>0.0</td>\n",
       "      <td>0.0</td>\n",
       "      <td>0.0</td>\n",
       "      <td>0.0</td>\n",
       "      <td>0.0</td>\n",
       "      <td>0.0</td>\n",
       "      <td>0.0</td>\n",
       "      <td>0.0</td>\n",
       "      <td>...</td>\n",
       "      <td>0.0</td>\n",
       "      <td>0.0</td>\n",
       "      <td>0.0</td>\n",
       "      <td>0.0</td>\n",
       "      <td>0.0</td>\n",
       "      <td>0.0</td>\n",
       "      <td>0.0</td>\n",
       "      <td>0.0</td>\n",
       "      <td>0.0</td>\n",
       "      <td>0.0</td>\n",
       "    </tr>\n",
       "    <tr>\n",
       "      <th>55283</th>\n",
       "      <td>0.0</td>\n",
       "      <td>0.0</td>\n",
       "      <td>0.0</td>\n",
       "      <td>0.0</td>\n",
       "      <td>0.0</td>\n",
       "      <td>0.0</td>\n",
       "      <td>0.0</td>\n",
       "      <td>0.0</td>\n",
       "      <td>0.0</td>\n",
       "      <td>0.0</td>\n",
       "      <td>...</td>\n",
       "      <td>0.0</td>\n",
       "      <td>0.0</td>\n",
       "      <td>0.0</td>\n",
       "      <td>0.0</td>\n",
       "      <td>0.0</td>\n",
       "      <td>0.0</td>\n",
       "      <td>0.0</td>\n",
       "      <td>0.0</td>\n",
       "      <td>0.0</td>\n",
       "      <td>0.0</td>\n",
       "    </tr>\n",
       "  </tbody>\n",
       "</table>\n",
       "<p>55284 rows × 10000 columns</p>\n",
       "</div>"
      ],
      "text/plain": [
       "       abbey  abbey road  abbey wood  able  able access  able enjoy  \\\n",
       "0        0.0         0.0         0.0   0.0          0.0         0.0   \n",
       "1        0.0         0.0         0.0   0.0          0.0         0.0   \n",
       "2        0.0         0.0         0.0   0.0          0.0         0.0   \n",
       "3        0.0         0.0         0.0   0.0          0.0         0.0   \n",
       "4        0.0         0.0         0.0   0.0          0.0         0.0   \n",
       "...      ...         ...         ...   ...          ...         ...   \n",
       "55279    0.0         0.0         0.0   0.0          0.0         0.0   \n",
       "55280    0.0         0.0         0.0   0.0          0.0         0.0   \n",
       "55281    0.0         0.0         0.0   0.0          0.0         0.0   \n",
       "55282    0.0         0.0         0.0   0.0          0.0         0.0   \n",
       "55283    0.0         0.0         0.0   0.0          0.0         0.0   \n",
       "\n",
       "       able escape  able help  able use  abroad  ...  zero seven  zero six  \\\n",
       "0              0.0        0.0       0.0     0.0  ...         0.0       0.0   \n",
       "1              0.0        0.0       0.0     0.0  ...         0.0       0.0   \n",
       "2              0.0        0.0       0.0     0.0  ...         0.0       0.0   \n",
       "3              0.0        0.0       0.0     0.0  ...         0.0       0.0   \n",
       "4              0.0        0.0       0.0     0.0  ...         0.0       0.0   \n",
       "...            ...        ...       ...     ...  ...         ...       ...   \n",
       "55279          0.0        0.0       0.0     0.0  ...         0.0       0.0   \n",
       "55280          0.0        0.0       0.0     0.0  ...         0.0       0.0   \n",
       "55281          0.0        0.0       0.0     0.0  ...         0.0       0.0   \n",
       "55282          0.0        0.0       0.0     0.0  ...         0.0       0.0   \n",
       "55283          0.0        0.0       0.0     0.0  ...         0.0       0.0   \n",
       "\n",
       "       zero three  zero two  zone  zone four  zone one  zone three  zone two  \\\n",
       "0             0.0       0.0   0.0        0.0       0.0         0.0       0.0   \n",
       "1             0.0       0.0   0.0        0.0       0.0         0.0       0.0   \n",
       "2             0.0       0.0   0.0        0.0       0.0         0.0       0.0   \n",
       "3             0.0       0.0   0.0        0.0       0.0         0.0       0.0   \n",
       "4             0.0       0.0   0.0        0.0       0.0         0.0       0.0   \n",
       "...           ...       ...   ...        ...       ...         ...       ...   \n",
       "55279         0.0       0.0   0.0        0.0       0.0         0.0       0.0   \n",
       "55280         0.0       0.0   0.0        0.0       0.0         0.0       0.0   \n",
       "55281         0.0       0.0   0.0        0.0       0.0         0.0       0.0   \n",
       "55282         0.0       0.0   0.0        0.0       0.0         0.0       0.0   \n",
       "55283         0.0       0.0   0.0        0.0       0.0         0.0       0.0   \n",
       "\n",
       "       zoo  \n",
       "0      0.0  \n",
       "1      0.0  \n",
       "2      0.0  \n",
       "3      0.0  \n",
       "4      0.0  \n",
       "...    ...  \n",
       "55279  0.0  \n",
       "55280  0.0  \n",
       "55281  0.0  \n",
       "55282  0.0  \n",
       "55283  0.0  \n",
       "\n",
       "[55284 rows x 10000 columns]"
      ]
     },
     "execution_count": 66,
     "metadata": {},
     "output_type": "execute_result"
    }
   ],
   "source": [
    "# Get vocab and create the data frames for df_known and df_unknown with the respective columns\n",
    "vocab = cv.get_feature_names()\n",
    "ngram_known = pd.DataFrame(cv_matrix, columns=vocab)\n",
    "ngram_unknown = pd.DataFrame(cv.transform(detok_unknown).toarray(), columns=vocab)\n",
    "\n",
    "# Create the data frames for train and test\n",
    "ngram_train = pd.DataFrame(cv.transform(X_train_nlp).toarray(), columns=vocab)\n",
    "ngram_test = pd.DataFrame(cv.transform(X_test_nlp).toarray(), columns=vocab)\n",
    "\n",
    "# Show matrix for df_known\n",
    "ngram_known"
   ]
  },
  {
   "cell_type": "markdown",
   "metadata": {},
   "source": [
    "The high dimensions causes a very sparse matrix with most entries being 0. To reduce dimensionality the SVD is well suited here because it - in contrast to the Principal Component Analysis (PCA) - does not require a prior normalization. This process is called latent semantic indexing where - following the distributional hypothesis - the words are combined to context representations via the principal components. Based on this components the predictive performance of a linear model is used as heuristic decision support in order to select the number of components."
   ]
  },
  {
   "cell_type": "code",
   "execution_count": 77,
   "metadata": {},
   "outputs": [
    {
     "data": {
      "image/png": "[encoded data removed]",
      "text/plain": [
       "<Figure size 432x288 with 1 Axes>"
      ]
     },
     "metadata": {
      "needs_background": "light"
     },
     "output_type": "display_data"
    }
   ],
   "source": [
    "components = list(np.arange(200,2200,200))\n",
    "train_results = []\n",
    "test_results = []\n",
    "\n",
    "for comp in components:\n",
    "    # Define model (LR) at the component level\n",
    "    svd = TruncatedSVD(n_components=comp, n_iter=3, random_state=1234).fit(ngram_train)\n",
    "    svd_train = svd.transform(ngram_train)\n",
    "    svd_test = svd.transform(ngram_test)\n",
    "    reg = LinearRegression()\n",
    "    reg.fit(svd_train, y_train_nlp) # Fit model\n",
    "    rmse = np.sqrt(mean_squared_error(y_train_nlp, reg.predict(svd_train)))\n",
    "    train_results.append(rmse)\n",
    "    rmse = np.sqrt(mean_squared_error(y_test_nlp, reg.predict(svd_test)))\n",
    "    test_results.append(rmse)\n",
    "    \n",
    "# Plot AUC values for train and test set\n",
    "plt.plot(components, train_results, label='train')\n",
    "plt.plot(components, test_results, label='test')\n",
    "plt.ylabel('RMSE')\n",
    "plt.xlabel('Components')\n",
    "plt.legend()\n",
    "plt.show()"
   ]
  },
  {
   "cell_type": "markdown",
   "metadata": {},
   "source": [
    "It becomes visible that the predictive performance is maximized around 1800 components. However to avoid inflating the datasets with that components and lower the dimensionality of the final datasets, 800 components are selected for the downstream task. This is done following a elbow argument."
   ]
  },
  {
   "cell_type": "code",
   "execution_count": 67,
   "metadata": {},
   "outputs": [
    {
     "data": {
      "text/html": [
       "<div>\n",
       "<style scoped>\n",
       "    .dataframe tbody tr th:only-of-type {\n",
       "        vertical-align: middle;\n",
       "    }\n",
       "\n",
       "    .dataframe tbody tr th {\n",
       "        vertical-align: top;\n",
       "    }\n",
       "\n",
       "    .dataframe thead th {\n",
       "        text-align: right;\n",
       "    }\n",
       "</style>\n",
       "<table border=\"1\" class=\"dataframe\">\n",
       "  <thead>\n",
       "    <tr style=\"text-align: right;\">\n",
       "      <th></th>\n",
       "      <th>0</th>\n",
       "      <th>1</th>\n",
       "      <th>2</th>\n",
       "      <th>3</th>\n",
       "      <th>4</th>\n",
       "      <th>5</th>\n",
       "      <th>6</th>\n",
       "      <th>7</th>\n",
       "      <th>8</th>\n",
       "      <th>9</th>\n",
       "      <th>...</th>\n",
       "      <th>790</th>\n",
       "      <th>791</th>\n",
       "      <th>792</th>\n",
       "      <th>793</th>\n",
       "      <th>794</th>\n",
       "      <th>795</th>\n",
       "      <th>796</th>\n",
       "      <th>797</th>\n",
       "      <th>798</th>\n",
       "      <th>799</th>\n",
       "    </tr>\n",
       "  </thead>\n",
       "  <tbody>\n",
       "    <tr>\n",
       "      <th>0</th>\n",
       "      <td>0.159498</td>\n",
       "      <td>0.023450</td>\n",
       "      <td>0.109469</td>\n",
       "      <td>0.031132</td>\n",
       "      <td>-0.027434</td>\n",
       "      <td>-0.028695</td>\n",
       "      <td>0.002652</td>\n",
       "      <td>-0.071087</td>\n",
       "      <td>-0.002496</td>\n",
       "      <td>0.005611</td>\n",
       "      <td>...</td>\n",
       "      <td>-0.018986</td>\n",
       "      <td>-0.010771</td>\n",
       "      <td>0.005983</td>\n",
       "      <td>-0.008411</td>\n",
       "      <td>-0.003738</td>\n",
       "      <td>-0.000124</td>\n",
       "      <td>-0.003654</td>\n",
       "      <td>-0.010226</td>\n",
       "      <td>0.019767</td>\n",
       "      <td>0.001446</td>\n",
       "    </tr>\n",
       "    <tr>\n",
       "      <th>1</th>\n",
       "      <td>0.195961</td>\n",
       "      <td>0.051235</td>\n",
       "      <td>0.043626</td>\n",
       "      <td>0.007016</td>\n",
       "      <td>0.023519</td>\n",
       "      <td>-0.013997</td>\n",
       "      <td>-0.040000</td>\n",
       "      <td>-0.072970</td>\n",
       "      <td>-0.100278</td>\n",
       "      <td>0.011672</td>\n",
       "      <td>...</td>\n",
       "      <td>0.000005</td>\n",
       "      <td>-0.006834</td>\n",
       "      <td>-0.010740</td>\n",
       "      <td>0.020836</td>\n",
       "      <td>0.000492</td>\n",
       "      <td>-0.012971</td>\n",
       "      <td>-0.002312</td>\n",
       "      <td>0.011209</td>\n",
       "      <td>0.026767</td>\n",
       "      <td>0.013342</td>\n",
       "    </tr>\n",
       "    <tr>\n",
       "      <th>2</th>\n",
       "      <td>0.062440</td>\n",
       "      <td>-0.004752</td>\n",
       "      <td>-0.028490</td>\n",
       "      <td>0.022086</td>\n",
       "      <td>0.001314</td>\n",
       "      <td>-0.019739</td>\n",
       "      <td>-0.042252</td>\n",
       "      <td>0.020539</td>\n",
       "      <td>0.033647</td>\n",
       "      <td>-0.016590</td>\n",
       "      <td>...</td>\n",
       "      <td>0.007283</td>\n",
       "      <td>-0.024735</td>\n",
       "      <td>0.002005</td>\n",
       "      <td>0.042596</td>\n",
       "      <td>-0.014682</td>\n",
       "      <td>0.017930</td>\n",
       "      <td>0.019937</td>\n",
       "      <td>0.007640</td>\n",
       "      <td>0.029362</td>\n",
       "      <td>0.019477</td>\n",
       "    </tr>\n",
       "    <tr>\n",
       "      <th>3</th>\n",
       "      <td>0.242497</td>\n",
       "      <td>0.037398</td>\n",
       "      <td>0.057897</td>\n",
       "      <td>-0.030894</td>\n",
       "      <td>-0.006105</td>\n",
       "      <td>-0.012370</td>\n",
       "      <td>0.012818</td>\n",
       "      <td>0.045001</td>\n",
       "      <td>-0.050574</td>\n",
       "      <td>0.038546</td>\n",
       "      <td>...</td>\n",
       "      <td>0.004300</td>\n",
       "      <td>0.004557</td>\n",
       "      <td>-0.005860</td>\n",
       "      <td>-0.000262</td>\n",
       "      <td>-0.009107</td>\n",
       "      <td>0.013518</td>\n",
       "      <td>0.029916</td>\n",
       "      <td>-0.017573</td>\n",
       "      <td>0.005871</td>\n",
       "      <td>0.001291</td>\n",
       "    </tr>\n",
       "    <tr>\n",
       "      <th>4</th>\n",
       "      <td>0.243072</td>\n",
       "      <td>0.075785</td>\n",
       "      <td>0.000711</td>\n",
       "      <td>0.022885</td>\n",
       "      <td>0.099849</td>\n",
       "      <td>-0.102738</td>\n",
       "      <td>0.024937</td>\n",
       "      <td>-0.043527</td>\n",
       "      <td>-0.050692</td>\n",
       "      <td>-0.012632</td>\n",
       "      <td>...</td>\n",
       "      <td>0.004910</td>\n",
       "      <td>0.013120</td>\n",
       "      <td>-0.032043</td>\n",
       "      <td>0.003290</td>\n",
       "      <td>-0.010968</td>\n",
       "      <td>-0.002732</td>\n",
       "      <td>-0.010282</td>\n",
       "      <td>-0.011217</td>\n",
       "      <td>0.011796</td>\n",
       "      <td>-0.011982</td>\n",
       "    </tr>\n",
       "    <tr>\n",
       "      <th>...</th>\n",
       "      <td>...</td>\n",
       "      <td>...</td>\n",
       "      <td>...</td>\n",
       "      <td>...</td>\n",
       "      <td>...</td>\n",
       "      <td>...</td>\n",
       "      <td>...</td>\n",
       "      <td>...</td>\n",
       "      <td>...</td>\n",
       "      <td>...</td>\n",
       "      <td>...</td>\n",
       "      <td>...</td>\n",
       "      <td>...</td>\n",
       "      <td>...</td>\n",
       "      <td>...</td>\n",
       "      <td>...</td>\n",
       "      <td>...</td>\n",
       "      <td>...</td>\n",
       "      <td>...</td>\n",
       "      <td>...</td>\n",
       "      <td>...</td>\n",
       "    </tr>\n",
       "    <tr>\n",
       "      <th>55279</th>\n",
       "      <td>0.188328</td>\n",
       "      <td>-0.017626</td>\n",
       "      <td>-0.026422</td>\n",
       "      <td>0.011807</td>\n",
       "      <td>-0.043146</td>\n",
       "      <td>0.022587</td>\n",
       "      <td>0.032644</td>\n",
       "      <td>0.028786</td>\n",
       "      <td>0.047628</td>\n",
       "      <td>-0.029381</td>\n",
       "      <td>...</td>\n",
       "      <td>-0.034109</td>\n",
       "      <td>0.013565</td>\n",
       "      <td>-0.009224</td>\n",
       "      <td>-0.011548</td>\n",
       "      <td>0.016702</td>\n",
       "      <td>0.008345</td>\n",
       "      <td>-0.002487</td>\n",
       "      <td>-0.018773</td>\n",
       "      <td>0.009307</td>\n",
       "      <td>-0.000443</td>\n",
       "    </tr>\n",
       "    <tr>\n",
       "      <th>55280</th>\n",
       "      <td>0.143260</td>\n",
       "      <td>0.100627</td>\n",
       "      <td>0.089710</td>\n",
       "      <td>-0.006014</td>\n",
       "      <td>0.022165</td>\n",
       "      <td>-0.038052</td>\n",
       "      <td>0.028904</td>\n",
       "      <td>0.044964</td>\n",
       "      <td>-0.008983</td>\n",
       "      <td>-0.065376</td>\n",
       "      <td>...</td>\n",
       "      <td>-0.004057</td>\n",
       "      <td>-0.000799</td>\n",
       "      <td>-0.011068</td>\n",
       "      <td>-0.015107</td>\n",
       "      <td>-0.002003</td>\n",
       "      <td>0.011287</td>\n",
       "      <td>-0.010118</td>\n",
       "      <td>0.007281</td>\n",
       "      <td>0.010504</td>\n",
       "      <td>-0.005657</td>\n",
       "    </tr>\n",
       "    <tr>\n",
       "      <th>55281</th>\n",
       "      <td>0.247974</td>\n",
       "      <td>0.095353</td>\n",
       "      <td>0.030618</td>\n",
       "      <td>0.010558</td>\n",
       "      <td>-0.003190</td>\n",
       "      <td>-0.093997</td>\n",
       "      <td>-0.014045</td>\n",
       "      <td>0.025422</td>\n",
       "      <td>0.057962</td>\n",
       "      <td>-0.014335</td>\n",
       "      <td>...</td>\n",
       "      <td>0.015392</td>\n",
       "      <td>0.003334</td>\n",
       "      <td>-0.007447</td>\n",
       "      <td>-0.013702</td>\n",
       "      <td>0.006944</td>\n",
       "      <td>0.030639</td>\n",
       "      <td>-0.018105</td>\n",
       "      <td>-0.008770</td>\n",
       "      <td>-0.009057</td>\n",
       "      <td>-0.006741</td>\n",
       "    </tr>\n",
       "    <tr>\n",
       "      <th>55282</th>\n",
       "      <td>0.257567</td>\n",
       "      <td>0.112342</td>\n",
       "      <td>-0.051249</td>\n",
       "      <td>0.043760</td>\n",
       "      <td>-0.070266</td>\n",
       "      <td>0.018764</td>\n",
       "      <td>0.046558</td>\n",
       "      <td>0.034312</td>\n",
       "      <td>0.002739</td>\n",
       "      <td>-0.013268</td>\n",
       "      <td>...</td>\n",
       "      <td>0.007202</td>\n",
       "      <td>0.007663</td>\n",
       "      <td>0.009054</td>\n",
       "      <td>-0.004417</td>\n",
       "      <td>0.001896</td>\n",
       "      <td>0.026230</td>\n",
       "      <td>0.000098</td>\n",
       "      <td>0.000211</td>\n",
       "      <td>0.018708</td>\n",
       "      <td>-0.022469</td>\n",
       "    </tr>\n",
       "    <tr>\n",
       "      <th>55283</th>\n",
       "      <td>0.217786</td>\n",
       "      <td>0.016434</td>\n",
       "      <td>0.052705</td>\n",
       "      <td>0.035888</td>\n",
       "      <td>-0.027710</td>\n",
       "      <td>0.006194</td>\n",
       "      <td>-0.007322</td>\n",
       "      <td>-0.001428</td>\n",
       "      <td>0.012432</td>\n",
       "      <td>0.051429</td>\n",
       "      <td>...</td>\n",
       "      <td>0.011053</td>\n",
       "      <td>-0.000234</td>\n",
       "      <td>-0.000605</td>\n",
       "      <td>-0.010271</td>\n",
       "      <td>0.004971</td>\n",
       "      <td>-0.010774</td>\n",
       "      <td>-0.016407</td>\n",
       "      <td>0.040559</td>\n",
       "      <td>0.000146</td>\n",
       "      <td>0.005995</td>\n",
       "    </tr>\n",
       "  </tbody>\n",
       "</table>\n",
       "<p>55284 rows × 800 columns</p>\n",
       "</div>"
      ],
      "text/plain": [
       "            0         1         2         3         4         5         6    \\\n",
       "0      0.159498  0.023450  0.109469  0.031132 -0.027434 -0.028695  0.002652   \n",
       "1      0.195961  0.051235  0.043626  0.007016  0.023519 -0.013997 -0.040000   \n",
       "2      0.062440 -0.004752 -0.028490  0.022086  0.001314 -0.019739 -0.042252   \n",
       "3      0.242497  0.037398  0.057897 -0.030894 -0.006105 -0.012370  0.012818   \n",
       "4      0.243072  0.075785  0.000711  0.022885  0.099849 -0.102738  0.024937   \n",
       "...         ...       ...       ...       ...       ...       ...       ...   \n",
       "55279  0.188328 -0.017626 -0.026422  0.011807 -0.043146  0.022587  0.032644   \n",
       "55280  0.143260  0.100627  0.089710 -0.006014  0.022165 -0.038052  0.028904   \n",
       "55281  0.247974  0.095353  0.030618  0.010558 -0.003190 -0.093997 -0.014045   \n",
       "55282  0.257567  0.112342 -0.051249  0.043760 -0.070266  0.018764  0.046558   \n",
       "55283  0.217786  0.016434  0.052705  0.035888 -0.027710  0.006194 -0.007322   \n",
       "\n",
       "            7         8         9    ...       790       791       792  \\\n",
       "0     -0.071087 -0.002496  0.005611  ... -0.018986 -0.010771  0.005983   \n",
       "1     -0.072970 -0.100278  0.011672  ...  0.000005 -0.006834 -0.010740   \n",
       "2      0.020539  0.033647 -0.016590  ...  0.007283 -0.024735  0.002005   \n",
       "3      0.045001 -0.050574  0.038546  ...  0.004300  0.004557 -0.005860   \n",
       "4     -0.043527 -0.050692 -0.012632  ...  0.004910  0.013120 -0.032043   \n",
       "...         ...       ...       ...  ...       ...       ...       ...   \n",
       "55279  0.028786  0.047628 -0.029381  ... -0.034109  0.013565 -0.009224   \n",
       "55280  0.044964 -0.008983 -0.065376  ... -0.004057 -0.000799 -0.011068   \n",
       "55281  0.025422  0.057962 -0.014335  ...  0.015392  0.003334 -0.007447   \n",
       "55282  0.034312  0.002739 -0.013268  ...  0.007202  0.007663  0.009054   \n",
       "55283 -0.001428  0.012432  0.051429  ...  0.011053 -0.000234 -0.000605   \n",
       "\n",
       "            793       794       795       796       797       798       799  \n",
       "0     -0.008411 -0.003738 -0.000124 -0.003654 -0.010226  0.019767  0.001446  \n",
       "1      0.020836  0.000492 -0.012971 -0.002312  0.011209  0.026767  0.013342  \n",
       "2      0.042596 -0.014682  0.017930  0.019937  0.007640  0.029362  0.019477  \n",
       "3     -0.000262 -0.009107  0.013518  0.029916 -0.017573  0.005871  0.001291  \n",
       "4      0.003290 -0.010968 -0.002732 -0.010282 -0.011217  0.011796 -0.011982  \n",
       "...         ...       ...       ...       ...       ...       ...       ...  \n",
       "55279 -0.011548  0.016702  0.008345 -0.002487 -0.018773  0.009307 -0.000443  \n",
       "55280 -0.015107 -0.002003  0.011287 -0.010118  0.007281  0.010504 -0.005657  \n",
       "55281 -0.013702  0.006944  0.030639 -0.018105 -0.008770 -0.009057 -0.006741  \n",
       "55282 -0.004417  0.001896  0.026230  0.000098  0.000211  0.018708 -0.022469  \n",
       "55283 -0.010271  0.004971 -0.010774 -0.016407  0.040559  0.000146  0.005995  \n",
       "\n",
       "[55284 rows x 800 columns]"
      ]
     },
     "execution_count": 67,
     "metadata": {},
     "output_type": "execute_result"
    }
   ],
   "source": [
    "# Get transformed embeddings according to the number of principle components in feature selection\n",
    "svd = TruncatedSVD(n_components=800, n_iter=5, random_state=1234).fit(ngram_known)\n",
    "ngram_known_svd = pd.DataFrame(svd.transform(ngram_known))\n",
    "ngram_unknown_svd = pd.DataFrame(svd.transform(ngram_unknown))\n",
    "\n",
    "# Show matrix for df_known\n",
    "ngram_known_svd"
   ]
  },
  {
   "cell_type": "markdown",
   "metadata": {},
   "source": [
    "Note that the resulting matrix is no longer sparse which follows the fact of having context representations here. The components are merged to `df_known` and `df_unknown` resulting in `df_known_nlp` and `df_unknown_nlp`."
   ]
  },
  {
   "cell_type": "code",
   "execution_count": 68,
   "metadata": {},
   "outputs": [],
   "source": [
    "# Merge the new features to df_known and df_unknown and create df_known_nlp and df_unknown_nlp\n",
    "df_known_nlp = pd.merge(df_known, ngram_known_svd, how='left', left_index=True, right_index=True)\n",
    "df_unknown_nlp = pd.merge(df_unknown, ngram_unknown_svd, how='left', left_index=True, right_index=True)"
   ]
  },
  {
   "cell_type": "markdown",
   "metadata": {},
   "source": [
    "### 5.2 Fine-Tuned Sentence-BERT\n",
    "As further NLP technique the [Sentence Bidirectional Encoder Representations from Transformers](https://www.sbert.net/) (SBERT)  according to [Reimers (2019)](https://arxiv.org/pdf/1908.10084.pdf) are used. Even though it was designed mainly for semantic textual similarity tasks, SBERT outperforms other state-of-the-art sentence embeddings methods on the SentEval transfer learning tasks (Reimers,2019,p.6f). Hence the idea is to import a pre-trained SBERT model and to refine its sentence embeddings with information towards `price` by tuning the model with the text and target data of this task. Herefore SBERT uses a [siamese network architecture](https://www.sbert.net/docs/training/overview.html) to learn similarities. This is done by encoding two sentences independently with a BERT model on the word level, applying mean pooling to get two sentence representations and calculating their cosine-similarity that is compared to a gold label via the mean squared error. Having identified to sentences $i,j$ to compare from the dataset entries, a non-negativ gold label is inferred from the target `price` via \n",
    "\n",
    "$$ \\frac {\\min\\big(price_i, price_j\\big)} {\\max\\big(price_i, price_j\\big)} ~~~~~ \\text{with} ~~~~~ i \\neq j . $$"
   ]
  },
  {
   "cell_type": "markdown",
   "metadata": {},
   "source": [
    "#### Load Sentence Embeddings for the Downstream Task\n",
    "\n",
    "NOTE: The final embeddings are [provided](https://www.dropbox.com/sh/5of2lc58qmkk8bk/AADzQndCICjT1lAQo6Mp3RHFa?dl=0) and can be loaded from the directory of the notebook using the following code."
   ]
  },
  {
   "cell_type": "code",
   "execution_count": null,
   "metadata": {},
   "outputs": [],
   "source": [
    "# Load data frame from notebook location\n",
    "emb_known = pd.read_pickle(path + '\\\\emb_known.pkl')\n",
    "emb_unknown = pd.read_pickle(path + '\\\\emb_unknown.pkl')\n",
    "\n",
    "# Merge transformed embeddings to df_known_nlp and df_unknown_nlp\n",
    "df_known_nlp = pd.merge(df_known_nlp, emb_known, how='left', left_index=True, right_index=True)\n",
    "df_unknown_nlp = pd.merge(df_unknown_nlp, emb_unknown, how='left', left_index=True, right_index=True)"
   ]
  },
  {
   "cell_type": "markdown",
   "metadata": {},
   "source": [
    "#### Generate Sentence Embeddings for the Downstream Task\n",
    "\n",
    "The text columns of the datasets are combined to `text_known` and `text_unknown`, a train-test-split is applied to `text_known` without shuffling and a fast (since training is done on the CPU) but still resonably good [general purpose SBERT](https://www.sbert.net/docs/pretrained_models.html) model is loaded."
   ]
  },
  {
   "cell_type": "code",
   "execution_count": 69,
   "metadata": {},
   "outputs": [],
   "source": [
    "# Merge cleaned text features\n",
    "text_known = df_known_nlp.name_clean + df_known_nlp.summary_clean + df_known_nlp.description_clean\n",
    "text_unknown = df_unknown_nlp.name_clean+df_unknown_nlp.summary_clean+df_unknown_nlp.description_clean\n",
    "\n",
    "# Train-test-split for model training and feature selection\n",
    "X_train_nlp,X_test_nlp,y_train_nlp,y_test_nlp = train_test_split(text_known, df_known.price, test_size=0.2, shuffle=False)\n",
    "\n",
    "# Load a fast pre-trained SBERT model\n",
    "model = SentenceTransformer('paraphrase-MiniLM-L6-v2', device='cpu')"
   ]
  },
  {
   "cell_type": "markdown",
   "metadata": {},
   "source": [
    "To get examples from pairs of sentences and gold labels for training and validation `train_examples` and `eval_examples` is defined. Here every index of non empty text entries is written to `non_empty` and generates examples with the next and the previous entry in the `non_empty` list. Following the EDA the data seems to be unordered hence this can be done to make the price and text entries appear equally often. On top of that a random assignment is conducted in `eval_examples` to identify further training examples. "
   ]
  },
  {
   "cell_type": "code",
   "execution_count": 70,
   "metadata": {},
   "outputs": [],
   "source": [
    "def train_examples(df_train, label_train):\n",
    "    ''' Prepares examples from the train set for fine tuning. Each non-empty entry is combined\n",
    "        both with the index neighbors in the dataset and one other entry that is selected randomly. '''\n",
    "    seed(1234)\n",
    "    examples=[]\n",
    "    non_empty = list(df_train.index[df_train.str.len() != 0])\n",
    "    \n",
    "    for i in non_empty:\n",
    "        if non_empty.index(i) < len(non_empty)-1:\n",
    "            examples.append(InputExample(texts=[TreebankWordDetokenizer().detokenize(df_train[i]), \n",
    "                            TreebankWordDetokenizer().detokenize(df_train[non_empty[non_empty.index(i)+1]])],\n",
    "                            label=float(min(label_train[i],label_train[i+1])/max(label_train[i],label_train[i+1]))))      \n",
    "        j = random.sample(non_empty, 1)[0]\n",
    "        examples.append(InputExample(texts=[TreebankWordDetokenizer().detokenize(df_train[i]), \n",
    "                        TreebankWordDetokenizer().detokenize(df_train[j])],\n",
    "                        label=float(min(label_train[i],label_train[j])/max(label_train[i],label_train[j]))))\n",
    "    return examples"
   ]
  },
  {
   "cell_type": "code",
   "execution_count": 71,
   "metadata": {},
   "outputs": [],
   "source": [
    "def eval_examples(df_train, df_test, label_test):\n",
    "    ''' Prepares examples from the test set for validation. Each non-empty\n",
    "        entry is combined with the index neighbors in the dataset.'''\n",
    "    val_example_1=[]\n",
    "    val_example_2=[]\n",
    "    score=[]\n",
    "    non_empty = list(df_test.index[df_test.str.len() != 0])\n",
    "    \n",
    "    for i in non_empty:\n",
    "        if non_empty.index(i) < len(non_empty)-1:\n",
    "            val_example_1.append(TreebankWordDetokenizer().detokenize(df_test[i]))\n",
    "            val_example_2.append(TreebankWordDetokenizer().detokenize(df_test[i+1]))\n",
    "            score.append(float(min(label_test[i],label_test[i+1])/max(label_test[i],label_test[i+1])))\n",
    "    return (val_example_1, val_example_2, score)"
   ]
  },
  {
   "cell_type": "markdown",
   "metadata": {},
   "source": [
    "The text sequences used for the SBERT fine-tuning are trimmed via the 99% quantile of all text lengths in the dataset the model is frained on since long sequences disproportionately slow the training down. The unnormalized distribution of text sequence lengths is visualized with `plot_len_text`."
   ]
  },
  {
   "cell_type": "code",
   "execution_count": 72,
   "metadata": {},
   "outputs": [],
   "source": [
    "def plot_len_text(t_known, t_unknown):\n",
    "    ''' Visulize the text lengths of the inputs. '''\n",
    "    train_length = t_known.apply(lambda x: len(str(x).split()))\n",
    "    test_length = t_unknown.apply(lambda x: len(str(x).split()))\n",
    "    plt.subplots(1, 2, figsize=(16,8))\n",
    "    plt.subplot(1, 2, 1)\n",
    "    plt.title('Unnormalized Distribution in Train Data')\n",
    "    plt.xlabel('Text length')\n",
    "    train_length.plot.hist(bins=100);\n",
    "    plt.subplot(1, 2, 2)\n",
    "    plt.title('Unnormalized Distribution in Test Data')\n",
    "    plt.xlabel('Text length')\n",
    "    test_length.plot.hist(bins=100);\n",
    "    plt.show()"
   ]
  },
  {
   "cell_type": "code",
   "execution_count": 73,
   "metadata": {},
   "outputs": [
    {
     "data": {
      "image/png": "[encoded data removed]",
      "text/plain": [
       "<Figure size 1152x576 with 2 Axes>"
      ]
     },
     "metadata": {
      "needs_background": "light"
     },
     "output_type": "display_data"
    },
    {
     "name": "stdout",
     "output_type": "stream",
     "text": [
      "The trimmed input sequence has 135 words.\n"
     ]
    }
   ],
   "source": [
    "# Apply plot_len_text\n",
    "plot_len_text(X_train_nlp, X_test_nlp)\n",
    "\n",
    "# Apply plot_len_text\n",
    "print('The trimmed input sequence has {} words.'.format(round(np.quantile([len(row) for row in X_train_nlp], .99))))"
   ]
  },
  {
   "cell_type": "markdown",
   "metadata": {},
   "source": [
    "As trying several SBERT configurations proved to be costly the default settings were chosen mostly. This includes the optimizer `AdamW` featuring weight decay which also can be considered a go to optimizer in general. The `learning rate` was not changed, the number of `epochs` were set to 2 and only the `batch size` was tweaked to 32 via a trial-and-error approach.   "
   ]
  },
  {
   "cell_type": "code",
   "execution_count": 74,
   "metadata": {},
   "outputs": [],
   "source": [
    "def train_SBERT(df_train, label_train, check_val, squantile, batch, lr, epoch):\n",
    "    ''' Fine tunes the pre-trained SBERT model with the train set examples \n",
    "        while evaluation the validation examples. '''\n",
    "    # Set seed\n",
    "    seed(1234)\n",
    "    tf.random.set_seed(1234)\n",
    "\n",
    "    # Train examples\n",
    "    examples = train_examples(df_train, label_train)\n",
    "\n",
    "    # Train dataset, dataloader and train loss\n",
    "    train_dataloader = DataLoader(examples, shuffle=True, batch_size=batch)\n",
    "    train_loss = losses_trans.CosineSimilarityLoss(model)\n",
    "    \n",
    "    if check_val == True:\n",
    "        print('NOTE: The validation results are written to the location of this notebook.')\n",
    "        # Validation set\n",
    "        val_example_1, val_example_2, score = eval_examples(df_train, X_test_nlp, y_test_nlp)\n",
    "        evaluator = evaluation.EmbeddingSimilarityEvaluator(val_example_1, val_example_2, score)\n",
    "\n",
    "        # Model tune\n",
    "        model.max_seq_length = round(np.quantile([len(article) for article in df_train],squantile))\n",
    "        model.fit(train_objectives=[(train_dataloader, train_loss)], optimizer_class = transformers.optimization.AdamW, \n",
    "                  optimizer_params={'lr': lr}, epochs=epoch, scheduler='warmuplinear', warmup_steps=500,\n",
    "                  evaluator=evaluator, evaluation_steps=750, output_path=path, save_best_model=True)\n",
    "    else:\n",
    "        print('NOTE: The model is trained without validation.')\n",
    "        # Model tune\n",
    "        model.max_seq_length = round(np.quantile([len(article) for article in df_train],squantile))\n",
    "        model.fit(train_objectives=[(train_dataloader, train_loss)], optimizer_class = transformers.optimization.AdamW, \n",
    "                  optimizer_params={'lr': lr}, epochs=epoch, scheduler='warmuplinear', warmup_steps=500)"
   ]
  },
  {
   "cell_type": "code",
   "execution_count": 75,
   "metadata": {},
   "outputs": [
    {
     "name": "stdout",
     "output_type": "stream",
     "text": [
      "NOTE: The validation results are written to the location of this notebook.\n"
     ]
    },
    {
     "data": {
      "application/vnd.jupyter.widget-view+json": {
       "model_id": "0597a5379a844c08830d6ec93ec51bb7",
       "version_major": 2,
       "version_minor": 0
      },
      "text/plain": [
       "Epoch:   0%|          | 0/2 [00:00<?, ?it/s]"
      ]
     },
     "metadata": {},
     "output_type": "display_data"
    },
    {
     "data": {
      "application/vnd.jupyter.widget-view+json": {
       "model_id": "c3748bb2814e40b68c642c88634b4d93",
       "version_major": 2,
       "version_minor": 0
      },
      "text/plain": [
       "Iteration:   0%|          | 0/2764 [00:00<?, ?it/s]"
      ]
     },
     "metadata": {},
     "output_type": "display_data"
    },
    {
     "data": {
      "application/vnd.jupyter.widget-view+json": {
       "model_id": "4e8620d0312e443594038901e793348a",
       "version_major": 2,
       "version_minor": 0
      },
      "text/plain": [
       "Iteration:   0%|          | 0/2764 [00:00<?, ?it/s]"
      ]
     },
     "metadata": {},
     "output_type": "display_data"
    },
    {
     "name": "stdout",
     "output_type": "stream",
     "text": [
      "Fine-tuned SBERT in 613.93 mins\n"
     ]
    }
   ],
   "source": [
    "# Apply train_SBERT with specified parameters\n",
    "start = time.time()\n",
    "train_SBERT(df_train=X_train_nlp, label_train=y_train_nlp, check_val=True, squantile=0.99, batch=32, lr=1e-05, epoch=2)\n",
    "print('Fine-tuned SBERT in {} mins.'.format(round((time.time() - start) / 60, 2)))"
   ]
  },
  {
   "cell_type": "markdown",
   "metadata": {},
   "source": [
    "After this lengthy [fine-tuning](https://www.dropbox.com/sh/5of2lc58qmkk8bk/AADzQndCICjT1lAQo6Mp3RHFa?dl=0) the embeddings for the `X_train_nlp` and `X_test_nlp` are generated."
   ]
  },
  {
   "cell_type": "code",
   "execution_count": 76,
   "metadata": {},
   "outputs": [],
   "source": [
    "def SBERT_embeddings(df):\n",
    "    ''' Encode sentence embeddings from a text dataset. '''\n",
    "    emb = []\n",
    "    for i in df.index:\n",
    "        emb.append(model.encode(TreebankWordDetokenizer().detokenize(df[i])))\n",
    "    emb = pd.DataFrame(list(map(np.ravel, emb)))\n",
    "    return emb"
   ]
  },
  {
   "cell_type": "code",
   "execution_count": 77,
   "metadata": {},
   "outputs": [
    {
     "name": "stdout",
     "output_type": "stream",
     "text": [
      "Generated train-test-split embeddings in 24.57 mins\n"
     ]
    },
    {
     "data": {
      "text/html": [
       "<div>\n",
       "<style scoped>\n",
       "    .dataframe tbody tr th:only-of-type {\n",
       "        vertical-align: middle;\n",
       "    }\n",
       "\n",
       "    .dataframe tbody tr th {\n",
       "        vertical-align: top;\n",
       "    }\n",
       "\n",
       "    .dataframe thead th {\n",
       "        text-align: right;\n",
       "    }\n",
       "</style>\n",
       "<table border=\"1\" class=\"dataframe\">\n",
       "  <thead>\n",
       "    <tr style=\"text-align: right;\">\n",
       "      <th></th>\n",
       "      <th>0</th>\n",
       "      <th>1</th>\n",
       "      <th>2</th>\n",
       "      <th>3</th>\n",
       "      <th>4</th>\n",
       "      <th>5</th>\n",
       "      <th>6</th>\n",
       "      <th>7</th>\n",
       "      <th>8</th>\n",
       "      <th>9</th>\n",
       "      <th>...</th>\n",
       "      <th>374</th>\n",
       "      <th>375</th>\n",
       "      <th>376</th>\n",
       "      <th>377</th>\n",
       "      <th>378</th>\n",
       "      <th>379</th>\n",
       "      <th>380</th>\n",
       "      <th>381</th>\n",
       "      <th>382</th>\n",
       "      <th>383</th>\n",
       "    </tr>\n",
       "  </thead>\n",
       "  <tbody>\n",
       "    <tr>\n",
       "      <th>0</th>\n",
       "      <td>0.189542</td>\n",
       "      <td>0.392975</td>\n",
       "      <td>0.302139</td>\n",
       "      <td>0.218513</td>\n",
       "      <td>-0.425760</td>\n",
       "      <td>0.027421</td>\n",
       "      <td>0.140458</td>\n",
       "      <td>-0.324446</td>\n",
       "      <td>0.229403</td>\n",
       "      <td>0.078695</td>\n",
       "      <td>...</td>\n",
       "      <td>-0.205246</td>\n",
       "      <td>-0.230925</td>\n",
       "      <td>0.084034</td>\n",
       "      <td>0.062469</td>\n",
       "      <td>0.112039</td>\n",
       "      <td>0.423573</td>\n",
       "      <td>0.111190</td>\n",
       "      <td>0.035582</td>\n",
       "      <td>-0.720320</td>\n",
       "      <td>0.351114</td>\n",
       "    </tr>\n",
       "    <tr>\n",
       "      <th>1</th>\n",
       "      <td>0.119399</td>\n",
       "      <td>-0.042429</td>\n",
       "      <td>-0.010332</td>\n",
       "      <td>0.288744</td>\n",
       "      <td>0.184945</td>\n",
       "      <td>0.115508</td>\n",
       "      <td>-0.061338</td>\n",
       "      <td>-0.063945</td>\n",
       "      <td>0.307620</td>\n",
       "      <td>0.407092</td>\n",
       "      <td>...</td>\n",
       "      <td>0.533489</td>\n",
       "      <td>-0.163256</td>\n",
       "      <td>-0.029592</td>\n",
       "      <td>-0.394045</td>\n",
       "      <td>0.069414</td>\n",
       "      <td>0.564027</td>\n",
       "      <td>-0.802099</td>\n",
       "      <td>0.269396</td>\n",
       "      <td>-0.502291</td>\n",
       "      <td>-0.099281</td>\n",
       "    </tr>\n",
       "    <tr>\n",
       "      <th>2</th>\n",
       "      <td>0.365716</td>\n",
       "      <td>0.088738</td>\n",
       "      <td>0.267167</td>\n",
       "      <td>0.390709</td>\n",
       "      <td>0.150001</td>\n",
       "      <td>0.067298</td>\n",
       "      <td>-0.470908</td>\n",
       "      <td>-0.334243</td>\n",
       "      <td>0.885332</td>\n",
       "      <td>0.789138</td>\n",
       "      <td>...</td>\n",
       "      <td>-0.236426</td>\n",
       "      <td>-0.184523</td>\n",
       "      <td>-0.392375</td>\n",
       "      <td>0.367119</td>\n",
       "      <td>0.473331</td>\n",
       "      <td>0.110570</td>\n",
       "      <td>-0.483798</td>\n",
       "      <td>0.700526</td>\n",
       "      <td>-0.642666</td>\n",
       "      <td>0.638225</td>\n",
       "    </tr>\n",
       "    <tr>\n",
       "      <th>3</th>\n",
       "      <td>0.121512</td>\n",
       "      <td>-0.047635</td>\n",
       "      <td>0.278845</td>\n",
       "      <td>0.241184</td>\n",
       "      <td>0.292837</td>\n",
       "      <td>0.248273</td>\n",
       "      <td>-0.212196</td>\n",
       "      <td>0.137666</td>\n",
       "      <td>0.313116</td>\n",
       "      <td>-0.026654</td>\n",
       "      <td>...</td>\n",
       "      <td>-0.099417</td>\n",
       "      <td>-0.262282</td>\n",
       "      <td>-0.020034</td>\n",
       "      <td>0.474873</td>\n",
       "      <td>0.020947</td>\n",
       "      <td>0.321221</td>\n",
       "      <td>-0.062608</td>\n",
       "      <td>-0.212191</td>\n",
       "      <td>-0.397943</td>\n",
       "      <td>0.218615</td>\n",
       "    </tr>\n",
       "    <tr>\n",
       "      <th>4</th>\n",
       "      <td>0.025619</td>\n",
       "      <td>-0.103982</td>\n",
       "      <td>0.208132</td>\n",
       "      <td>0.118253</td>\n",
       "      <td>-0.094092</td>\n",
       "      <td>0.239723</td>\n",
       "      <td>-0.065192</td>\n",
       "      <td>-0.148167</td>\n",
       "      <td>0.104161</td>\n",
       "      <td>0.104174</td>\n",
       "      <td>...</td>\n",
       "      <td>0.028859</td>\n",
       "      <td>-0.296767</td>\n",
       "      <td>-0.258262</td>\n",
       "      <td>-0.077715</td>\n",
       "      <td>0.209897</td>\n",
       "      <td>0.362213</td>\n",
       "      <td>-0.419707</td>\n",
       "      <td>0.127951</td>\n",
       "      <td>-0.478318</td>\n",
       "      <td>0.168880</td>\n",
       "    </tr>\n",
       "    <tr>\n",
       "      <th>...</th>\n",
       "      <td>...</td>\n",
       "      <td>...</td>\n",
       "      <td>...</td>\n",
       "      <td>...</td>\n",
       "      <td>...</td>\n",
       "      <td>...</td>\n",
       "      <td>...</td>\n",
       "      <td>...</td>\n",
       "      <td>...</td>\n",
       "      <td>...</td>\n",
       "      <td>...</td>\n",
       "      <td>...</td>\n",
       "      <td>...</td>\n",
       "      <td>...</td>\n",
       "      <td>...</td>\n",
       "      <td>...</td>\n",
       "      <td>...</td>\n",
       "      <td>...</td>\n",
       "      <td>...</td>\n",
       "      <td>...</td>\n",
       "      <td>...</td>\n",
       "    </tr>\n",
       "    <tr>\n",
       "      <th>44222</th>\n",
       "      <td>0.530532</td>\n",
       "      <td>-0.125428</td>\n",
       "      <td>0.093384</td>\n",
       "      <td>0.240216</td>\n",
       "      <td>0.293408</td>\n",
       "      <td>0.128390</td>\n",
       "      <td>0.371852</td>\n",
       "      <td>0.105309</td>\n",
       "      <td>0.028543</td>\n",
       "      <td>0.401294</td>\n",
       "      <td>...</td>\n",
       "      <td>0.207598</td>\n",
       "      <td>0.067537</td>\n",
       "      <td>-0.445330</td>\n",
       "      <td>0.204478</td>\n",
       "      <td>-0.619232</td>\n",
       "      <td>0.347581</td>\n",
       "      <td>-0.511850</td>\n",
       "      <td>0.209651</td>\n",
       "      <td>-0.248858</td>\n",
       "      <td>0.382064</td>\n",
       "    </tr>\n",
       "    <tr>\n",
       "      <th>44223</th>\n",
       "      <td>0.189005</td>\n",
       "      <td>0.236335</td>\n",
       "      <td>0.038817</td>\n",
       "      <td>0.197560</td>\n",
       "      <td>0.101726</td>\n",
       "      <td>0.318470</td>\n",
       "      <td>0.290009</td>\n",
       "      <td>0.001175</td>\n",
       "      <td>0.233470</td>\n",
       "      <td>-0.103045</td>\n",
       "      <td>...</td>\n",
       "      <td>0.055201</td>\n",
       "      <td>-0.166744</td>\n",
       "      <td>0.085137</td>\n",
       "      <td>0.217222</td>\n",
       "      <td>-0.335350</td>\n",
       "      <td>0.582121</td>\n",
       "      <td>-0.672144</td>\n",
       "      <td>0.192083</td>\n",
       "      <td>-0.260439</td>\n",
       "      <td>0.216185</td>\n",
       "    </tr>\n",
       "    <tr>\n",
       "      <th>44224</th>\n",
       "      <td>0.176956</td>\n",
       "      <td>-0.293005</td>\n",
       "      <td>-0.058808</td>\n",
       "      <td>0.134380</td>\n",
       "      <td>0.180420</td>\n",
       "      <td>0.112965</td>\n",
       "      <td>0.201180</td>\n",
       "      <td>0.062239</td>\n",
       "      <td>-0.149403</td>\n",
       "      <td>0.145873</td>\n",
       "      <td>...</td>\n",
       "      <td>-0.031010</td>\n",
       "      <td>-0.021076</td>\n",
       "      <td>0.108447</td>\n",
       "      <td>0.234328</td>\n",
       "      <td>-0.646962</td>\n",
       "      <td>0.376159</td>\n",
       "      <td>-0.459907</td>\n",
       "      <td>0.146992</td>\n",
       "      <td>-0.645388</td>\n",
       "      <td>0.213801</td>\n",
       "    </tr>\n",
       "    <tr>\n",
       "      <th>44225</th>\n",
       "      <td>0.353657</td>\n",
       "      <td>-0.218997</td>\n",
       "      <td>0.125641</td>\n",
       "      <td>0.165881</td>\n",
       "      <td>-0.091599</td>\n",
       "      <td>0.413311</td>\n",
       "      <td>-0.021333</td>\n",
       "      <td>0.095831</td>\n",
       "      <td>0.352625</td>\n",
       "      <td>0.039859</td>\n",
       "      <td>...</td>\n",
       "      <td>0.083537</td>\n",
       "      <td>-0.195184</td>\n",
       "      <td>-0.383868</td>\n",
       "      <td>0.255606</td>\n",
       "      <td>-0.258900</td>\n",
       "      <td>0.464035</td>\n",
       "      <td>0.109063</td>\n",
       "      <td>-0.064268</td>\n",
       "      <td>-0.600925</td>\n",
       "      <td>0.304587</td>\n",
       "    </tr>\n",
       "    <tr>\n",
       "      <th>44226</th>\n",
       "      <td>0.005169</td>\n",
       "      <td>-0.107008</td>\n",
       "      <td>0.084020</td>\n",
       "      <td>-0.157428</td>\n",
       "      <td>-0.098759</td>\n",
       "      <td>0.286963</td>\n",
       "      <td>-0.087958</td>\n",
       "      <td>-0.216717</td>\n",
       "      <td>0.334431</td>\n",
       "      <td>0.207960</td>\n",
       "      <td>...</td>\n",
       "      <td>0.289610</td>\n",
       "      <td>-0.023817</td>\n",
       "      <td>-0.052865</td>\n",
       "      <td>-0.012177</td>\n",
       "      <td>0.088151</td>\n",
       "      <td>0.451106</td>\n",
       "      <td>-0.424204</td>\n",
       "      <td>0.146832</td>\n",
       "      <td>-0.231782</td>\n",
       "      <td>-0.141322</td>\n",
       "    </tr>\n",
       "  </tbody>\n",
       "</table>\n",
       "<p>44227 rows × 384 columns</p>\n",
       "</div>"
      ],
      "text/plain": [
       "            0         1         2         3         4         5         6    \\\n",
       "0      0.189542  0.392975  0.302139  0.218513 -0.425760  0.027421  0.140458   \n",
       "1      0.119399 -0.042429 -0.010332  0.288744  0.184945  0.115508 -0.061338   \n",
       "2      0.365716  0.088738  0.267167  0.390709  0.150001  0.067298 -0.470908   \n",
       "3      0.121512 -0.047635  0.278845  0.241184  0.292837  0.248273 -0.212196   \n",
       "4      0.025619 -0.103982  0.208132  0.118253 -0.094092  0.239723 -0.065192   \n",
       "...         ...       ...       ...       ...       ...       ...       ...   \n",
       "44222  0.530532 -0.125428  0.093384  0.240216  0.293408  0.128390  0.371852   \n",
       "44223  0.189005  0.236335  0.038817  0.197560  0.101726  0.318470  0.290009   \n",
       "44224  0.176956 -0.293005 -0.058808  0.134380  0.180420  0.112965  0.201180   \n",
       "44225  0.353657 -0.218997  0.125641  0.165881 -0.091599  0.413311 -0.021333   \n",
       "44226  0.005169 -0.107008  0.084020 -0.157428 -0.098759  0.286963 -0.087958   \n",
       "\n",
       "            7         8         9    ...       374       375       376  \\\n",
       "0     -0.324446  0.229403  0.078695  ... -0.205246 -0.230925  0.084034   \n",
       "1     -0.063945  0.307620  0.407092  ...  0.533489 -0.163256 -0.029592   \n",
       "2     -0.334243  0.885332  0.789138  ... -0.236426 -0.184523 -0.392375   \n",
       "3      0.137666  0.313116 -0.026654  ... -0.099417 -0.262282 -0.020034   \n",
       "4     -0.148167  0.104161  0.104174  ...  0.028859 -0.296767 -0.258262   \n",
       "...         ...       ...       ...  ...       ...       ...       ...   \n",
       "44222  0.105309  0.028543  0.401294  ...  0.207598  0.067537 -0.445330   \n",
       "44223  0.001175  0.233470 -0.103045  ...  0.055201 -0.166744  0.085137   \n",
       "44224  0.062239 -0.149403  0.145873  ... -0.031010 -0.021076  0.108447   \n",
       "44225  0.095831  0.352625  0.039859  ...  0.083537 -0.195184 -0.383868   \n",
       "44226 -0.216717  0.334431  0.207960  ...  0.289610 -0.023817 -0.052865   \n",
       "\n",
       "            377       378       379       380       381       382       383  \n",
       "0      0.062469  0.112039  0.423573  0.111190  0.035582 -0.720320  0.351114  \n",
       "1     -0.394045  0.069414  0.564027 -0.802099  0.269396 -0.502291 -0.099281  \n",
       "2      0.367119  0.473331  0.110570 -0.483798  0.700526 -0.642666  0.638225  \n",
       "3      0.474873  0.020947  0.321221 -0.062608 -0.212191 -0.397943  0.218615  \n",
       "4     -0.077715  0.209897  0.362213 -0.419707  0.127951 -0.478318  0.168880  \n",
       "...         ...       ...       ...       ...       ...       ...       ...  \n",
       "44222  0.204478 -0.619232  0.347581 -0.511850  0.209651 -0.248858  0.382064  \n",
       "44223  0.217222 -0.335350  0.582121 -0.672144  0.192083 -0.260439  0.216185  \n",
       "44224  0.234328 -0.646962  0.376159 -0.459907  0.146992 -0.645388  0.213801  \n",
       "44225  0.255606 -0.258900  0.464035  0.109063 -0.064268 -0.600925  0.304587  \n",
       "44226 -0.012177  0.088151  0.451106 -0.424204  0.146832 -0.231782 -0.141322  \n",
       "\n",
       "[44227 rows x 384 columns]"
      ]
     },
     "execution_count": 77,
     "metadata": {},
     "output_type": "execute_result"
    }
   ],
   "source": [
    "# Get train and test embeddings\n",
    "start = time.time() \n",
    "emb_train = SBERT_embeddings(X_train_nlp)\n",
    "emb_test = SBERT_embeddings(X_test_nlp)\n",
    "print('Generated train-test-split embeddings in {} mins'.format(round((time.time() - start) / 60, 2)))\n",
    "\n",
    "# Show matrix for X_train_nlp\n",
    "emb_train"
   ]
  },
  {
   "cell_type": "markdown",
   "metadata": {},
   "source": [
    "Since the embedding matrices are not sparse a normalization and Principal Component Analysis (PCA) is used for possible reductions of dimensionality."
   ]
  },
  {
   "cell_type": "code",
   "execution_count": 79,
   "metadata": {},
   "outputs": [
    {
     "data": {
      "image/png": "[encoded data removed]",
      "text/plain": [
       "<Figure size 432x288 with 1 Axes>"
      ]
     },
     "metadata": {
      "needs_background": "light"
     },
     "output_type": "display_data"
    }
   ],
   "source": [
    "liste = list(np.arange(300,386,2))\n",
    "train_results = []\n",
    "test_results = []\n",
    "reg = LinearRegression()\n",
    "\n",
    "for comp in liste:\n",
    "    # Define model Principal Component Regression (PCR) by number of components\n",
    "    pca = PCA(n_components=comp).fit(emb_train)\n",
    "    pca_train = pca.transform(emb_train)\n",
    "    pca_test = pca.transform(emb_test)\n",
    "    reg.fit(pca_train, y_train_nlp) # Fit model\n",
    "    rmse = np.sqrt(mean_squared_error(y_train_nlp, reg.predict(pca_train)))\n",
    "    train_results.append(rmse)\n",
    "    rmse = np.sqrt(mean_squared_error(y_test_nlp, reg.predict(pca_test)))\n",
    "    test_results.append(rmse)\n",
    "    \n",
    "# Plot AUC values for train and test set\n",
    "plt.plot(liste, train_results, label='train')\n",
    "plt.plot(liste, test_results, label='test')\n",
    "plt.ylabel('RMSE')\n",
    "plt.xlabel('Components')\n",
    "plt.legend()\n",
    "plt.show()"
   ]
  },
  {
   "cell_type": "code",
   "execution_count": 82,
   "metadata": {},
   "outputs": [
    {
     "name": "stdout",
     "output_type": "stream",
     "text": [
      "Best PCR Test RMSE: 57.0598087853739\n",
      "RMSE of LR with raw embeddings: 57.0598087854382\n"
     ]
    }
   ],
   "source": [
    "reg.fit(emb_train,y_train_nlp)\n",
    "print('Best PCR Test RMSE:', min(test_results))\n",
    "print('RMSE of LR with raw embeddings:', np.sqrt(mean_squared_error(y_test_nlp, reg.predict(emb_test))))"
   ]
  },
  {
   "cell_type": "markdown",
   "metadata": {},
   "source": [
    "However a dimensionality reduction does not increase predictive performance for the downstream task as shown by the linear regressions as model for heuristic decision support. Hence the final embeddings will be used directly.\n",
    "\n",
    "Let's fine-tune the SBERT model further with the unseen labeled data that was prior used for validation to get the final SBERT model."
   ]
  },
  {
   "cell_type": "code",
   "execution_count": 83,
   "metadata": {},
   "outputs": [
    {
     "name": "stdout",
     "output_type": "stream",
     "text": [
      "NOTE: The model is trained without validation.\n"
     ]
    },
    {
     "data": {
      "application/vnd.jupyter.widget-view+json": {
       "model_id": "9a81c0c90b5b46d395ea8a057c380062",
       "version_major": 2,
       "version_minor": 0
      },
      "text/plain": [
       "Epoch:   0%|          | 0/2 [00:00<?, ?it/s]"
      ]
     },
     "metadata": {},
     "output_type": "display_data"
    },
    {
     "data": {
      "application/vnd.jupyter.widget-view+json": {
       "model_id": "b883ca16457d4c46a01d049bf022ed73",
       "version_major": 2,
       "version_minor": 0
      },
      "text/plain": [
       "Iteration:   0%|          | 0/691 [00:00<?, ?it/s]"
      ]
     },
     "metadata": {},
     "output_type": "display_data"
    },
    {
     "data": {
      "application/vnd.jupyter.widget-view+json": {
       "model_id": "3a2c580456be42c888bb517540c43b7a",
       "version_major": 2,
       "version_minor": 0
      },
      "text/plain": [
       "Iteration:   0%|          | 0/691 [00:00<?, ?it/s]"
      ]
     },
     "metadata": {},
     "output_type": "display_data"
    },
    {
     "name": "stdout",
     "output_type": "stream",
     "text": [
      "Fine-tuned SBERT in 135.96 mins\n"
     ]
    }
   ],
   "source": [
    "start = time.time()\n",
    "train_SBERT(df_train=X_test_nlp, label_train=y_test_nlp, check_val=False, squantile=0.99, batch=32, lr=1e-05, epoch=2)\n",
    "print('Fine-tuned SBERT in {} mins.'.format(round((time.time() - start) / 60, 2)))"
   ]
  },
  {
   "cell_type": "markdown",
   "metadata": {},
   "source": [
    "Now the final embeddings are generated from `text_known` and `text_unknown` and merged to `df_known_nlp` and `df_unknown_nlp`. They are also stored in the directory of the notebook."
   ]
  },
  {
   "cell_type": "code",
   "execution_count": 84,
   "metadata": {},
   "outputs": [
    {
     "name": "stdout",
     "output_type": "stream",
     "text": [
      "Generated final embeddings in 38.38 mins\n"
     ]
    }
   ],
   "source": [
    "# Get embeddings for df_known and df_unknown\n",
    "start = time.time() \n",
    "emb_known = SBERT_embeddings(text_known)\n",
    "emb_unknown = SBERT_embeddings(text_unknown)\n",
    "print('Generated final embeddings in {} mins'.format(round((time.time() - start) / 60, 2)))"
   ]
  },
  {
   "cell_type": "code",
   "execution_count": 85,
   "metadata": {},
   "outputs": [],
   "source": [
    "# Merge transformed embeddings to df_known_nlp and df_unknown_nlp\n",
    "df_known_nlp = pd.merge(df_known_nlp, emb_known, how='left', left_index=True, right_index=True)\n",
    "df_unknown_nlp = pd.merge(df_unknown_nlp, emb_unknown, how='left', left_index=True, right_index=True)"
   ]
  },
  {
   "cell_type": "code",
   "execution_count": 86,
   "metadata": {},
   "outputs": [],
   "source": [
    "# Store data frame to notebook location\n",
    "emb_known.to_pickle(path + '\\\\emb_known.pkl')\n",
    "emb_unknown.to_pickle(path + '\\\\emb_unknown.pkl')"
   ]
  },
  {
   "cell_type": "raw",
   "metadata": {},
   "source": [
    "# Save model to notebook location\n",
    "torch.save(model, 'SBERT_fine')"
   ]
  },
  {
   "cell_type": "raw",
   "metadata": {},
   "source": [
    "# Load model from notebook location\n",
    "model = torch.load(os.path.join(path, 'SBERT_fine'))"
   ]
  },
  {
   "cell_type": "markdown",
   "metadata": {},
   "source": [
    "### 5.3 Recurrent Neural Networks\n",
    "\n",
    "The last NLP technique used to extract features from the text data are the standard designs of Gated Recurrent Neural Networks (RNN). Those are the Gated Recurrent Unit (GRU) and Long Short-Term Memory (LSTM). To make use of transfer learning the respective model weights are initilized with the pre-trained 100-dimensional wiki2vec embeddings that were already part of  the text data correction in section 3.2. The RNN models are then used to predict the target `price` directly from the merged text data columns `text_known` and `text_unknown`. This predictions are including as feature in the downstream task which can be considered as a special form of model stacking."
   ]
  },
  {
   "cell_type": "markdown",
   "metadata": {},
   "source": [
    "#### Load RNN Predictions for Stacking \n",
    "\n",
    "NOTE: The RNN predictions are [provided](https://www.dropbox.com/sh/5of2lc58qmkk8bk/AADzQndCICjT1lAQo6Mp3RHFa?dl=0) and can be loaded from the directory of the notebook using the following code."
   ]
  },
  {
   "cell_type": "code",
   "execution_count": null,
   "metadata": {},
   "outputs": [],
   "source": [
    "# Load data frame from notebook location\n",
    "pred_RNN_known = pd.read_pickle(path + '\\\\pred_RNN_known.pkl')\n",
    "pred_RNN_unknown = pd.read_pickle(path + '\\\\pred_RNN_unknown.pkl')\n",
    "\n",
    "# Merge predictions to df_known_nlp and df_unknown_nlp\n",
    "df_known_nlp = pd.merge(df_known_nlp, pred_RNN_known, how='left', left_index=True, right_index=True)\n",
    "df_unknown_nlp = pd.merge(df_unknown_nlp, pred_RNN_unknown, how='left', left_index=True, right_index=True)"
   ]
  },
  {
   "cell_type": "markdown",
   "metadata": {},
   "source": [
    "#### Generate RNN Predictions for Stacking \n",
    "\n",
    "Let's first load the wiki2vec embeddings from the notebook directory in case the where not loaded earlier.\n",
    "\n",
    "Again the embedding can be downloaded using: http://wikipedia2vec.s3.amazonaws.com/models/en/2018-04-20/enwiki_20180420_100d.txt.bz2"
   ]
  },
  {
   "cell_type": "code",
   "execution_count": 87,
   "metadata": {},
   "outputs": [
    {
     "name": "stdout",
     "output_type": "stream",
     "text": [
      "Loaded wiki2vec embeddings in 10.31 mins.\n"
     ]
    }
   ],
   "source": [
    "# If not loaded already import wiki2vec embeddings\n",
    "if 'wiki2vec' not in locals():\n",
    "    start = time.time() \n",
    "    wiki2vec = KeyedVectors.load_word2vec_format(os.path.join(path, 'enwiki_20180420_100d.txt.bz2'))\n",
    "    print('Loaded wiki2vec embeddings in {} mins.'.format(round((time.time() - start) / 60, 2)))\n",
    "else:\n",
    "    print('Wiki2vec embeddings already in environment.')"
   ]
  },
  {
   "cell_type": "markdown",
   "metadata": {},
   "source": [
    "To infer a embedding matrix for the corpus of the merged text data the function `get_embedding_matrix` is defined and based on this all relevant inputs for the RNN models - weights for inizialization, training data, test data, number of words, sequence length - are generated by the function `get_inputs`. Here the word sequences are trimmed to the 99% quantile of the sequence lengths again. The functions are applied after merging the text data columns (Just in case they were not merged in section 5.2)."
   ]
  },
  {
   "cell_type": "code",
   "execution_count": 88,
   "metadata": {},
   "outputs": [],
   "source": [
    "def get_embedding_matrix(tokenizer, pretrain, vocab_size):\n",
    "    '''Helper function to construct an embedding matrix for \n",
    "       a given corpus based on some pre-trained embeddings.'''\n",
    "    dim = 0\n",
    "    if isinstance(pretrain, KeyedVectors) or isinstance(pretrain, Word2VecKeyedVectors):\n",
    "        dim = pretrain.vector_size        \n",
    "    elif isinstance(pretrain, dict):\n",
    "        dim = next(iter(pretrain.values())).shape[0]  # get embedding of an arbitrary word\n",
    "    else:\n",
    "        raise Exception('{} is not supported'.format(type(pretrain)))\n",
    "    \n",
    "    # Initialize embedding matrix\n",
    "    emb_mat = np.zeros((vocab_size, dim))\n",
    "\n",
    "    # There will be some words in our corpus for which we lack a pre-trained embedding.\n",
    "    # In this tutorial, we will simply use a vector of zeros for such words. We also keep\n",
    "    # track of the words to do some debugging if needed\n",
    "    oov_words = []\n",
    "    # Below we use the tokenizer object that created our task vocabulary. This is crucial to ensure\n",
    "    # that the position of a words in our embedding matrix corresponds to its index in our integer\n",
    "    # encoded input data\n",
    "    for word, i in tokenizer.word_index.items():  \n",
    "        # try-catch together with a zero-initilaized embedding matrix achieves our rough fix for oov words\n",
    "        try:\n",
    "            emb_mat[i] = pretrain[word]\n",
    "        except:\n",
    "            oov_words.append(word)\n",
    "    print('Created embedding matrix of shape {}'.format(emb_mat.shape))\n",
    "    print('Encountered {} out-of-vocabulary words.'.format(len(oov_words)))\n",
    "    return (emb_mat, oov_words)"
   ]
  },
  {
   "cell_type": "code",
   "execution_count": 89,
   "metadata": {},
   "outputs": [],
   "source": [
    "def get_inputs(data_train, data_test, quant):\n",
    "    ''' Transforms, counts and trims the text data for the usage in a RNN model.\n",
    "        and applys get_embedding_matrix to yield pre-trained embeddings'''\n",
    "    # Tokenizing and # of words in corpus\n",
    "    tokenizer = Tokenizer(oov_token=1)\n",
    "    tokenizer.fit_on_texts(data_train)\n",
    "    NUM_WORDS = len(tokenizer.word_index) + 1\n",
    "\n",
    "    # Encode the train data\n",
    "    X_tr_int = tokenizer.texts_to_sequences(data_train)\n",
    "    max_tr_length = max([len(article) for article in X_tr_int])\n",
    "\n",
    "    # Encode the test data\n",
    "    X_ts_int = tokenizer.texts_to_sequences(data_test)\n",
    "    max_ts_length = max([len(article) for article in X_ts_int])\n",
    "    \n",
    "    # Padding and trimming of sequence\n",
    "    tr_length = round(np.quantile([len(row) for row in data_train], quant))\n",
    "    print('The trimmed input sequence has {} words.'.format(tr_length))\n",
    "    X_tr_int = pad_sequences(X_tr_int, tr_length)\n",
    "    X_ts_int = pad_sequences(X_ts_int, tr_length)\n",
    "    \n",
    "    # Apply get_embedding_matrix\n",
    "    wiki_weights, _ = get_embedding_matrix(tokenizer, wiki2vec, NUM_WORDS)\n",
    "    \n",
    "    return (wiki_weights, X_tr_int, X_ts_int, NUM_WORDS, tr_length)"
   ]
  },
  {
   "cell_type": "code",
   "execution_count": 90,
   "metadata": {},
   "outputs": [
    {
     "data": {
      "image/png": "[encoded data removed]",
      "text/plain": [
       "<Figure size 1152x576 with 2 Axes>"
      ]
     },
     "metadata": {
      "needs_background": "light"
     },
     "output_type": "display_data"
    }
   ],
   "source": [
    "# Merge cleaned text columns to one text features\n",
    "text_known = df_known_nlp.name_clean + df_known_nlp.summary_clean + df_known_nlp.description_clean\n",
    "text_unknown = df_unknown_nlp.name_clean + df_unknown_nlp.summary_clean + df_unknown_nlp.description_clean\n",
    "\n",
    "# Apply plot_len_text\n",
    "plot_len_text(text_known, text_unknown)"
   ]
  },
  {
   "cell_type": "code",
   "execution_count": 91,
   "metadata": {},
   "outputs": [
    {
     "name": "stdout",
     "output_type": "stream",
     "text": [
      "The trimmed input sequence has 135 words.\n",
      "Created embedding matrix of shape (28512, 100)\n",
      "Encountered 4514 out-of-vocabulary words.\n"
     ]
    }
   ],
   "source": [
    "# Apply get_embedding_matrix and get_inputs\n",
    "word2vec_weights, data_known, data_unknown, NUM_WORDS, tr_length = get_inputs(text_known, text_unknown, 0.99)"
   ]
  },
  {
   "cell_type": "markdown",
   "metadata": {},
   "source": [
    "There are several words that are out-of-vocabulary and do not have a wiki2vec embedding. Hence - and to be able to adjust existing embeddings - the RNN model embeddings are `trainable`. The `output dimension` and the number of `hidden units` are set to 100 which is equal to the dimension of the `inizilized embeddings`. Note that the main challenge of providing RNN predictions in the downstream task is overfitting because models are trained on data referin to `df_known` and also predict the prices in `df_known`. Hence `price` data to predict is leaked during training. To mitigate this the validation `split` is increased to 35% validation data and the models are only considered up to the point where they start overfitting. This is indicated by a disproportional increase in the train loss compared to the validation loss. To possibly delay overfitting a 50% `dropout` layer is applied.\n",
    "\n",
    "Further specifications of the RNNs including `learning rate` and `batchs` were set with a trail-and-error approach. Bidirectional and deep structures showed no improvement in this setting, a Relu activation function in the `output layer` showed to be supperior to a linear one and the `optimizer` RMSprop performes better than Adam. As `loss function` the mean squared error (MSE) is used since the prediction is a regression task with the target being of metric scale and the number of `epochs` are given subject to early stopping."
   ]
  },
  {
   "cell_type": "code",
   "execution_count": 93,
   "metadata": {},
   "outputs": [
    {
     "name": "stdout",
     "output_type": "stream",
     "text": [
      "Model: \"model_1\"\n",
      "_________________________________________________________________\n",
      "Layer (type)                 Output Shape              Param #   \n",
      "=================================================================\n",
      "input_2 (InputLayer)         [(None, 135)]             0         \n",
      "_________________________________________________________________\n",
      "embedding_1 (Embedding)      (None, 135, 100)          2851200   \n",
      "_________________________________________________________________\n",
      "gru_1 (GRU)                  (None, 100)               60600     \n",
      "_________________________________________________________________\n",
      "dropout_1 (Dropout)          (None, 100)               0         \n",
      "_________________________________________________________________\n",
      "dense_1 (Dense)              (None, 1)                 101       \n",
      "=================================================================\n",
      "Total params: 2,911,901\n",
      "Trainable params: 2,911,901\n",
      "Non-trainable params: 0\n",
      "_________________________________________________________________\n",
      "None\n",
      "Epoch 1/25\n",
      "1123/1123 [==============================] - 75s 66ms/step - loss: 11628.3135 - val_loss: 8410.2451\n",
      "Epoch 2/25\n",
      "1123/1123 [==============================] - 72s 64ms/step - loss: 7630.8760 - val_loss: 6932.4058\n",
      "Epoch 3/25\n",
      "1123/1123 [==============================] - 73s 65ms/step - loss: 7166.6660 - val_loss: 6658.5146\n",
      "Epoch 4/25\n",
      "1123/1123 [==============================] - 72s 64ms/step - loss: 6193.6250 - val_loss: 5602.1362\n",
      "Epoch 5/25\n",
      "1123/1123 [==============================] - 74s 66ms/step - loss: 5504.4590 - val_loss: 4887.9604\n",
      "Epoch 6/25\n",
      "1123/1123 [==============================] - 73s 65ms/step - loss: 4891.4746 - val_loss: 4303.9663\n",
      "Epoch 7/25\n",
      "1123/1123 [==============================] - 71s 63ms/step - loss: 4446.6797 - val_loss: 3994.4917\n",
      "Epoch 8/25\n",
      "1123/1123 [==============================] - 72s 64ms/step - loss: 4170.1919 - val_loss: 4090.8665\n",
      "Epoch 9/25\n",
      "1123/1123 [==============================] - 71s 63ms/step - loss: 3983.3848 - val_loss: 3640.0798\n",
      "Epoch 10/25\n",
      "1123/1123 [==============================] - 73s 65ms/step - loss: 3835.0959 - val_loss: 3524.7573\n",
      "Epoch 11/25\n",
      "1123/1123 [==============================] - 75s 66ms/step - loss: 3693.7317 - val_loss: 3449.7959\n",
      "Epoch 12/25\n",
      "1123/1123 [==============================] - 74s 66ms/step - loss: 3556.1833 - val_loss: 3398.0195\n",
      "Epoch 13/25\n",
      "1123/1123 [==============================] - 73s 65ms/step - loss: 3449.3577 - val_loss: 3304.5752\n",
      "Epoch 14/25\n",
      "1123/1123 [==============================] - 72s 64ms/step - loss: 3341.9128 - val_loss: 3317.2854\n",
      "Epoch 15/25\n",
      "1123/1123 [==============================] - 73s 65ms/step - loss: 3227.7122 - val_loss: 3217.1272\n",
      "Epoch 16/25\n",
      "1123/1123 [==============================] - 73s 65ms/step - loss: 3144.0681 - val_loss: 3203.8970\n",
      "Epoch 17/25\n",
      "1123/1123 [==============================] - 74s 66ms/step - loss: 3065.0271 - val_loss: 3569.2280\n",
      "Epoch 18/25\n",
      "1123/1123 [==============================] - 74s 66ms/step - loss: 3001.5010 - val_loss: 3209.8452\n",
      "Restoring model weights from the end of the best epoch.\n",
      "Epoch 00018: early stopping\n"
     ]
    }
   ],
   "source": [
    "# Set seed \n",
    "seed(1234)\n",
    "tf.random.set_seed(1234)\n",
    "\n",
    "# Structure\n",
    "input_layer = Input(shape=(tr_length, ))\n",
    "embeddings = Embedding(NUM_WORDS, output_dim=100, embeddings_initializer=Constant(word2vec_weights),\n",
    "                       input_length=tr_length, trainable=True)(input_layer)\n",
    "GRU_ = GRU(100, activation='tanh', return_sequences=False)(embeddings)\n",
    "Drop = Dropout(1/2)(GRU_)\n",
    "output_layer = Dense(1, activation='relu')(Drop)\n",
    "\n",
    "# Parameter\n",
    "split = len(df_unknown)/(len(df_merged)) \n",
    "learning_rate = 5e-04\n",
    "batchs = 32\n",
    "epochs = 25\n",
    "\n",
    "# Define, compile and fit the model\n",
    "model = Model(inputs=[input_layer], outputs = output_layer)\n",
    "model.compile(loss = losses.MeanSquaredError(), optimizer = optimizers.RMSprop(learning_rate=learning_rate)) \n",
    "print(model.summary())\n",
    "callbacks = [EarlyStopping(monitor='val_loss', patience=2, verbose=1, min_delta=0.01, restore_best_weights=True)]\n",
    "story = model.fit([data_known], np.array(df_known.price), epochs=epochs, verbose=1, batch_size=batchs, \n",
    "                   validation_split=split, callbacks=callbacks, shuffle=True)"
   ]
  },
  {
   "cell_type": "code",
   "execution_count": 94,
   "metadata": {},
   "outputs": [
    {
     "data": {
      "image/png": "[encoded data removed]",
      "text/plain": [
       "<Figure size 432x288 with 1 Axes>"
      ]
     },
     "metadata": {
      "needs_background": "light"
     },
     "output_type": "display_data"
    },
    {
     "name": "stdout",
     "output_type": "stream",
     "text": [
      "Best Val RMSE: 56.60297671197382\n"
     ]
    }
   ],
   "source": [
    "def show_history(story):\n",
    "    ''' Visualize the model training history. '''\n",
    "    plt.plot(np.sqrt(story.history['loss']))\n",
    "    plt.plot(np.sqrt(story.history['val_loss']))\n",
    "    plt.ylabel('RMSE')\n",
    "    plt.xlabel('epoch')\n",
    "    plt.legend(['train_RMSE', 'val_RMSE'], loc='best')\n",
    "    plt.show()\n",
    "    \n",
    "#Apply show_history\n",
    "show_history(story)\n",
    "print('Best Val RMSE:', np.sqrt(min(story.history['val_loss'])))"
   ]
  },
  {
   "cell_type": "markdown",
   "metadata": {},
   "source": [
    "Note that overfitting is graphically indicated by the point of the training root MSE (RMSE) crosses the validation RMSE for some epoch."
   ]
  },
  {
   "cell_type": "code",
   "execution_count": 95,
   "metadata": {},
   "outputs": [
    {
     "name": "stdout",
     "output_type": "stream",
     "text": [
      "Model: \"model_2\"\n",
      "_________________________________________________________________\n",
      "Layer (type)                 Output Shape              Param #   \n",
      "=================================================================\n",
      "input_3 (InputLayer)         [(None, 135)]             0         \n",
      "_________________________________________________________________\n",
      "embedding_2 (Embedding)      (None, 135, 100)          2851200   \n",
      "_________________________________________________________________\n",
      "lstm (LSTM)                  (None, 100)               80400     \n",
      "_________________________________________________________________\n",
      "dropout_2 (Dropout)          (None, 100)               0         \n",
      "_________________________________________________________________\n",
      "dense_2 (Dense)              (None, 1)                 101       \n",
      "=================================================================\n",
      "Total params: 2,931,701\n",
      "Trainable params: 2,931,701\n",
      "Non-trainable params: 0\n",
      "_________________________________________________________________\n",
      "None\n",
      "Epoch 1/30\n",
      "1123/1123 [==============================] - 80s 70ms/step - loss: 11640.7559 - val_loss: 8414.5938\n",
      "Epoch 2/30\n",
      "1123/1123 [==============================] - 76s 68ms/step - loss: 7632.9502 - val_loss: 6923.9307\n",
      "Epoch 3/30\n",
      "1123/1123 [==============================] - 76s 68ms/step - loss: 6545.1206 - val_loss: 6118.2695\n",
      "Epoch 4/30\n",
      "1123/1123 [==============================] - 76s 68ms/step - loss: 5288.0254 - val_loss: 4742.7549\n",
      "Epoch 5/30\n",
      "1123/1123 [==============================] - 76s 68ms/step - loss: 4763.2173 - val_loss: 4184.2114\n",
      "Epoch 6/30\n",
      "1123/1123 [==============================] - 76s 68ms/step - loss: 4364.1543 - val_loss: 3922.6311\n",
      "Epoch 7/30\n",
      "1123/1123 [==============================] - 78s 70ms/step - loss: 4087.8704 - val_loss: 3714.2273\n",
      "Epoch 8/30\n",
      "1123/1123 [==============================] - 77s 69ms/step - loss: 3848.1729 - val_loss: 3577.1650\n",
      "Epoch 9/30\n",
      "1123/1123 [==============================] - 77s 69ms/step - loss: 3671.5784 - val_loss: 3490.1934\n",
      "Epoch 10/30\n",
      "1123/1123 [==============================] - 77s 69ms/step - loss: 3520.2109 - val_loss: 3431.3291\n",
      "Epoch 11/30\n",
      "1123/1123 [==============================] - 77s 69ms/step - loss: 3360.1958 - val_loss: 3314.6733\n",
      "Epoch 12/30\n",
      "1123/1123 [==============================] - 77s 68ms/step - loss: 3217.7231 - val_loss: 3238.2988\n",
      "Epoch 13/30\n",
      "1123/1123 [==============================] - 79s 70ms/step - loss: 3113.3564 - val_loss: 3219.1086\n",
      "Epoch 14/30\n",
      "1123/1123 [==============================] - 78s 69ms/step - loss: 2990.5229 - val_loss: 3222.8386\n",
      "Epoch 15/30\n",
      "1123/1123 [==============================] - 78s 69ms/step - loss: 2880.1431 - val_loss: 3198.6008\n",
      "Epoch 16/30\n",
      "1123/1123 [==============================] - 77s 69ms/step - loss: 2785.1448 - val_loss: 3142.1204\n",
      "Epoch 17/30\n",
      "1123/1123 [==============================] - 78s 69ms/step - loss: 2687.4832 - val_loss: 3358.8662\n",
      "Epoch 18/30\n",
      "1123/1123 [==============================] - 77s 69ms/step - loss: 2570.8718 - val_loss: 3130.0999\n",
      "Epoch 19/30\n",
      "1123/1123 [==============================] - 77s 69ms/step - loss: 2483.0132 - val_loss: 3112.5974\n",
      "Epoch 20/30\n",
      "1123/1123 [==============================] - 77s 69ms/step - loss: 2385.1973 - val_loss: 3164.9985\n",
      "Epoch 21/30\n",
      "1123/1123 [==============================] - 77s 68ms/step - loss: 2286.9016 - val_loss: 3308.4756\n",
      "Restoring model weights from the end of the best epoch.\n",
      "Epoch 00021: early stopping\n"
     ]
    }
   ],
   "source": [
    "# Set seed \n",
    "seed(1234)\n",
    "tf.random.set_seed(1234)\n",
    "\n",
    "# Structure\n",
    "input_layer = Input(shape=(tr_length, ))\n",
    "embeddings = Embedding(NUM_WORDS, output_dim=100, embeddings_initializer=Constant(word2vec_weights),\n",
    "                       input_length=tr_length, trainable=True)(input_layer)\n",
    "LSTM_ = LSTM(100, activation='tanh', return_sequences=False)(embeddings)\n",
    "Drop = Dropout(1/2)(LSTM_)\n",
    "output_layer = Dense(1, activation='relu')(Drop)\n",
    "\n",
    "# Parameter\n",
    "split = len(df_unknown)/(len(df_merged)) \n",
    "learning_rate = 5e-04\n",
    "batchs = 32\n",
    "epochs = 30\n",
    "\n",
    "# Define, compile and fit the model\n",
    "model = Model(inputs=[input_layer], outputs = output_layer)\n",
    "model.compile(loss = losses.MeanSquaredError(), optimizer = optimizers.RMSprop(learning_rate=learning_rate)) \n",
    "print(model.summary())\n",
    "callbacks = [EarlyStopping(monitor='val_loss', patience=2, verbose=1, min_delta=0.01, restore_best_weights=True)]\n",
    "story = model.fit([data_known], np.array(df_known.price), epochs=epochs, verbose=1, batch_size=batchs, \n",
    "                   validation_split=split, callbacks=callbacks, shuffle=True)"
   ]
  },
  {
   "cell_type": "code",
   "execution_count": 96,
   "metadata": {},
   "outputs": [
    {
     "data": {
      "image/png": "[encoded data removed]",
      "text/plain": [
       "<Figure size 432x288 with 1 Axes>"
      ]
     },
     "metadata": {
      "needs_background": "light"
     },
     "output_type": "display_data"
    },
    {
     "name": "stdout",
     "output_type": "stream",
     "text": [
      "Best Val RMSE: 55.79065703242233\n"
     ]
    }
   ],
   "source": [
    "#Apply show_history\n",
    "show_history(story)\n",
    "print('Best Val RMSE:', np.sqrt(min(story.history['val_loss'])))"
   ]
  },
  {
   "cell_type": "markdown",
   "metadata": {},
   "source": [
    "Both RNN models behave quite similar. However training GRU for 15 `epochs` seems to be slightly superior to training LSTM for 12 `epochs` when considering overfitting as main issue."
   ]
  },
  {
   "cell_type": "code",
   "execution_count": 99,
   "metadata": {},
   "outputs": [
    {
     "name": "stdout",
     "output_type": "stream",
     "text": [
      "Training the GRU model took 17.4 mins.\n",
      "Best Val RMSE: 56.719724939967975\n"
     ]
    }
   ],
   "source": [
    "start = time.time()\n",
    "\n",
    "# Set seed \n",
    "seed(1234)\n",
    "tf.random.set_seed(1234)\n",
    "\n",
    "# Structure\n",
    "input_layer = Input(shape=(tr_length, ))\n",
    "embeddings = Embedding(NUM_WORDS, output_dim=100, embeddings_initializer=Constant(word2vec_weights),\n",
    "                       input_length=tr_length, trainable=True)(input_layer)\n",
    "GRU_ = GRU(100, activation='tanh', return_sequences=False)(embeddings)\n",
    "Drop = Dropout(1/2)(GRU_)\n",
    "output_layer = Dense(1, activation='relu')(Drop)\n",
    "\n",
    "# Parameter\n",
    "split = len(df_unknown)/(len(df_merged)) \n",
    "learning_rate = 5e-04\n",
    "batchs = 32\n",
    "epochs = 15\n",
    "\n",
    "# Define, compile and fit the model\n",
    "model = Model(inputs=[input_layer], outputs = output_layer)\n",
    "model.compile(loss = losses.MeanSquaredError(), optimizer = optimizers.RMSprop(learning_rate=learning_rate)) \n",
    "\n",
    "callbacks = [EarlyStopping(monitor='val_loss', patience=3, verbose=0, min_delta=0.01, restore_best_weights=True)]\n",
    "story = model.fit([data_known], np.array(df_known.price), epochs=epochs, verbose=0, batch_size=batchs, \n",
    "                   validation_split=split, callbacks=callbacks, shuffle=True)\n",
    "\n",
    "print('Training the GRU model took {} mins.'.format(round((time.time() - start) / 60, 2)))\n",
    "print('Best Val RMSE:', np.sqrt(min(story.history['val_loss'])))"
   ]
  },
  {
   "cell_type": "markdown",
   "metadata": {},
   "source": [
    "With the trained GRU model predictions for `price` are generated. Those are scaled using the robust scaler to have a common scale with the non-text features, merged to df_known_nlp and df_unknown_nlp and written to the notebook directory. This finishes the NLP and transfer learning part."
   ]
  },
  {
   "cell_type": "code",
   "execution_count": 102,
   "metadata": {},
   "outputs": [],
   "source": [
    "# Predict prices for df_known and df_unknown\n",
    "preds_RNN_known = model.predict([data_known])\n",
    "preds_RNN_unknown = model.predict([data_unknown])"
   ]
  },
  {
   "cell_type": "code",
   "execution_count": 103,
   "metadata": {},
   "outputs": [],
   "source": [
    "# Merge robust scaled predictions to df_known_nlp and df_unknown_nlp (stacking model)\n",
    "scaler = RobustScaler()\n",
    "df_known_nlp = pd.merge(df_known_nlp, pd.DataFrame(scaler.fit_transform(preds_RNN_known)),\n",
    "                        how='left', left_index=True, right_index=True)\n",
    "df_unknown_nlp = pd.merge(df_unknown_nlp, pd.DataFrame(scaler.transform(preds_RNN_unknown)),\n",
    "                          how='left', left_index=True, right_index=True)"
   ]
  },
  {
   "cell_type": "code",
   "execution_count": 104,
   "metadata": {},
   "outputs": [],
   "source": [
    "# Store data frame to notebook location\n",
    "pd.DataFrame(scaler.fit_transform(preds_RNN_known)).to_pickle(path + '\\\\pred_RNN_known.pkl')\n",
    "pd.DataFrame(scaler.transform(preds_RNN_unknown)).to_pickle(path + '\\\\pred_RNN_unknown.pkl')"
   ]
  },
  {
   "cell_type": "markdown",
   "metadata": {},
   "source": [
    "## 6. Feedforward Neural Network for Price Prediction <a class='anchor' id='sixth-bullet'></a>"
   ]
  },
  {
   "cell_type": "code",
   "execution_count": 193,
   "metadata": {},
   "outputs": [
    {
     "name": "stdout",
     "output_type": "stream",
     "text": [
      "1683 features are available for modeling.\n"
     ]
    }
   ],
   "source": [
    "print('{} features are available for modeling.'.format(len(df_known_nlp.columns)-4))"
   ]
  },
  {
   "cell_type": "markdown",
   "metadata": {},
   "source": [
    "`df_known_nlp` and `df_unknown_nlp` now include all non-text features and extracted features from test data. Those are robust scaled metric features, metric features from embeddings and dummy features. They are now used for the prediction of price which is done with a feedforward neural network (NN) architecture. To evaluate the architecture a train-test-split is applied and the function `get_train_results` is defined to be able to judge the NN performance."
   ]
  },
  {
   "cell_type": "code",
   "execution_count": 194,
   "metadata": {},
   "outputs": [],
   "source": [
    "# Train-test-split for predictive performance test \n",
    "X_train,X_test,y_train,y_test = train_test_split(df_known_nlp.drop(['price']+clean, axis=1).copy(), \n",
    "                                                 df_known_nlp.price, test_size=0.2, random_state=1234)"
   ]
  },
  {
   "cell_type": "code",
   "execution_count": 195,
   "metadata": {},
   "outputs": [],
   "source": [
    "def show_history(story):\n",
    "    ''' Visualize the model training history. '''\n",
    "    plt.plot(np.sqrt(story.history['loss']))\n",
    "    plt.plot(np.sqrt(story.history['val_loss']))\n",
    "    plt.ylabel('RMSE')\n",
    "    plt.xlabel('epoch')\n",
    "    plt.legend(['train_RMSE', 'val_RMSE'], loc='best')\n",
    "    plt.show()"
   ]
  },
  {
   "cell_type": "code",
   "execution_count": 196,
   "metadata": {},
   "outputs": [],
   "source": [
    "def get_train_results(story, X_test, y_test):\n",
    "    ''' Get relevant training results. '''\n",
    "    #Apply show_history\n",
    "    show_history(story)\n",
    "    print('Best Val RMSE:', np.sqrt(min(story.history['val_loss'])))\n",
    "\n",
    "    # Get RMSE of the test set\n",
    "    score = model.evaluate(X_test, y_test, verbose=0)\n",
    "    print('Test RMSE:', np.sqrt(score))"
   ]
  },
  {
   "cell_type": "markdown",
   "metadata": {},
   "source": [
    "#### Model Structures & Tuning\n",
    "\n",
    "In general and for all structures the mean squared error (MSE) as `loss function` and a linear `activation function` in the output layer is used since the prediction is a regression task. The `activation function` of `hidden layers` is Relu in combination with the `inizializer` HeNormal. A 50% `dropout layer` is used after the first `hidden layer` to mitigate overfitting. The numbers of `epochs`  are always determined using early stopping and the `validation split` is set to 20% of the training data.\n",
    "\n",
    "At first the go to `optimizer` Adam with the default `learning rate` is utilized and a one `hidden layer` structure is used with a dimension of 2048 being larger then the `input` dimension. The `batch size` is fixed at the reasonable initial level of 64."
   ]
  },
  {
   "cell_type": "code",
   "execution_count": 198,
   "metadata": {},
   "outputs": [
    {
     "name": "stdout",
     "output_type": "stream",
     "text": [
      "Model: \"model_43\"\n",
      "_________________________________________________________________\n",
      "Layer (type)                 Output Shape              Param #   \n",
      "=================================================================\n",
      "input_44 (InputLayer)        [(None, 1683)]            0         \n",
      "_________________________________________________________________\n",
      "dense_107 (Dense)            (None, 2048)              3448832   \n",
      "_________________________________________________________________\n",
      "dropout_43 (Dropout)         (None, 2048)              0         \n",
      "_________________________________________________________________\n",
      "dense_108 (Dense)            (None, 1)                 2049      \n",
      "=================================================================\n",
      "Total params: 3,450,881\n",
      "Trainable params: 3,450,881\n",
      "Non-trainable params: 0\n",
      "_________________________________________________________________\n",
      "Restoring model weights from the end of the best epoch.\n",
      "Epoch 00019: early stopping\n",
      "Training the NN model took 2.67 mins.\n"
     ]
    }
   ],
   "source": [
    "start = time.time()\n",
    "\n",
    "# Set seed\n",
    "seed(1234)\n",
    "tf.random.set_seed(1234)\n",
    "\n",
    "# NN structure \n",
    "inputs = Input(shape=(X_train.shape[1],))\n",
    "layer1 = Dense(2048, activation='relu', kernel_initializer=initializers.he_normal(seed=123))(inputs)\n",
    "drop_layer1 = Dropout(1/2)(layer1)\n",
    "predictions = Dense(1, activation='linear')(drop_layer1)\n",
    "\n",
    "# Parameter\n",
    "batch_size = 64\n",
    "epochs = 50\n",
    "split = 0.2 \n",
    "\n",
    "# Define, compile and fit the model\n",
    "model = Model(inputs=inputs, outputs=predictions)\n",
    "model.summary()\n",
    "model.compile(loss='mean_squared_error', optimizer=optimizers.Adam())\n",
    "callbacks = [EarlyStopping(monitor='val_loss', patience=5, verbose=1, min_delta=0.01, restore_best_weights=True)]\n",
    "story = model.fit(X_train, y_train, batch_size=batch_size, epochs=epochs, validation_split=split, \n",
    "                  verbose=0, callbacks=callbacks, shuffle=True)\n",
    "print('Training the NN model took {} mins.'.format(round((time.time() - start) / 60, 2)))"
   ]
  },
  {
   "cell_type": "code",
   "execution_count": 199,
   "metadata": {},
   "outputs": [
    {
     "data": {
      "image/png": "[encoded data removed]",
      "text/plain": [
       "<Figure size 432x288 with 1 Axes>"
      ]
     },
     "metadata": {
      "needs_background": "light"
     },
     "output_type": "display_data"
    },
    {
     "name": "stdout",
     "output_type": "stream",
     "text": [
      "Best Val RMSE: 43.34466107324739\n",
      "Test RMSE: 43.3849361593039\n"
     ]
    }
   ],
   "source": [
    "#Apply get_train_results\n",
    "get_train_results(story, X_test, y_test)"
   ]
  },
  {
   "cell_type": "markdown",
   "metadata": {},
   "source": [
    "This already worked quite good even though the validation path is a bit jumpy. Adding a further hidden layer to get a deep structure seems reasonable. Herewith the NN should be able to capture complex non linear relationships in the data - as seen in 2.2 with `latitude` and `longitude` - better. Hence a hidden layer of dimension 512 is added which is simply half of the features remaining after the dropout layer."
   ]
  },
  {
   "cell_type": "code",
   "execution_count": 200,
   "metadata": {},
   "outputs": [
    {
     "name": "stdout",
     "output_type": "stream",
     "text": [
      "Model: \"model_44\"\n",
      "_________________________________________________________________\n",
      "Layer (type)                 Output Shape              Param #   \n",
      "=================================================================\n",
      "input_45 (InputLayer)        [(None, 1683)]            0         \n",
      "_________________________________________________________________\n",
      "dense_109 (Dense)            (None, 2048)              3448832   \n",
      "_________________________________________________________________\n",
      "dropout_44 (Dropout)         (None, 2048)              0         \n",
      "_________________________________________________________________\n",
      "dense_110 (Dense)            (None, 512)               1049088   \n",
      "_________________________________________________________________\n",
      "dense_111 (Dense)            (None, 1)                 513       \n",
      "=================================================================\n",
      "Total params: 4,498,433\n",
      "Trainable params: 4,498,433\n",
      "Non-trainable params: 0\n",
      "_________________________________________________________________\n",
      "Restoring model weights from the end of the best epoch.\n",
      "Epoch 00010: early stopping\n",
      "Training the final NN model took 1.95 mins.\n"
     ]
    }
   ],
   "source": [
    "start = time.time()\n",
    "\n",
    "# Set seed\n",
    "seed(1234)\n",
    "tf.random.set_seed(1234)\n",
    "\n",
    "# NN structure \n",
    "inputs = Input(shape=(X_train.shape[1],))\n",
    "layer1 = Dense(2048, activation='relu', kernel_initializer=initializers.he_normal(seed=123))(inputs)\n",
    "drop_layer1 = Dropout(1/2)(layer1)\n",
    "layer2 = Dense(512, activation='relu', kernel_initializer=initializers.he_normal(seed=123))(drop_layer1)\n",
    "predictions = Dense(1, activation='linear')(layer2)\n",
    "\n",
    "# Parameter\n",
    "lr = 1e-03   # Tried to tweak\n",
    "batch_size = 64\n",
    "epochs = 50\n",
    "split = 0.2 \n",
    "\n",
    "# Define, compile and fit the model\n",
    "model = Model(inputs=inputs, outputs=predictions)\n",
    "model.summary()\n",
    "model.compile(loss='mean_squared_error', optimizer=optimizers.Adam(learning_rate=lr))\n",
    "callbacks = [EarlyStopping(monitor='val_loss', patience=5, verbose=1, min_delta=0.01, restore_best_weights=True)]\n",
    "story = model.fit(X_train, y_train, batch_size=batch_size, epochs=epochs, validation_split=split, \n",
    "                  verbose=0, callbacks=callbacks, shuffle=True)\n",
    "\n",
    "print('Training the final NN model took {} mins.'.format(round((time.time() - start) / 60, 2)))"
   ]
  },
  {
   "cell_type": "code",
   "execution_count": 201,
   "metadata": {},
   "outputs": [
    {
     "data": {
      "image/png": "[encoded data removed]",
      "text/plain": [
       "<Figure size 432x288 with 1 Axes>"
      ]
     },
     "metadata": {
      "needs_background": "light"
     },
     "output_type": "display_data"
    },
    {
     "name": "stdout",
     "output_type": "stream",
     "text": [
      "Best Val RMSE: 43.87783360908515\n",
      "Test RMSE: 43.75578086807502\n"
     ]
    }
   ],
   "source": [
    "#Apply get_train_results\n",
    "get_train_results(story, X_test, y_test)"
   ]
  },
  {
   "cell_type": "markdown",
   "metadata": {},
   "source": [
    "The deep structure did not improve the result and made the validation path more instabile. Note that it was unsuccessfully tried to change the `leaning rate` to mitigate the problem but this either increased it or lowered the performance significantly. Hence a `optimizer` that may better suit this setting is considered. Since the data input formats vary - especially considering dummy features - and because of the complex deep structure with a large number of paramters, each dimension can have a different sensitivity towards the `learning rate` during backpropagation and gradient updates. To deal with this potential problem [Adagrad](https://golden.com/wiki/Adagrad) is exploited. It assigns a [parameter individual update](https://medium.com/konvergen/an-introduction-to-adagrad-f130ae871827) with a scaled `learning rate` according to the history of gradients resulting in smaller updates for frequently updated parameters. `learning rate`"
   ]
  },
  {
   "cell_type": "code",
   "execution_count": 202,
   "metadata": {},
   "outputs": [
    {
     "name": "stdout",
     "output_type": "stream",
     "text": [
      "Model: \"model_45\"\n",
      "_________________________________________________________________\n",
      "Layer (type)                 Output Shape              Param #   \n",
      "=================================================================\n",
      "input_46 (InputLayer)        [(None, 1683)]            0         \n",
      "_________________________________________________________________\n",
      "dense_112 (Dense)            (None, 2048)              3448832   \n",
      "_________________________________________________________________\n",
      "dropout_45 (Dropout)         (None, 2048)              0         \n",
      "_________________________________________________________________\n",
      "dense_113 (Dense)            (None, 512)               1049088   \n",
      "_________________________________________________________________\n",
      "dense_114 (Dense)            (None, 1)                 513       \n",
      "=================================================================\n",
      "Total params: 4,498,433\n",
      "Trainable params: 4,498,433\n",
      "Non-trainable params: 0\n",
      "_________________________________________________________________\n",
      "Epoch 1/50\n",
      "553/553 [==============================] - 12s 21ms/step - loss: 2605.7839 - val_loss: 2191.0283\n",
      "Epoch 2/50\n",
      "553/553 [==============================] - 12s 21ms/step - loss: 2185.3489 - val_loss: 2098.4929\n",
      "Epoch 3/50\n",
      "553/553 [==============================] - 12s 22ms/step - loss: 2071.2542 - val_loss: 2040.4108\n",
      "Epoch 4/50\n",
      "553/553 [==============================] - 11s 20ms/step - loss: 1985.4480 - val_loss: 2005.9891\n",
      "Epoch 5/50\n",
      "553/553 [==============================] - 11s 20ms/step - loss: 1943.6593 - val_loss: 1973.9915\n",
      "Epoch 6/50\n",
      "553/553 [==============================] - 11s 20ms/step - loss: 1879.6764 - val_loss: 1949.5575\n",
      "Epoch 7/50\n",
      "553/553 [==============================] - 11s 21ms/step - loss: 1820.0620 - val_loss: 1941.2446\n",
      "Epoch 8/50\n",
      "553/553 [==============================] - 11s 21ms/step - loss: 1777.1560 - val_loss: 1922.5668\n",
      "Epoch 9/50\n",
      "553/553 [==============================] - 11s 20ms/step - loss: 1717.5261 - val_loss: 1913.0637\n",
      "Epoch 10/50\n",
      "553/553 [==============================] - 11s 21ms/step - loss: 1663.8995 - val_loss: 1902.9688\n",
      "Epoch 11/50\n",
      "553/553 [==============================] - 11s 21ms/step - loss: 1613.8409 - val_loss: 1888.5729\n",
      "Epoch 12/50\n",
      "553/553 [==============================] - 11s 21ms/step - loss: 1561.4915 - val_loss: 1885.3518\n",
      "Epoch 13/50\n",
      "553/553 [==============================] - 11s 20ms/step - loss: 1521.9882 - val_loss: 1875.9489\n",
      "Epoch 14/50\n",
      "553/553 [==============================] - 11s 20ms/step - loss: 1477.6204 - val_loss: 1876.2378\n",
      "Epoch 15/50\n",
      "553/553 [==============================] - 11s 21ms/step - loss: 1427.4540 - val_loss: 1878.1342\n",
      "Epoch 16/50\n",
      "553/553 [==============================] - 11s 20ms/step - loss: 1379.4688 - val_loss: 1899.9125\n",
      "Epoch 17/50\n",
      "553/553 [==============================] - 11s 21ms/step - loss: 1327.5419 - val_loss: 1863.5552\n",
      "Epoch 18/50\n",
      "553/553 [==============================] - 11s 21ms/step - loss: 1282.3319 - val_loss: 1899.8403\n",
      "Epoch 19/50\n",
      "553/553 [==============================] - 11s 20ms/step - loss: 1248.0446 - val_loss: 1864.1433\n",
      "Epoch 20/50\n",
      "553/553 [==============================] - 11s 20ms/step - loss: 1196.0087 - val_loss: 1876.9830\n",
      "Epoch 21/50\n",
      "553/553 [==============================] - 11s 21ms/step - loss: 1161.4996 - val_loss: 1868.8129\n",
      "Epoch 22/50\n",
      "553/553 [==============================] - 11s 20ms/step - loss: 1129.8315 - val_loss: 1852.9659\n",
      "Epoch 23/50\n",
      "553/553 [==============================] - 11s 21ms/step - loss: 1088.1873 - val_loss: 1875.7101\n",
      "Epoch 24/50\n",
      "553/553 [==============================] - 11s 21ms/step - loss: 1043.3195 - val_loss: 1887.2500\n",
      "Epoch 25/50\n",
      "553/553 [==============================] - 11s 20ms/step - loss: 1021.6052 - val_loss: 1893.7339\n",
      "Epoch 26/50\n",
      "553/553 [==============================] - 11s 20ms/step - loss: 986.6731 - val_loss: 1880.4403\n",
      "Epoch 27/50\n",
      "553/553 [==============================] - 11s 20ms/step - loss: 949.6690 - val_loss: 1874.1313\n",
      "Restoring model weights from the end of the best epoch.\n",
      "Epoch 00027: early stopping\n",
      "Training the final NN model took 5.14 mins.\n"
     ]
    }
   ],
   "source": [
    "start = time.time()\n",
    "\n",
    "# Set seed\n",
    "seed(1234)\n",
    "tf.random.set_seed(1234)\n",
    "\n",
    "# NN structure \n",
    "inputs = Input(shape=(X_train.shape[1],))\n",
    "layer1 = Dense(2048, activation='relu', kernel_initializer=initializers.he_normal(seed=123))(inputs)\n",
    "drop_layer1 = Dropout(1/2)(layer1)\n",
    "layer2 = Dense(512, activation='relu', kernel_initializer=initializers.he_normal(seed=123))(drop_layer1)\n",
    "predictions = Dense(1, activation='linear')(layer2)\n",
    "\n",
    "# Parameter\n",
    "lr = 6e-03\n",
    "batch_size = 64\n",
    "epochs = 50\n",
    "split = 0.2 \n",
    "\n",
    "# Define, compile and fit the model\n",
    "model = Model(inputs=inputs, outputs=predictions)\n",
    "model.summary()\n",
    "model.compile(loss='mean_squared_error', optimizer=optimizers.Adagrad(learning_rate=lr))\n",
    "callbacks = [EarlyStopping(monitor='val_loss', patience=5, verbose=1, min_delta=0.01, restore_best_weights=True)]\n",
    "story = model.fit(X_train, y_train, batch_size=batch_size, epochs=epochs, validation_split=split, \n",
    "                  verbose=1, callbacks=callbacks, shuffle=True)\n",
    "\n",
    "print('Training the final NN model took {} mins.'.format(round((time.time() - start) / 60, 2)))"
   ]
  },
  {
   "cell_type": "code",
   "execution_count": 203,
   "metadata": {},
   "outputs": [
    {
     "data": {
      "image/png": "[encoded data removed]",
      "text/plain": [
       "<Figure size 432x288 with 1 Axes>"
      ]
     },
     "metadata": {
      "needs_background": "light"
     },
     "output_type": "display_data"
    },
    {
     "name": "stdout",
     "output_type": "stream",
     "text": [
      "Best Val RMSE: 43.04609090710575\n",
      "Test RMSE: 42.963239703499\n"
     ]
    }
   ],
   "source": [
    "#Apply get_train_results\n",
    "get_train_results(story, X_test, y_test)"
   ]
  },
  {
   "cell_type": "markdown",
   "metadata": {},
   "source": [
    "Changing the `optimizer` proved to be beneficial. Note that the `learning rate` as well as the `batch size` where tweaked several times and hence determined via trial-and-error. Further it was tried to go back to one `hidden layer` using Adagrad which did not yield a improvement. Hence having early stoppen after 22 `epochs` the above NN structure resembles the final NN model."
   ]
  },
  {
   "cell_type": "markdown",
   "metadata": {},
   "source": [
    "#### Final Model & Predictions\n",
    "\n",
    "The NN model is now trained on the whole `df_known_nlp` dataset."
   ]
  },
  {
   "cell_type": "code",
   "execution_count": 204,
   "metadata": {},
   "outputs": [
    {
     "name": "stdout",
     "output_type": "stream",
     "text": [
      "Training the final NN model took 5.73 mins.\n"
     ]
    }
   ],
   "source": [
    "start = time.time()\n",
    "\n",
    "# Set seed \n",
    "seed(1234)\n",
    "tf.random.set_seed(1234)\n",
    "\n",
    "# Building the model\n",
    "inputs = Input(shape=(df_known_nlp.drop(['price']+clean, axis=1).copy().shape[1],))\n",
    "layer1 = Dense(2048, activation='relu', kernel_initializer=initializers.he_normal(seed=123))(inputs)\n",
    "drop_layer1 = Dropout(0.5)(layer1)\n",
    "layer2 = Dense(512, activation='relu', kernel_initializer=initializers.he_normal(seed=123))(drop_layer1)\n",
    "predictions = Dense(1, activation='linear')(layer2)\n",
    "\n",
    "# Parameter\n",
    "lr = 6e-03 \n",
    "batch_size = 64\n",
    "epochs = 22\n",
    "\n",
    "# Compile and fit the model\n",
    "model = Model(inputs=inputs, outputs=predictions)\n",
    "model.compile(loss='mean_squared_error', optimizer=optimizers.Adagrad(learning_rate=lr))\n",
    "model.fit(df_known_nlp.drop(['price']+clean, axis=1).copy(), df_known_nlp.price,\n",
    "          batch_size=batch_size, epochs=epochs, verbose=0, shuffle=True)\n",
    "\n",
    "print('Training the final NN model took {} mins.'.format(round((time.time() - start) / 60, 2)))"
   ]
  },
  {
   "cell_type": "markdown",
   "metadata": {},
   "source": [
    "With this model the predictions of `price` are generated. As seen in section 2.5 the prices do not have high variation with only 476 unique price options. However the model provides a greater range of price predictions and even up to several digits. Hence the predictions are transformed to the closest `price` provided by `df_known` to make it a realistic and comparable Airbnb price option. Considering the pricing use-case of the introduction this indicates the competitors price someone faces. It even showed to improve the Kaggle challenge result slightly."
   ]
  },
  {
   "cell_type": "code",
   "execution_count": 205,
   "metadata": {},
   "outputs": [],
   "source": [
    "# Generate price predictions for df_unknown\n",
    "predictions = model.predict(df_unknown_nlp.drop(clean, axis=1).copy())\n",
    "\n",
    "# Transform predictions - due to the low variation in the target price - to the prices that occured in df_known  \n",
    "price_list = []\n",
    "for i in predictions:\n",
    "    price_list.append(min(list(df_known.price.unique()), key=lambda x:abs(x-i)))"
   ]
  },
  {
   "cell_type": "markdown",
   "metadata": {},
   "source": [
    "Finally the predictions are prepared and written to the notebook directory. [Submitting them to Kaggle](https://www.dropbox.com/sh/5of2lc58qmkk8bk/AADzQndCICjT1lAQo6Mp3RHFa?dl=0) yields a public leaderboard RMSE score of 43.976  and a privat leaderboard RMSE score of 42.851. Note that this scores can vary slightly per notebook run since the random states do not work properly with SBERT."
   ]
  },
  {
   "cell_type": "code",
   "execution_count": 206,
   "metadata": {},
   "outputs": [
    {
     "data": {
      "text/html": [
       "<div>\n",
       "<style scoped>\n",
       "    .dataframe tbody tr th:only-of-type {\n",
       "        vertical-align: middle;\n",
       "    }\n",
       "\n",
       "    .dataframe tbody tr th {\n",
       "        vertical-align: top;\n",
       "    }\n",
       "\n",
       "    .dataframe thead th {\n",
       "        text-align: right;\n",
       "    }\n",
       "</style>\n",
       "<table border=\"1\" class=\"dataframe\">\n",
       "  <thead>\n",
       "    <tr style=\"text-align: right;\">\n",
       "      <th></th>\n",
       "      <th>listing_id</th>\n",
       "      <th>price</th>\n",
       "    </tr>\n",
       "  </thead>\n",
       "  <tbody>\n",
       "    <tr>\n",
       "      <th>0</th>\n",
       "      <td>0FEMC4VA5U</td>\n",
       "      <td>115.0</td>\n",
       "    </tr>\n",
       "    <tr>\n",
       "      <th>1</th>\n",
       "      <td>PQ2BYEO0QR</td>\n",
       "      <td>169.0</td>\n",
       "    </tr>\n",
       "    <tr>\n",
       "      <th>2</th>\n",
       "      <td>3FP6WFHUBN</td>\n",
       "      <td>95.0</td>\n",
       "    </tr>\n",
       "    <tr>\n",
       "      <th>3</th>\n",
       "      <td>GG0V2KDG90</td>\n",
       "      <td>69.0</td>\n",
       "    </tr>\n",
       "    <tr>\n",
       "      <th>4</th>\n",
       "      <td>TZVVK4YSIO</td>\n",
       "      <td>130.0</td>\n",
       "    </tr>\n",
       "  </tbody>\n",
       "</table>\n",
       "</div>"
      ],
      "text/plain": [
       "   listing_id  price\n",
       "0  0FEMC4VA5U  115.0\n",
       "1  PQ2BYEO0QR  169.0\n",
       "2  3FP6WFHUBN   95.0\n",
       "3  GG0V2KDG90   69.0\n",
       "4  TZVVK4YSIO  130.0"
      ]
     },
     "execution_count": 206,
     "metadata": {},
     "output_type": "execute_result"
    }
   ],
   "source": [
    "# Prepare submission data frame \n",
    "listings = pd.DataFrame(listing_ids, columns=['listing_id'], index=df_unknown_nlp.index)\n",
    "listings['price'] = price_list\n",
    "\n",
    "# Write submisstion to csv and show head entries\n",
    "listings.to_csv('submission.csv', index = False)\n",
    "listings.head()"
   ]
  },
  {
   "cell_type": "markdown",
   "metadata": {},
   "source": [
    "## 7. Conclusion <a class='anchor' id='seventh-bullet'></a>\n",
    "\n",
    "The aim of this assignment was to predict Airbnb prices using and combining both tabular data and text data. This was approached by extracting features from the text data using NLP techniques and merging them with the tabular data for the downstream task. After EDA and the pre-processing of the non-text data several promising features could be generate during feature engineering. The text data pre-processing entailed a language detection, data cleaning for the NLP methods with a special treatment of numbers as well as a correction of miswritten words, contractions and abbreviations. \n",
    "\n",
    "Based on this the NLP techniques were a LSA, a fine-tuned SBERT model and RNNs. The latter two made use of transfer learning. Regarding the individual prediction of the extracted features - measured heuristically with a LR model - the GRU showed the best performance, followed by the SBERT model and the LSA. However the potential for further improvements for the RNNs and the LSA can be considered small. Whereas the SBERT model shows high potential for further fine-tuning with further examples and by using all training data pars but here the computational burdens cannot be neglected. Hence training on the GPU would be a requirement then. Against that LSA is a fast and out-of-the-box NLP method. The RNNs require just some parameter and structure tuning but here it is obscure how to include them best into the downsteam task. A direct training in the downstream task using `concatenate` could be a alternative to the here used model stacking but would require a entirely new structure.  \n",
    "\n",
    "Overall, given the heuristic individual NLP prediction RMSE results and the non-text data RMSE of 51.704 as measured heuristically with a LASSO model in section 4.2, every NLP method can be considered to have a positiv contibution in the downstream task. The predictions and the final RMSE result was produced with the optimizer Adagrad in a Deep NN structure.\n",
    "\n",
    "The possible approaches that can be used for this assignment seem to be comprehensive and diverse therefore a lot was leaned during solving it."
   ]
  },
  {
   "cell_type": "markdown",
   "metadata": {},
   "source": [
    "## 8. Literature <a class='anchor' id='eight-bullet'></a>"
   ]
  },
  {
   "cell_type": "markdown",
   "metadata": {},
   "source": [
    "- Reimers, N., & Gurevych, I. (2019). Sentence-bert: Sentence embeddings using siamese bert-networks. arXiv preprint arXiv:1908.10084."
   ]
  }
 ],
 "metadata": {
  "kernelspec": {
   "display_name": "Python 3 (ipykernel)",
   "language": "python",
   "name": "python3"
  },
  "language_info": {
   "codemirror_mode": {
    "name": "ipython",
    "version": 3
   },
   "file_extension": ".py",
   "mimetype": "text/x-python",
   "name": "python",
   "nbconvert_exporter": "python",
   "pygments_lexer": "ipython3",
   "version": "3.9.7"
  }
 },
 "nbformat": 4,
 "nbformat_minor": 4
}
